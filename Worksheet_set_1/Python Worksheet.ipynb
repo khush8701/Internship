{
 "cells": [
  {
   "cell_type": "code",
   "execution_count": null,
   "id": "651cdc83",
   "metadata": {},
   "outputs": [],
   "source": [
    "# Question 11\n",
    "\n",
    "x=int(input('Enter the number: '))\n",
    "factorial=1\n",
    "if x<0:\n",
    "    print('Sorry factorial of negative number doesnot exit')\n",
    "elif x==0:\n",
    "    print('The Factorial of 0 is 1')\n",
    "else:\n",
    "    for i in range(1,x+1):\n",
    "        factorial=factorial*i\n",
    "    print('The factorial of', x ,'is', factorial,'.')"
   ]
  },
  {
   "cell_type": "code",
   "execution_count": null,
   "id": "76df417b",
   "metadata": {},
   "outputs": [],
   "source": [
    "# Question 12\n",
    "\n",
    "n=int(input(\"Enter a number:\"))\n",
    "if n>1:\n",
    "    for i in range(2,n//2):\n",
    "        if(n%i)==0:\n",
    "            print(n,\"is not a prime number\")\n",
    "            break\n",
    "    else:\n",
    "        print(n,\"is a prime number\")\n",
    "else:\n",
    "    print(n,\"is neither prime nor composite\")"
   ]
  },
  {
   "cell_type": "code",
   "execution_count": null,
   "id": "785edf5d",
   "metadata": {},
   "outputs": [],
   "source": [
    "# Question 13\n",
    "\n",
    "x = str(input('Enter the string: '))\n",
    " \n",
    "w = \"\"\n",
    "for i in x:\n",
    "    w = i + w\n",
    " \n",
    "if (x == w):\n",
    "    print(\" The given string is palindrome\")\n",
    "else:\n",
    "    print(\"The given string is not a palindrome\")"
   ]
  },
  {
   "cell_type": "code",
   "execution_count": null,
   "id": "439577ec",
   "metadata": {},
   "outputs": [],
   "source": [
    "# Question 14\n",
    "\n",
    "x= float(input('Enter the value of first side: '))\n",
    "y= float(input('Enter the value of second side: '))\n",
    "z= (x**2+y**2)**(0.5)\n",
    "\n",
    "print('The value of third side is', z)"
   ]
  },
  {
   "cell_type": "code",
   "execution_count": null,
   "id": "818e92f8",
   "metadata": {},
   "outputs": [],
   "source": [
    "# Question 15\n",
    "\n",
    "x= str(input (\"Enter the string: \"))\n",
    "d = dict()\n",
    "for i in x:\n",
    "    d[i] = d.get(i, 0) + 1\n",
    "print(d)"
   ]
  },
  {
   "cell_type": "code",
   "execution_count": null,
   "id": "f8a5d1c1",
   "metadata": {},
   "outputs": [],
   "source": []
  }
 ],
 "metadata": {
  "kernelspec": {
   "display_name": "Python 3 (ipykernel)",
   "language": "python",
   "name": "python3"
  },
  "language_info": {
   "codemirror_mode": {
    "name": "ipython",
    "version": 3
   },
   "file_extension": ".py",
   "mimetype": "text/x-python",
   "name": "python",
   "nbconvert_exporter": "python",
   "pygments_lexer": "ipython3",
   "version": "3.9.7"
  }
 },
 "nbformat": 4,
 "nbformat_minor": 5
}
