{
 "cells": [
  {
   "cell_type": "markdown",
   "id": "0c39a8bb",
   "metadata": {},
   "source": [
    "### Problem Statement"
   ]
  },
  {
   "cell_type": "markdown",
   "id": "9c1a4f4a",
   "metadata": {},
   "source": [
    "Data Collection Phase\n",
    "\n",
    "\n",
    "\n",
    "You have to scrape at least 5000 used cars data. You can scrape more data as well, it’s up to you. more the data better the model\n",
    "In this section You need to scrape the data of used cars from websites (Olx, cardekho, Cars24 etc.) You need web scraping for this. You have to fetch data for different locations. The number of\n",
    "columns for data doesn’t have limit, it’s up to you and your creativity. Generally, these columns are Brand, model, variant, manufacturing year, driven kilometers, fuel, number of owners, location and at last target variable Price of the car. This data is to give you a hint about important variables in used car model. You can make changes to it, you can add or you can remove some columns, it completely depends on the website from which you are fetching the data.\n",
    "Try to include all types of cars in your data for example- SUV, Sedans, Coupe, minivan, Hatchback."
   ]
  },
  {
   "cell_type": "code",
   "execution_count": 1,
   "id": "61eb1cca",
   "metadata": {},
   "outputs": [],
   "source": [
    "#importing the libraries\n",
    "\n",
    "import selenium\n",
    "from selenium import webdriver\n",
    "import pandas as pd\n",
    "import time\n",
    "import warnings\n",
    "warnings.filterwarnings('ignore')\n",
    "from selenium.common.exceptions import StaleElementReferenceException, NoSuchElementException"
   ]
  },
  {
   "cell_type": "code",
   "execution_count": 2,
   "id": "053142e6",
   "metadata": {},
   "outputs": [],
   "source": [
    "driver = webdriver.Chrome('chromedriver.exe')  #intiating the chrome"
   ]
  },
  {
   "cell_type": "code",
   "execution_count": 3,
   "id": "b4063da3",
   "metadata": {},
   "outputs": [],
   "source": [
    "#getting the website\n",
    "\n",
    "driver.get('https://www.cars24.com/buy-used-cars/')\n",
    "time.sleep(2)\n",
    "driver.maximize_window()\n",
    "try:\n",
    "    cross=driver.find_element_by_xpath('//div[@class=\"float-right TBxAN\"]')\n",
    "    cross.click()\n",
    "except:\n",
    "    pass\n",
    "\n",
    "time.sleep(2)"
   ]
  },
  {
   "cell_type": "code",
   "execution_count": 4,
   "id": "e18ad900",
   "metadata": {
    "scrolled": true
   },
   "outputs": [],
   "source": [
    "name=driver.find_element_by_xpath('//ul[@class=\"popularCities _16Bvy\"]//li//img')  #click on first city\n",
    "name.click()"
   ]
  },
  {
   "cell_type": "code",
   "execution_count": 5,
   "id": "63e9fa32",
   "metadata": {},
   "outputs": [],
   "source": [
    "#creating the blank lists\n",
    "\n",
    "name=[]\n",
    "model=[]\n",
    "Type=[]\n",
    "Year=[]\n",
    "Distance=[]\n",
    "Fuel=[]\n",
    "Owner=[]\n",
    "Price=[]\n",
    "\n",
    "for _ in range(10000):\n",
    "    driver.execute_script(\"window.scrollBy(0,1000000)\")\n",
    "time.sleep(2)\n",
    "    "
   ]
  },
  {
   "cell_type": "code",
   "execution_count": 6,
   "id": "e1502dba",
   "metadata": {},
   "outputs": [],
   "source": [
    "#extracting the data\n",
    "\n",
    "for i in driver.find_elements_by_xpath('//h2[@class=\"_3FpCg\"]'):\n",
    "    name.append(i.text.split(\" \",1)[1])\n",
    "        \n",
    "for i in driver.find_elements_by_xpath('//h2[@class=\"_3FpCg\"]'):\n",
    "    Year.append(i.text.split(\" \",1)[0])\n",
    "        \n",
    "for i in driver.find_elements_by_xpath('//ul[@class=\"bVR0c\"]//li[1]'):\n",
    "    Distance.append(i.text)\n",
    "        \n",
    "for i in driver.find_elements_by_xpath('//ul[@class=\"bVR0c\"]//li[2]'):\n",
    "    Owner.append(i.text)\n",
    "        \n",
    "for i in driver.find_elements_by_xpath('//ul[@class=\"bVR0c\"]//li[3]'):\n",
    "    Fuel.append(i.text)\n",
    "        \n",
    "for i in driver.find_elements_by_xpath('//p[@class=\"cvakB\"]//span'):\n",
    "    Type.append(i.text)\n",
    "        \n",
    "for i in driver.find_elements_by_xpath('//p[@class=\"cvakB\"]'):\n",
    "    model.append(i.text.rsplit(\" \",1)[0])\n",
    "        \n",
    "for i in driver.find_elements_by_xpath('//div[@class=\"_7udZZ\"]//span'):\n",
    "    Price.append(i.text.split(\"₹\")[1])\n",
    "        \n",
    "        "
   ]
  },
  {
   "cell_type": "code",
   "execution_count": 7,
   "id": "d29831e1",
   "metadata": {},
   "outputs": [
    {
     "data": {
      "text/plain": [
       "(701, 701, 701, 701, 701, 701, 701, 701)"
      ]
     },
     "execution_count": 7,
     "metadata": {},
     "output_type": "execute_result"
    }
   ],
   "source": [
    "len(Owner),len(name),len(Year),len(model),len(Distance),len(Price),len(Type),len(Fuel)"
   ]
  },
  {
   "cell_type": "code",
   "execution_count": 8,
   "id": "86c8d126",
   "metadata": {},
   "outputs": [],
   "source": [
    "place=driver.find_element_by_xpath('//p[@class=\"_1V4-O\"]//img')\n",
    "place.click()"
   ]
  },
  {
   "cell_type": "code",
   "execution_count": 9,
   "id": "2904c1ac",
   "metadata": {},
   "outputs": [],
   "source": [
    "noida=driver.find_element_by_xpath('//ul[@class=\"popularCities _16Bvy\"]//li[2]//span//img')\n",
    "noida.click()"
   ]
  },
  {
   "cell_type": "code",
   "execution_count": 10,
   "id": "63bb830f",
   "metadata": {},
   "outputs": [],
   "source": [
    "for _ in range(10000):\n",
    "    driver.execute_script(\"window.scrollBy(0,1000000)\")\n",
    "time.sleep(3)"
   ]
  },
  {
   "cell_type": "code",
   "execution_count": 11,
   "id": "111c50e0",
   "metadata": {},
   "outputs": [],
   "source": [
    "for i in driver.find_elements_by_xpath('//h2[@class=\"_3FpCg\"]'):\n",
    "    name.append(i.text.split(\" \",1)[1])\n",
    "        \n",
    "for i in driver.find_elements_by_xpath('//h2[@class=\"_3FpCg\"]'):\n",
    "    Year.append(i.text.split(\" \",1)[0])\n",
    "        \n",
    "for i in driver.find_elements_by_xpath('//ul[@class=\"bVR0c\"]//li[1]'):\n",
    "    Distance.append(i.text)\n",
    "        \n",
    "for i in driver.find_elements_by_xpath('//ul[@class=\"bVR0c\"]//li[2]'):\n",
    "    Owner.append(i.text)\n",
    "        \n",
    "for i in driver.find_elements_by_xpath('//ul[@class=\"bVR0c\"]//li[3]'):\n",
    "    Fuel.append(i.text)\n",
    "        \n",
    "for i in driver.find_elements_by_xpath('//p[@class=\"cvakB\"]//span'):\n",
    "    Type.append(i.text)\n",
    "        \n",
    "for i in driver.find_elements_by_xpath('//p[@class=\"cvakB\"]'):\n",
    "    model.append(i.text.rsplit(\" \",1)[0])\n",
    "        \n",
    "for i in driver.find_elements_by_xpath('//div[@class=\"_7udZZ\"]//span'):\n",
    "    Price.append(i.text.split(\"₹\")[1])\n",
    "        \n",
    "        "
   ]
  },
  {
   "cell_type": "code",
   "execution_count": 12,
   "id": "c2f38666",
   "metadata": {},
   "outputs": [
    {
     "data": {
      "text/plain": [
       "(1382, 1382, 1382, 1382, 1382, 1382, 1382, 1382)"
      ]
     },
     "execution_count": 12,
     "metadata": {},
     "output_type": "execute_result"
    }
   ],
   "source": [
    "len(Owner),len(name),len(Year),len(model),len(Distance),len(Price),len(Type),len(Fuel)"
   ]
  },
  {
   "cell_type": "code",
   "execution_count": 13,
   "id": "0ae5b8dd",
   "metadata": {},
   "outputs": [],
   "source": [
    "place=driver.find_element_by_xpath('//p[@class=\"_1V4-O\"]//img')\n",
    "place.click()\n",
    "gurgaon=driver.find_element_by_xpath('//ul[@class=\"popularCities _16Bvy\"]//li[3]//span//img')\n",
    "gurgaon.click()"
   ]
  },
  {
   "cell_type": "code",
   "execution_count": 14,
   "id": "69f38263",
   "metadata": {},
   "outputs": [],
   "source": [
    "for _ in range(10000):\n",
    "    driver.execute_script(\"window.scrollBy(0,1000000)\")\n",
    "time.sleep(3)"
   ]
  },
  {
   "cell_type": "code",
   "execution_count": 15,
   "id": "5ae161dc",
   "metadata": {},
   "outputs": [],
   "source": [
    "for i in driver.find_elements_by_xpath('//h2[@class=\"_3FpCg\"]'):\n",
    "    name.append(i.text.split(\" \",1)[1])\n",
    "        \n",
    "for i in driver.find_elements_by_xpath('//h2[@class=\"_3FpCg\"]'):\n",
    "    Year.append(i.text.split(\" \",1)[0])\n",
    "        \n",
    "for i in driver.find_elements_by_xpath('//ul[@class=\"bVR0c\"]//li[1]'):\n",
    "    Distance.append(i.text)\n",
    "        \n",
    "for i in driver.find_elements_by_xpath('//ul[@class=\"bVR0c\"]//li[2]'):\n",
    "    Owner.append(i.text)\n",
    "        \n",
    "for i in driver.find_elements_by_xpath('//ul[@class=\"bVR0c\"]//li[3]'):\n",
    "    Fuel.append(i.text)\n",
    "        \n",
    "for i in driver.find_elements_by_xpath('//p[@class=\"cvakB\"]//span'):\n",
    "    Type.append(i.text)\n",
    "        \n",
    "for i in driver.find_elements_by_xpath('//p[@class=\"cvakB\"]'):\n",
    "    model.append(i.text.rsplit(\" \",1)[0])\n",
    "        \n",
    "for i in driver.find_elements_by_xpath('//div[@class=\"_7udZZ\"]//span'):\n",
    "    Price.append(i.text.split(\"₹\")[1])\n",
    "        \n",
    "        "
   ]
  },
  {
   "cell_type": "code",
   "execution_count": 16,
   "id": "11033498",
   "metadata": {},
   "outputs": [
    {
     "data": {
      "text/plain": [
       "(2063, 2063, 2063, 2063, 2063, 2063, 2063, 2063)"
      ]
     },
     "execution_count": 16,
     "metadata": {},
     "output_type": "execute_result"
    }
   ],
   "source": [
    "len(Owner),len(name),len(Year),len(model),len(Distance),len(Price),len(Type),len(Fuel)"
   ]
  },
  {
   "cell_type": "code",
   "execution_count": 17,
   "id": "7d6119c9",
   "metadata": {},
   "outputs": [],
   "source": [
    "place=driver.find_element_by_xpath('//p[@class=\"_1V4-O\"]//img')\n",
    "place.click()\n",
    "mumbai=driver.find_element_by_xpath('//ul[@class=\"popularCities _16Bvy\"]//li[4]//span//img')\n",
    "mumbai.click()"
   ]
  },
  {
   "cell_type": "code",
   "execution_count": 18,
   "id": "c37d759d",
   "metadata": {},
   "outputs": [],
   "source": [
    "for _ in range(10000):\n",
    "    driver.execute_script(\"window.scrollBy(0,1000000)\")\n",
    "time.sleep(3)"
   ]
  },
  {
   "cell_type": "code",
   "execution_count": 19,
   "id": "b0331315",
   "metadata": {},
   "outputs": [
    {
     "name": "stdout",
     "output_type": "stream",
     "text": [
      "2704 2704 2704 2704 2704 2704 2704 2704\n"
     ]
    }
   ],
   "source": [
    "for i in driver.find_elements_by_xpath('//h2[@class=\"_3FpCg\"]'):\n",
    "    name.append(i.text.split(\" \",1)[1])\n",
    "        \n",
    "for i in driver.find_elements_by_xpath('//h2[@class=\"_3FpCg\"]'):\n",
    "    Year.append(i.text.split(\" \",1)[0])\n",
    "        \n",
    "for i in driver.find_elements_by_xpath('//ul[@class=\"bVR0c\"]//li[1]'):\n",
    "    Distance.append(i.text)\n",
    "        \n",
    "for i in driver.find_elements_by_xpath('//ul[@class=\"bVR0c\"]//li[2]'):\n",
    "    Owner.append(i.text)\n",
    "        \n",
    "for i in driver.find_elements_by_xpath('//ul[@class=\"bVR0c\"]//li[3]'):\n",
    "    Fuel.append(i.text)\n",
    "        \n",
    "for i in driver.find_elements_by_xpath('//p[@class=\"cvakB\"]//span'):\n",
    "    Type.append(i.text)\n",
    "        \n",
    "for i in driver.find_elements_by_xpath('//p[@class=\"cvakB\"]'):\n",
    "    model.append(i.text.rsplit(\" \",1)[0])\n",
    "        \n",
    "for i in driver.find_elements_by_xpath('//div[@class=\"_7udZZ\"]//span'):\n",
    "    Price.append(i.text.split(\"₹\")[1])\n",
    "        \n",
    "print(len(Owner),len(name),len(Year),len(model),len(Distance),len(Price),len(Type),len(Fuel))"
   ]
  },
  {
   "cell_type": "code",
   "execution_count": 20,
   "id": "67d3bf83",
   "metadata": {},
   "outputs": [],
   "source": [
    "place=driver.find_element_by_xpath('//p[@class=\"_1V4-O\"]//img')\n",
    "place.click()\n",
    "pune=driver.find_element_by_xpath('//ul[@class=\"popularCities _16Bvy\"]//li[5]//span//img')\n",
    "pune.click()"
   ]
  },
  {
   "cell_type": "code",
   "execution_count": 21,
   "id": "35aa048c",
   "metadata": {},
   "outputs": [],
   "source": [
    "for _ in range(10000):\n",
    "    driver.execute_script(\"window.scrollBy(0,1000000)\")\n",
    "time.sleep(3)"
   ]
  },
  {
   "cell_type": "code",
   "execution_count": 22,
   "id": "4470c5d4",
   "metadata": {},
   "outputs": [
    {
     "name": "stdout",
     "output_type": "stream",
     "text": [
      "3177 3177 3177 3177 3177 3177 3177 3177\n"
     ]
    }
   ],
   "source": [
    "for i in driver.find_elements_by_xpath('//h2[@class=\"_3FpCg\"]'):\n",
    "    name.append(i.text.split(\" \",1)[1])\n",
    "        \n",
    "for i in driver.find_elements_by_xpath('//h2[@class=\"_3FpCg\"]'):\n",
    "    Year.append(i.text.split(\" \",1)[0])\n",
    "        \n",
    "for i in driver.find_elements_by_xpath('//ul[@class=\"bVR0c\"]//li[1]'):\n",
    "    Distance.append(i.text)\n",
    "        \n",
    "for i in driver.find_elements_by_xpath('//ul[@class=\"bVR0c\"]//li[2]'):\n",
    "    Owner.append(i.text)\n",
    "        \n",
    "for i in driver.find_elements_by_xpath('//ul[@class=\"bVR0c\"]//li[3]'):\n",
    "    Fuel.append(i.text)\n",
    "        \n",
    "for i in driver.find_elements_by_xpath('//p[@class=\"cvakB\"]//span'):\n",
    "    Type.append(i.text)\n",
    "        \n",
    "for i in driver.find_elements_by_xpath('//p[@class=\"cvakB\"]'):\n",
    "    model.append(i.text.rsplit(\" \",1)[0])\n",
    "        \n",
    "for i in driver.find_elements_by_xpath('//div[@class=\"_7udZZ\"]//span'):\n",
    "    Price.append(i.text.split(\"₹\")[1])\n",
    "        \n",
    "print(len(Owner),len(name),len(Year),len(model),len(Distance),len(Price),len(Type),len(Fuel))"
   ]
  },
  {
   "cell_type": "code",
   "execution_count": 23,
   "id": "4ca2cbd2",
   "metadata": {},
   "outputs": [],
   "source": [
    "place=driver.find_element_by_xpath('//p[@class=\"_1V4-O\"]//img')\n",
    "place.click()\n",
    "bengaluru=driver.find_element_by_xpath('//ul[@class=\"popularCities _16Bvy\"]//li[6]//span//img')\n",
    "bengaluru.click()"
   ]
  },
  {
   "cell_type": "code",
   "execution_count": 24,
   "id": "a70e3b26",
   "metadata": {},
   "outputs": [],
   "source": [
    "for _ in range(10000):\n",
    "    driver.execute_script(\"window.scrollBy(0,1000000)\")\n",
    "time.sleep(3)"
   ]
  },
  {
   "cell_type": "code",
   "execution_count": 25,
   "id": "edce2297",
   "metadata": {},
   "outputs": [
    {
     "name": "stdout",
     "output_type": "stream",
     "text": [
      "3631 3631 3631 3631 3631 3631 3631 3631\n"
     ]
    }
   ],
   "source": [
    "for i in driver.find_elements_by_xpath('//h2[@class=\"_3FpCg\"]'):\n",
    "    name.append(i.text.split(\" \",1)[1])\n",
    "        \n",
    "for i in driver.find_elements_by_xpath('//h2[@class=\"_3FpCg\"]'):\n",
    "    Year.append(i.text.split(\" \",1)[0])\n",
    "        \n",
    "for i in driver.find_elements_by_xpath('//ul[@class=\"bVR0c\"]//li[1]'):\n",
    "    Distance.append(i.text)\n",
    "        \n",
    "for i in driver.find_elements_by_xpath('//ul[@class=\"bVR0c\"]//li[2]'):\n",
    "    Owner.append(i.text)\n",
    "        \n",
    "for i in driver.find_elements_by_xpath('//ul[@class=\"bVR0c\"]//li[3]'):\n",
    "    Fuel.append(i.text)\n",
    "        \n",
    "for i in driver.find_elements_by_xpath('//p[@class=\"cvakB\"]//span'):\n",
    "    Type.append(i.text)\n",
    "        \n",
    "for i in driver.find_elements_by_xpath('//p[@class=\"cvakB\"]'):\n",
    "    model.append(i.text.rsplit(\" \",1)[0])\n",
    "        \n",
    "for i in driver.find_elements_by_xpath('//div[@class=\"_7udZZ\"]//span'):\n",
    "    Price.append(i.text.split(\"₹\")[1])\n",
    "        \n",
    "print(len(Owner),len(name),len(Year),len(model),len(Distance),len(Price),len(Type),len(Fuel))"
   ]
  },
  {
   "cell_type": "code",
   "execution_count": 26,
   "id": "803aef33",
   "metadata": {},
   "outputs": [],
   "source": [
    "place=driver.find_element_by_xpath('//p[@class=\"_1V4-O\"]//img')\n",
    "place.click()\n",
    "hyderabad=driver.find_element_by_xpath('//ul[@class=\"popularCities _16Bvy\"]//li[7]//span//img')\n",
    "hyderabad.click()"
   ]
  },
  {
   "cell_type": "code",
   "execution_count": 27,
   "id": "f0a408e2",
   "metadata": {},
   "outputs": [],
   "source": [
    "for _ in range(10000):\n",
    "    driver.execute_script(\"window.scrollBy(0,1000000)\")\n",
    "time.sleep(3)"
   ]
  },
  {
   "cell_type": "code",
   "execution_count": 28,
   "id": "f0287956",
   "metadata": {},
   "outputs": [
    {
     "name": "stdout",
     "output_type": "stream",
     "text": [
      "3844 3844 3844 3844 3844 3844 3844 3844\n"
     ]
    }
   ],
   "source": [
    "for i in driver.find_elements_by_xpath('//h2[@class=\"_3FpCg\"]'):\n",
    "    name.append(i.text.split(\" \",1)[1])\n",
    "        \n",
    "for i in driver.find_elements_by_xpath('//h2[@class=\"_3FpCg\"]'):\n",
    "    Year.append(i.text.split(\" \",1)[0])\n",
    "        \n",
    "for i in driver.find_elements_by_xpath('//ul[@class=\"bVR0c\"]//li[1]'):\n",
    "    Distance.append(i.text)\n",
    "        \n",
    "for i in driver.find_elements_by_xpath('//ul[@class=\"bVR0c\"]//li[2]'):\n",
    "    Owner.append(i.text)\n",
    "        \n",
    "for i in driver.find_elements_by_xpath('//ul[@class=\"bVR0c\"]//li[3]'):\n",
    "    Fuel.append(i.text)\n",
    "        \n",
    "for i in driver.find_elements_by_xpath('//p[@class=\"cvakB\"]//span'):\n",
    "    Type.append(i.text)\n",
    "        \n",
    "for i in driver.find_elements_by_xpath('//p[@class=\"cvakB\"]'):\n",
    "    model.append(i.text.rsplit(\" \",1)[0])\n",
    "        \n",
    "for i in driver.find_elements_by_xpath('//div[@class=\"_7udZZ\"]//span'):\n",
    "    Price.append(i.text.split(\"₹\")[1])\n",
    "        \n",
    "print(len(Owner),len(name),len(Year),len(model),len(Distance),len(Price),len(Type),len(Fuel))"
   ]
  },
  {
   "cell_type": "code",
   "execution_count": 29,
   "id": "3092cf64",
   "metadata": {},
   "outputs": [],
   "source": [
    "place=driver.find_element_by_xpath('//p[@class=\"_1V4-O\"]//img')\n",
    "place.click()\n",
    "chennai=driver.find_element_by_xpath('//ul[@class=\"popularCities _16Bvy\"]//li[8]//span//img')\n",
    "chennai.click()"
   ]
  },
  {
   "cell_type": "code",
   "execution_count": 30,
   "id": "03c1e5a4",
   "metadata": {},
   "outputs": [],
   "source": [
    "for _ in range(10000):\n",
    "    driver.execute_script(\"window.scrollBy(0,1000000)\")\n",
    "time.sleep(3)"
   ]
  },
  {
   "cell_type": "code",
   "execution_count": 31,
   "id": "93f7e816",
   "metadata": {},
   "outputs": [
    {
     "name": "stdout",
     "output_type": "stream",
     "text": [
      "4397 4397 4397 4397 4397 4397 4397 4397\n"
     ]
    }
   ],
   "source": [
    "for i in driver.find_elements_by_xpath('//h2[@class=\"_3FpCg\"]'):\n",
    "    name.append(i.text.split(\" \",1)[1])\n",
    "        \n",
    "for i in driver.find_elements_by_xpath('//h2[@class=\"_3FpCg\"]'):\n",
    "    Year.append(i.text.split(\" \",1)[0])\n",
    "        \n",
    "for i in driver.find_elements_by_xpath('//ul[@class=\"bVR0c\"]//li[1]'):\n",
    "    Distance.append(i.text)\n",
    "        \n",
    "for i in driver.find_elements_by_xpath('//ul[@class=\"bVR0c\"]//li[2]'):\n",
    "    Owner.append(i.text)\n",
    "        \n",
    "for i in driver.find_elements_by_xpath('//ul[@class=\"bVR0c\"]//li[3]'):\n",
    "    Fuel.append(i.text)\n",
    "        \n",
    "for i in driver.find_elements_by_xpath('//p[@class=\"cvakB\"]//span'):\n",
    "    Type.append(i.text)\n",
    "        \n",
    "for i in driver.find_elements_by_xpath('//p[@class=\"cvakB\"]'):\n",
    "    model.append(i.text.rsplit(\" \",1)[0])\n",
    "        \n",
    "for i in driver.find_elements_by_xpath('//div[@class=\"_7udZZ\"]//span'):\n",
    "    Price.append(i.text.split(\"₹\")[1])\n",
    "        \n",
    "print(len(Owner),len(name),len(Year),len(model),len(Distance),len(Price),len(Type),len(Fuel))"
   ]
  },
  {
   "cell_type": "code",
   "execution_count": 32,
   "id": "5e762a50",
   "metadata": {},
   "outputs": [],
   "source": [
    "place=driver.find_element_by_xpath('//p[@class=\"_1V4-O\"]//img')\n",
    "place.click()\n",
    "kolkata=driver.find_element_by_xpath('//ul[@class=\"popularCities _16Bvy\"]//li[9]//span//img')\n",
    "kolkata.click()"
   ]
  },
  {
   "cell_type": "code",
   "execution_count": 33,
   "id": "e164b3cd",
   "metadata": {},
   "outputs": [],
   "source": [
    "for _ in range(10000):\n",
    "    driver.execute_script(\"window.scrollBy(0,1000000)\")\n",
    "time.sleep(3)"
   ]
  },
  {
   "cell_type": "code",
   "execution_count": 34,
   "id": "4012ae5c",
   "metadata": {},
   "outputs": [
    {
     "name": "stdout",
     "output_type": "stream",
     "text": [
      "4577 4577 4577 4577 4577 4577 4577 4577\n"
     ]
    }
   ],
   "source": [
    "for i in driver.find_elements_by_xpath('//h2[@class=\"_3FpCg\"]'):\n",
    "    name.append(i.text.split(\" \",1)[1])\n",
    "        \n",
    "for i in driver.find_elements_by_xpath('//h2[@class=\"_3FpCg\"]'):\n",
    "    Year.append(i.text.split(\" \",1)[0])\n",
    "        \n",
    "for i in driver.find_elements_by_xpath('//ul[@class=\"bVR0c\"]//li[1]'):\n",
    "    Distance.append(i.text)\n",
    "        \n",
    "for i in driver.find_elements_by_xpath('//ul[@class=\"bVR0c\"]//li[2]'):\n",
    "    Owner.append(i.text)\n",
    "        \n",
    "for i in driver.find_elements_by_xpath('//ul[@class=\"bVR0c\"]//li[3]'):\n",
    "    Fuel.append(i.text)\n",
    "        \n",
    "for i in driver.find_elements_by_xpath('//p[@class=\"cvakB\"]//span'):\n",
    "    Type.append(i.text)\n",
    "        \n",
    "for i in driver.find_elements_by_xpath('//p[@class=\"cvakB\"]'):\n",
    "    model.append(i.text.rsplit(\" \",1)[0])\n",
    "        \n",
    "for i in driver.find_elements_by_xpath('//div[@class=\"_7udZZ\"]//span'):\n",
    "    Price.append(i.text.split(\"₹\")[1])\n",
    "        \n",
    "print(len(Owner),len(name),len(Year),len(model),len(Distance),len(Price),len(Type),len(Fuel))"
   ]
  },
  {
   "cell_type": "code",
   "execution_count": 35,
   "id": "c97bcac6",
   "metadata": {},
   "outputs": [],
   "source": [
    "place=driver.find_element_by_xpath('//p[@class=\"_1V4-O\"]//img')\n",
    "place.click()\n",
    "ahmedabad=driver.find_element_by_xpath('//ul[@class=\"popularCities _16Bvy\"]//li[10]//span//img')\n",
    "ahmedabad.click()"
   ]
  },
  {
   "cell_type": "code",
   "execution_count": 36,
   "id": "239c01ce",
   "metadata": {},
   "outputs": [],
   "source": [
    "for _ in range(10000):\n",
    "    driver.execute_script(\"window.scrollBy(0,1000000)\")\n",
    "time.sleep(3)"
   ]
  },
  {
   "cell_type": "code",
   "execution_count": 37,
   "id": "feb4c40a",
   "metadata": {},
   "outputs": [
    {
     "name": "stdout",
     "output_type": "stream",
     "text": [
      "4983 4983 4983 4983 4983 4983 4983 4983\n"
     ]
    }
   ],
   "source": [
    "for i in driver.find_elements_by_xpath('//h2[@class=\"_3FpCg\"]'):\n",
    "    name.append(i.text.split(\" \",1)[1])\n",
    "        \n",
    "for i in driver.find_elements_by_xpath('//h2[@class=\"_3FpCg\"]'):\n",
    "    Year.append(i.text.split(\" \",1)[0])\n",
    "        \n",
    "for i in driver.find_elements_by_xpath('//ul[@class=\"bVR0c\"]//li[1]'):\n",
    "    Distance.append(i.text)\n",
    "        \n",
    "for i in driver.find_elements_by_xpath('//ul[@class=\"bVR0c\"]//li[2]'):\n",
    "    Owner.append(i.text)\n",
    "        \n",
    "for i in driver.find_elements_by_xpath('//ul[@class=\"bVR0c\"]//li[3]'):\n",
    "    Fuel.append(i.text)\n",
    "        \n",
    "for i in driver.find_elements_by_xpath('//p[@class=\"cvakB\"]//span'):\n",
    "    Type.append(i.text)\n",
    "        \n",
    "for i in driver.find_elements_by_xpath('//p[@class=\"cvakB\"]'):\n",
    "    model.append(i.text.rsplit(\" \",1)[0])\n",
    "        \n",
    "for i in driver.find_elements_by_xpath('//div[@class=\"_7udZZ\"]//span'):\n",
    "    Price.append(i.text.split(\"₹\")[1])\n",
    "        \n",
    "print(len(Owner),len(name),len(Year),len(model),len(Distance),len(Price),len(Type),len(Fuel))"
   ]
  },
  {
   "cell_type": "code",
   "execution_count": 38,
   "id": "99a42f2c",
   "metadata": {},
   "outputs": [
    {
     "data": {
      "text/html": [
       "<div>\n",
       "<style scoped>\n",
       "    .dataframe tbody tr th:only-of-type {\n",
       "        vertical-align: middle;\n",
       "    }\n",
       "\n",
       "    .dataframe tbody tr th {\n",
       "        vertical-align: top;\n",
       "    }\n",
       "\n",
       "    .dataframe thead th {\n",
       "        text-align: right;\n",
       "    }\n",
       "</style>\n",
       "<table border=\"1\" class=\"dataframe\">\n",
       "  <thead>\n",
       "    <tr style=\"text-align: right;\">\n",
       "      <th></th>\n",
       "      <th>Name</th>\n",
       "      <th>Model</th>\n",
       "      <th>Year_of_Manufacturing</th>\n",
       "      <th>Owner_Type</th>\n",
       "      <th>Total_Distance_Travelled</th>\n",
       "      <th>Type</th>\n",
       "      <th>Fuel_Type</th>\n",
       "      <th>Price</th>\n",
       "    </tr>\n",
       "  </thead>\n",
       "  <tbody>\n",
       "    <tr>\n",
       "      <th>0</th>\n",
       "      <td>Hyundai Verna</td>\n",
       "      <td>1.6 SX VTVT (O)</td>\n",
       "      <td>2019</td>\n",
       "      <td>1st Owner</td>\n",
       "      <td>80,631 km</td>\n",
       "      <td>Manual</td>\n",
       "      <td>Petrol</td>\n",
       "      <td>9,81,699</td>\n",
       "    </tr>\n",
       "    <tr>\n",
       "      <th>1</th>\n",
       "      <td>KIA SELTOS</td>\n",
       "      <td>HTK PLUS 1.5 PETROL</td>\n",
       "      <td>2020</td>\n",
       "      <td>2nd Owner</td>\n",
       "      <td>12,981 km</td>\n",
       "      <td>Manual</td>\n",
       "      <td>Petrol</td>\n",
       "      <td>11,55,299</td>\n",
       "    </tr>\n",
       "    <tr>\n",
       "      <th>2</th>\n",
       "      <td>Renault Kwid</td>\n",
       "      <td>RXT</td>\n",
       "      <td>2016</td>\n",
       "      <td>1st Owner</td>\n",
       "      <td>22,388 km</td>\n",
       "      <td>Manual</td>\n",
       "      <td>Petrol</td>\n",
       "      <td>2,79,799</td>\n",
       "    </tr>\n",
       "    <tr>\n",
       "      <th>3</th>\n",
       "      <td>Mercedes Benz C Class</td>\n",
       "      <td>C 200 AVANTGARDE</td>\n",
       "      <td>2014</td>\n",
       "      <td>1st Owner</td>\n",
       "      <td>36,806 km</td>\n",
       "      <td>Automatic</td>\n",
       "      <td>Petrol</td>\n",
       "      <td>21,33,299</td>\n",
       "    </tr>\n",
       "    <tr>\n",
       "      <th>4</th>\n",
       "      <td>KIA SELTOS</td>\n",
       "      <td>HTX AT PETROL</td>\n",
       "      <td>2020</td>\n",
       "      <td>2nd Owner</td>\n",
       "      <td>21,784 km</td>\n",
       "      <td>Automatic</td>\n",
       "      <td>Petrol</td>\n",
       "      <td>14,29,999</td>\n",
       "    </tr>\n",
       "    <tr>\n",
       "      <th>5</th>\n",
       "      <td>Maruti Baleno</td>\n",
       "      <td>SIGMA 1.2 K12</td>\n",
       "      <td>2018</td>\n",
       "      <td>1st Owner</td>\n",
       "      <td>20,330 km</td>\n",
       "      <td>Manual</td>\n",
       "      <td>Petrol</td>\n",
       "      <td>5,24,799</td>\n",
       "    </tr>\n",
       "    <tr>\n",
       "      <th>6</th>\n",
       "      <td>Maruti Wagon R 1.0</td>\n",
       "      <td>VXI</td>\n",
       "      <td>2011</td>\n",
       "      <td>1st Owner</td>\n",
       "      <td>54,723 km</td>\n",
       "      <td>Manual</td>\n",
       "      <td>Petrol</td>\n",
       "      <td>2,66,099</td>\n",
       "    </tr>\n",
       "    <tr>\n",
       "      <th>7</th>\n",
       "      <td>Jaguar XF</td>\n",
       "      <td>2.2 DIESEL</td>\n",
       "      <td>2013</td>\n",
       "      <td>2nd Owner</td>\n",
       "      <td>28,289 km</td>\n",
       "      <td>Automatic</td>\n",
       "      <td>Diesel</td>\n",
       "      <td>16,45,899</td>\n",
       "    </tr>\n",
       "    <tr>\n",
       "      <th>8</th>\n",
       "      <td>Maruti Alto 800</td>\n",
       "      <td>VXI</td>\n",
       "      <td>2013</td>\n",
       "      <td>1st Owner</td>\n",
       "      <td>40,369 km</td>\n",
       "      <td>Manual</td>\n",
       "      <td>Petrol</td>\n",
       "      <td>2,42,399</td>\n",
       "    </tr>\n",
       "    <tr>\n",
       "      <th>9</th>\n",
       "      <td>Hyundai i10</td>\n",
       "      <td>ERA 1.1 IRDE</td>\n",
       "      <td>2009</td>\n",
       "      <td>1st Owner</td>\n",
       "      <td>44,319 km</td>\n",
       "      <td>Manual</td>\n",
       "      <td>Petrol</td>\n",
       "      <td>2,04,199</td>\n",
       "    </tr>\n",
       "  </tbody>\n",
       "</table>\n",
       "</div>"
      ],
      "text/plain": [
       "                    Name                Model Year_of_Manufacturing  \\\n",
       "0          Hyundai Verna      1.6 SX VTVT (O)                  2019   \n",
       "1             KIA SELTOS  HTK PLUS 1.5 PETROL                  2020   \n",
       "2           Renault Kwid                  RXT                  2016   \n",
       "3  Mercedes Benz C Class     C 200 AVANTGARDE                  2014   \n",
       "4             KIA SELTOS        HTX AT PETROL                  2020   \n",
       "5          Maruti Baleno        SIGMA 1.2 K12                  2018   \n",
       "6     Maruti Wagon R 1.0                  VXI                  2011   \n",
       "7              Jaguar XF           2.2 DIESEL                  2013   \n",
       "8        Maruti Alto 800                  VXI                  2013   \n",
       "9            Hyundai i10         ERA 1.1 IRDE                  2009   \n",
       "\n",
       "  Owner_Type Total_Distance_Travelled       Type Fuel_Type      Price  \n",
       "0  1st Owner                80,631 km     Manual    Petrol   9,81,699  \n",
       "1  2nd Owner                12,981 km     Manual    Petrol  11,55,299  \n",
       "2  1st Owner                22,388 km     Manual    Petrol   2,79,799  \n",
       "3  1st Owner                36,806 km  Automatic    Petrol  21,33,299  \n",
       "4  2nd Owner                21,784 km  Automatic    Petrol  14,29,999  \n",
       "5  1st Owner                20,330 km     Manual    Petrol   5,24,799  \n",
       "6  1st Owner                54,723 km     Manual    Petrol   2,66,099  \n",
       "7  2nd Owner                28,289 km  Automatic    Diesel  16,45,899  \n",
       "8  1st Owner                40,369 km     Manual    Petrol   2,42,399  \n",
       "9  1st Owner                44,319 km     Manual    Petrol   2,04,199  "
      ]
     },
     "execution_count": 38,
     "metadata": {},
     "output_type": "execute_result"
    }
   ],
   "source": [
    "#creating the dataframe of the extracted data\n",
    "\n",
    "car=pd.DataFrame({'Name':name,'Model':model,'Year_of_Manufacturing':Year,'Owner_Type':Owner,'Total_Distance_Travelled':Distance,'Type':Type,'Fuel_Type':Fuel,'Price':Price})\n",
    "car.head(10)"
   ]
  },
  {
   "cell_type": "code",
   "execution_count": 43,
   "id": "f228394c",
   "metadata": {},
   "outputs": [],
   "source": [
    "car.to_csv('C:\\\\Users\\\\123\\\\used_car.csv',encoding='utf-8')  #converting the dataframe to csv file for future use"
   ]
  },
  {
   "cell_type": "code",
   "execution_count": null,
   "id": "41be0af3",
   "metadata": {},
   "outputs": [],
   "source": []
  }
 ],
 "metadata": {
  "kernelspec": {
   "display_name": "Python 3 (ipykernel)",
   "language": "python",
   "name": "python3"
  },
  "language_info": {
   "codemirror_mode": {
    "name": "ipython",
    "version": 3
   },
   "file_extension": ".py",
   "mimetype": "text/x-python",
   "name": "python",
   "nbconvert_exporter": "python",
   "pygments_lexer": "ipython3",
   "version": "3.9.7"
  }
 },
 "nbformat": 4,
 "nbformat_minor": 5
}
