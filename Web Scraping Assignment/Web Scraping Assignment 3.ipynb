{
 "cells": [
  {
   "cell_type": "code",
   "execution_count": 53,
   "id": "983cf98f",
   "metadata": {},
   "outputs": [],
   "source": [
    "import selenium\n",
    "from selenium import webdriver\n",
    "import pandas as pd\n",
    "import time\n",
    "import warnings\n",
    "warnings.filterwarnings('ignore')"
   ]
  },
  {
   "cell_type": "code",
   "execution_count": 2,
   "id": "15406612",
   "metadata": {},
   "outputs": [],
   "source": [
    "driver = webdriver.Chrome('chromedriver.exe')"
   ]
  },
  {
   "cell_type": "code",
   "execution_count": 14,
   "id": "35007878",
   "metadata": {},
   "outputs": [],
   "source": [
    "#que 1\n",
    "url='https://www.amazon.com/'\n",
    "driver.get(url)\n",
    "\n",
    "time.sleep(3)\n"
   ]
  },
  {
   "cell_type": "code",
   "execution_count": 15,
   "id": "1cd29354",
   "metadata": {},
   "outputs": [
    {
     "name": "stdout",
     "output_type": "stream",
     "text": [
      "Enter your requirmentguitar\n"
     ]
    }
   ],
   "source": [
    "inp=driver.find_element_by_id('twotabsearchtextbox')\n",
    "subject=input('Enter your requirment')\n",
    "inp.send_keys(subject)"
   ]
  },
  {
   "cell_type": "code",
   "execution_count": 16,
   "id": "042734ba",
   "metadata": {},
   "outputs": [],
   "source": [
    "search=driver.find_element_by_id('nav-search-submit-button')\n",
    "search.click()"
   ]
  },
  {
   "cell_type": "code",
   "execution_count": 17,
   "id": "17b80e2f",
   "metadata": {},
   "outputs": [],
   "source": [
    "#que 2\n",
    "URL = []\n",
    "for r in range(3):\n",
    "    urls=driver.find_elements_by_xpath('//a[@class=\"a-link-normal s-underline-text s-underline-link-text s-link-style a-text-normal\"]')#tyle a-text-normalcollecting urls of all the laptop\n",
    "    for i in urls:\n",
    "        URL.append(i.get_attribute('href'))\n",
    "    \n",
    "    #click next page\n",
    "    try:\n",
    "        driver.find_element_by_xpath('//span[@class=\"s-pagination-strip\"]//a[@class=\"s-pagination-item s-pagination-next s-pagination-button s-pagination-separator\"]').click()\n",
    "    except:\n",
    "        nxt=driver.find_element_by_xpath('//a[@class=\"s-pagination-item s-pagination-next s-pagination-button s-pagination-separator\"]')\n",
    "        nxt.click()\n",
    "    time.sleep(3)"
   ]
  },
  {
   "cell_type": "code",
   "execution_count": 18,
   "id": "16c941bb",
   "metadata": {},
   "outputs": [
    {
     "data": {
      "text/plain": [
       "178"
      ]
     },
     "execution_count": 18,
     "metadata": {},
     "output_type": "execute_result"
    }
   ],
   "source": [
    "len(URL)"
   ]
  },
  {
   "cell_type": "code",
   "execution_count": 45,
   "id": "40196150",
   "metadata": {},
   "outputs": [
    {
     "name": "stdout",
     "output_type": "stream",
     "text": [
      "succesful scrap\n"
     ]
    }
   ],
   "source": [
    "brand=[]\n",
    "name=[]\n",
    "price=[]\n",
    "delivery=[]\n",
    "return_ex=[]\n",
    "available=[]\n",
    "URL=URL[:5]  #just try for 5 searches but not able to get the proper results\n",
    "\n",
    "\n",
    "    \n",
    "for url in URL:\n",
    "    driver.get(url)\n",
    "    time.sleep(2)\n",
    "    \n",
    "    for i in driver.find_elements_by_xpath('//table[@class=\"a-normal a-spacing-micro\"]//tbody//tr[1]//td[2]//span'):\n",
    "        if i.text is None:\n",
    "            brand.append('--')\n",
    "        else:\n",
    "            brand.append(i.text)\n",
    "    \n",
    "    for i in driver.find_elements_by_id(\"productTitle\"):\n",
    "        if i.text is None:\n",
    "            name.append('--')\n",
    "        else:\n",
    "            name.append(i.text)\n",
    "            \n",
    "    for i in driver.find_elements_by_xpath('//table[@class=\"a-lineitem a-align-top\"]//tbody//tr//td//span//span[@class=\"a-offscreen\"]'):\n",
    "        if i.text is None:\n",
    "            price.append('--')\n",
    "        else:\n",
    "            price.append(i.text)    \n",
    "    \n",
    "    try:\n",
    "        available.append(driver.find_elements_by_xpath('//div[@id=\"availability\"]//span').text)\n",
    "    except:\n",
    "        available.append('-')\n",
    "    \n",
    "    try:\n",
    "        return_ex.append(driver.find_elements_by_id(\"productSupportAndReturnPolicy-return-policy-anchor-text\").text)\n",
    "    except:\n",
    "        return_ex.append('-')\n",
    "       \n",
    "    try:\n",
    "        delivery.append(driver.find_elements_by_xpath('//div[@class=\"a-spacing-base\"]//span//span').text)\n",
    "    except:\n",
    "        delivery.append('-')\n",
    "        time.sleep(3)\n",
    "        \n",
    "print('succesful scrap')"
   ]
  },
  {
   "cell_type": "code",
   "execution_count": 46,
   "id": "4cd5d7af",
   "metadata": {},
   "outputs": [
    {
     "ename": "ValueError",
     "evalue": "All arrays must be of the same length",
     "output_type": "error",
     "traceback": [
      "\u001b[1;31m---------------------------------------------------------------------------\u001b[0m",
      "\u001b[1;31mValueError\u001b[0m                                Traceback (most recent call last)",
      "\u001b[1;32m~\\AppData\\Local\\Temp/ipykernel_9756/1973666560.py\u001b[0m in \u001b[0;36m<module>\u001b[1;34m\u001b[0m\n\u001b[1;32m----> 1\u001b[1;33m que2=pd.DataFrame({'Brand Name':brand,'Name':name,'Availability':available,'Return/Exchange':return_ex,'Delivery':delivery,\n\u001b[0m\u001b[0;32m      2\u001b[0m                  'Price':price,'Product_url':URL})\n\u001b[0;32m      3\u001b[0m \u001b[0mque2\u001b[0m\u001b[1;33m\u001b[0m\u001b[1;33m\u001b[0m\u001b[0m\n",
      "\u001b[1;32m~\\anaconda3\\lib\\site-packages\\pandas\\core\\frame.py\u001b[0m in \u001b[0;36m__init__\u001b[1;34m(self, data, index, columns, dtype, copy)\u001b[0m\n\u001b[0;32m    612\u001b[0m         \u001b[1;32melif\u001b[0m \u001b[0misinstance\u001b[0m\u001b[1;33m(\u001b[0m\u001b[0mdata\u001b[0m\u001b[1;33m,\u001b[0m \u001b[0mdict\u001b[0m\u001b[1;33m)\u001b[0m\u001b[1;33m:\u001b[0m\u001b[1;33m\u001b[0m\u001b[1;33m\u001b[0m\u001b[0m\n\u001b[0;32m    613\u001b[0m             \u001b[1;31m# GH#38939 de facto copy defaults to False only in non-dict cases\u001b[0m\u001b[1;33m\u001b[0m\u001b[1;33m\u001b[0m\u001b[0m\n\u001b[1;32m--> 614\u001b[1;33m             \u001b[0mmgr\u001b[0m \u001b[1;33m=\u001b[0m \u001b[0mdict_to_mgr\u001b[0m\u001b[1;33m(\u001b[0m\u001b[0mdata\u001b[0m\u001b[1;33m,\u001b[0m \u001b[0mindex\u001b[0m\u001b[1;33m,\u001b[0m \u001b[0mcolumns\u001b[0m\u001b[1;33m,\u001b[0m \u001b[0mdtype\u001b[0m\u001b[1;33m=\u001b[0m\u001b[0mdtype\u001b[0m\u001b[1;33m,\u001b[0m \u001b[0mcopy\u001b[0m\u001b[1;33m=\u001b[0m\u001b[0mcopy\u001b[0m\u001b[1;33m,\u001b[0m \u001b[0mtyp\u001b[0m\u001b[1;33m=\u001b[0m\u001b[0mmanager\u001b[0m\u001b[1;33m)\u001b[0m\u001b[1;33m\u001b[0m\u001b[1;33m\u001b[0m\u001b[0m\n\u001b[0m\u001b[0;32m    615\u001b[0m         \u001b[1;32melif\u001b[0m \u001b[0misinstance\u001b[0m\u001b[1;33m(\u001b[0m\u001b[0mdata\u001b[0m\u001b[1;33m,\u001b[0m \u001b[0mma\u001b[0m\u001b[1;33m.\u001b[0m\u001b[0mMaskedArray\u001b[0m\u001b[1;33m)\u001b[0m\u001b[1;33m:\u001b[0m\u001b[1;33m\u001b[0m\u001b[1;33m\u001b[0m\u001b[0m\n\u001b[0;32m    616\u001b[0m             \u001b[1;32mimport\u001b[0m \u001b[0mnumpy\u001b[0m\u001b[1;33m.\u001b[0m\u001b[0mma\u001b[0m\u001b[1;33m.\u001b[0m\u001b[0mmrecords\u001b[0m \u001b[1;32mas\u001b[0m \u001b[0mmrecords\u001b[0m\u001b[1;33m\u001b[0m\u001b[1;33m\u001b[0m\u001b[0m\n",
      "\u001b[1;32m~\\anaconda3\\lib\\site-packages\\pandas\\core\\internals\\construction.py\u001b[0m in \u001b[0;36mdict_to_mgr\u001b[1;34m(data, index, columns, dtype, typ, copy)\u001b[0m\n\u001b[0;32m    462\u001b[0m         \u001b[1;31m# TODO: can we get rid of the dt64tz special case above?\u001b[0m\u001b[1;33m\u001b[0m\u001b[1;33m\u001b[0m\u001b[0m\n\u001b[0;32m    463\u001b[0m \u001b[1;33m\u001b[0m\u001b[0m\n\u001b[1;32m--> 464\u001b[1;33m     return arrays_to_mgr(\n\u001b[0m\u001b[0;32m    465\u001b[0m         \u001b[0marrays\u001b[0m\u001b[1;33m,\u001b[0m \u001b[0mdata_names\u001b[0m\u001b[1;33m,\u001b[0m \u001b[0mindex\u001b[0m\u001b[1;33m,\u001b[0m \u001b[0mcolumns\u001b[0m\u001b[1;33m,\u001b[0m \u001b[0mdtype\u001b[0m\u001b[1;33m=\u001b[0m\u001b[0mdtype\u001b[0m\u001b[1;33m,\u001b[0m \u001b[0mtyp\u001b[0m\u001b[1;33m=\u001b[0m\u001b[0mtyp\u001b[0m\u001b[1;33m,\u001b[0m \u001b[0mconsolidate\u001b[0m\u001b[1;33m=\u001b[0m\u001b[0mcopy\u001b[0m\u001b[1;33m\u001b[0m\u001b[1;33m\u001b[0m\u001b[0m\n\u001b[0;32m    466\u001b[0m     )\n",
      "\u001b[1;32m~\\anaconda3\\lib\\site-packages\\pandas\\core\\internals\\construction.py\u001b[0m in \u001b[0;36marrays_to_mgr\u001b[1;34m(arrays, arr_names, index, columns, dtype, verify_integrity, typ, consolidate)\u001b[0m\n\u001b[0;32m    117\u001b[0m         \u001b[1;31m# figure out the index, if necessary\u001b[0m\u001b[1;33m\u001b[0m\u001b[1;33m\u001b[0m\u001b[0m\n\u001b[0;32m    118\u001b[0m         \u001b[1;32mif\u001b[0m \u001b[0mindex\u001b[0m \u001b[1;32mis\u001b[0m \u001b[1;32mNone\u001b[0m\u001b[1;33m:\u001b[0m\u001b[1;33m\u001b[0m\u001b[1;33m\u001b[0m\u001b[0m\n\u001b[1;32m--> 119\u001b[1;33m             \u001b[0mindex\u001b[0m \u001b[1;33m=\u001b[0m \u001b[0m_extract_index\u001b[0m\u001b[1;33m(\u001b[0m\u001b[0marrays\u001b[0m\u001b[1;33m)\u001b[0m\u001b[1;33m\u001b[0m\u001b[1;33m\u001b[0m\u001b[0m\n\u001b[0m\u001b[0;32m    120\u001b[0m         \u001b[1;32melse\u001b[0m\u001b[1;33m:\u001b[0m\u001b[1;33m\u001b[0m\u001b[1;33m\u001b[0m\u001b[0m\n\u001b[0;32m    121\u001b[0m             \u001b[0mindex\u001b[0m \u001b[1;33m=\u001b[0m \u001b[0mensure_index\u001b[0m\u001b[1;33m(\u001b[0m\u001b[0mindex\u001b[0m\u001b[1;33m)\u001b[0m\u001b[1;33m\u001b[0m\u001b[1;33m\u001b[0m\u001b[0m\n",
      "\u001b[1;32m~\\anaconda3\\lib\\site-packages\\pandas\\core\\internals\\construction.py\u001b[0m in \u001b[0;36m_extract_index\u001b[1;34m(data)\u001b[0m\n\u001b[0;32m    633\u001b[0m             \u001b[0mlengths\u001b[0m \u001b[1;33m=\u001b[0m \u001b[0mlist\u001b[0m\u001b[1;33m(\u001b[0m\u001b[0mset\u001b[0m\u001b[1;33m(\u001b[0m\u001b[0mraw_lengths\u001b[0m\u001b[1;33m)\u001b[0m\u001b[1;33m)\u001b[0m\u001b[1;33m\u001b[0m\u001b[1;33m\u001b[0m\u001b[0m\n\u001b[0;32m    634\u001b[0m             \u001b[1;32mif\u001b[0m \u001b[0mlen\u001b[0m\u001b[1;33m(\u001b[0m\u001b[0mlengths\u001b[0m\u001b[1;33m)\u001b[0m \u001b[1;33m>\u001b[0m \u001b[1;36m1\u001b[0m\u001b[1;33m:\u001b[0m\u001b[1;33m\u001b[0m\u001b[1;33m\u001b[0m\u001b[0m\n\u001b[1;32m--> 635\u001b[1;33m                 \u001b[1;32mraise\u001b[0m \u001b[0mValueError\u001b[0m\u001b[1;33m(\u001b[0m\u001b[1;34m\"All arrays must be of the same length\"\u001b[0m\u001b[1;33m)\u001b[0m\u001b[1;33m\u001b[0m\u001b[1;33m\u001b[0m\u001b[0m\n\u001b[0m\u001b[0;32m    636\u001b[0m \u001b[1;33m\u001b[0m\u001b[0m\n\u001b[0;32m    637\u001b[0m             \u001b[1;32mif\u001b[0m \u001b[0mhave_dicts\u001b[0m\u001b[1;33m:\u001b[0m\u001b[1;33m\u001b[0m\u001b[1;33m\u001b[0m\u001b[0m\n",
      "\u001b[1;31mValueError\u001b[0m: All arrays must be of the same length"
     ]
    }
   ],
   "source": [
    "que2=pd.DataFrame({'Brand Name':brand,'Name':name,'Availability':available,'Return/Exchange':return_ex,'Delivery':delivery,\n",
    "                 'Price':price,'Product_url':URL})\n",
    "que2"
   ]
  },
  {
   "cell_type": "code",
   "execution_count": 47,
   "id": "2a8424fe",
   "metadata": {},
   "outputs": [
    {
     "data": {
      "text/plain": [
       "['', '', '', '', '', '', '', '', '', '', '', '', '']"
      ]
     },
     "execution_count": 47,
     "metadata": {},
     "output_type": "execute_result"
    }
   ],
   "source": [
    "price"
   ]
  },
  {
   "cell_type": "code",
   "execution_count": 48,
   "id": "4d0cac54",
   "metadata": {},
   "outputs": [],
   "source": [
    "#que 3\n",
    "\n",
    "url='https://images.google.com/'\n",
    "driver.get(url)"
   ]
  },
  {
   "cell_type": "code",
   "execution_count": 49,
   "id": "40b5dc1d",
   "metadata": {},
   "outputs": [
    {
     "name": "stdout",
     "output_type": "stream",
     "text": [
      "Enter the Keyword: fruit\n"
     ]
    }
   ],
   "source": [
    "bar=driver.find_element_by_xpath('//input[@class=\"gLFyf gsfi\"]')\n",
    "se=input('Enter the Keyword: ')\n",
    "bar.send_keys(se)"
   ]
  },
  {
   "cell_type": "code",
   "execution_count": 50,
   "id": "32281f9d",
   "metadata": {},
   "outputs": [],
   "source": [
    "search=driver.find_element_by_xpath('//span[@class=\"z1asCe MZy1Rb\"]')\n",
    "search.click()"
   ]
  },
  {
   "cell_type": "code",
   "execution_count": 60,
   "id": "82d7fdb8",
   "metadata": {},
   "outputs": [
    {
     "data": {
      "text/plain": [
       "9"
      ]
     },
     "execution_count": 60,
     "metadata": {},
     "output_type": "execute_result"
    }
   ],
   "source": [
    "url=[]\n",
    "for i in driver.find_elements_by_xpath('//img[@class=\"rg_i Q4LuWd\"]'):\n",
    "    url.append(i.get_attribute('src'))\n",
    "\n",
    "url=url[:9]\n",
    "for i in url:\n",
    "    driver.get(i)\n",
    "    "
   ]
  },
  {
   "cell_type": "code",
   "execution_count": 25,
   "id": "566b77b8",
   "metadata": {},
   "outputs": [],
   "source": [
    "#que 6\n",
    "url='https://trak.in/'\n",
    "driver.get(url)\n",
    "time.sleep(5)"
   ]
  },
  {
   "cell_type": "code",
   "execution_count": 26,
   "id": "65258fbb",
   "metadata": {},
   "outputs": [],
   "source": [
    "funding=driver.find_element_by_xpath('//a[@title=\"http://trak.in/india-startup-funding-investment-2015/\"]')\n",
    "funding.click()"
   ]
  },
  {
   "cell_type": "code",
   "execution_count": 31,
   "id": "16876210",
   "metadata": {},
   "outputs": [],
   "source": [
    "date=driver.find_elements_by_xpath('//tbody/tr/td[2]')\n",
    "stname=driver.find_elements_by_xpath('//tbody/tr/td[3]')\n",
    "ind=driver.find_elements_by_xpath('//tbody/tr/td[4]')\n",
    "sub=driver.find_elements_by_xpath('//tbody/tr/td[5]')\n",
    "city=driver.find_elements_by_xpath('//tbody/tr/td[6]')\n",
    "inv=driver.find_elements_by_xpath('//tbody/tr/td[7]')\n",
    "invt=driver.find_elements_by_xpath('//tbody/tr/td[8]')\n",
    "amount=driver.find_elements_by_xpath('//tbody/tr/td[9]')\n",
    "\n",
    "funding=[]\n",
    "for i in range(len(city)):\n",
    "    temp={'Date':date[i].text,'Startup Name':stname[i].text,'Industy':ind[i].text,\n",
    "          'Sub-vertical':sub[i].text, 'City':city[i].text,'Investor':inv[i].text,\n",
    "          'Investment type':invt[i].text,'Amount(USD)':amount[i].text}\n",
    "    \n",
    "    funding.append(temp)\n",
    "    "
   ]
  },
  {
   "cell_type": "code",
   "execution_count": 32,
   "id": "e745a5d1",
   "metadata": {},
   "outputs": [],
   "source": [
    "funding=funding[5:29]"
   ]
  },
  {
   "cell_type": "code",
   "execution_count": 33,
   "id": "3552d77e",
   "metadata": {},
   "outputs": [
    {
     "data": {
      "text/html": [
       "<div>\n",
       "<style scoped>\n",
       "    .dataframe tbody tr th:only-of-type {\n",
       "        vertical-align: middle;\n",
       "    }\n",
       "\n",
       "    .dataframe tbody tr th {\n",
       "        vertical-align: top;\n",
       "    }\n",
       "\n",
       "    .dataframe thead th {\n",
       "        text-align: right;\n",
       "    }\n",
       "</style>\n",
       "<table border=\"1\" class=\"dataframe\">\n",
       "  <thead>\n",
       "    <tr style=\"text-align: right;\">\n",
       "      <th></th>\n",
       "      <th>Date</th>\n",
       "      <th>Startup Name</th>\n",
       "      <th>Industy</th>\n",
       "      <th>Sub-vertical</th>\n",
       "      <th>City</th>\n",
       "      <th>Investor</th>\n",
       "      <th>Investment type</th>\n",
       "      <th>Amount(USD)</th>\n",
       "    </tr>\n",
       "  </thead>\n",
       "  <tbody>\n",
       "    <tr>\n",
       "      <th>0</th>\n",
       "      <td>04/03/2021</td>\n",
       "      <td>DealShare</td>\n",
       "      <td>E-commerce</td>\n",
       "      <td>Online shopping platform</td>\n",
       "      <td>Jaipur, Rajasthan</td>\n",
       "      <td>Innoven Capital</td>\n",
       "      <td>Debt Financing</td>\n",
       "      <td>250,000,000</td>\n",
       "    </tr>\n",
       "    <tr>\n",
       "      <th>1</th>\n",
       "      <td>31/03/2021</td>\n",
       "      <td>Uniphore</td>\n",
       "      <td>Technology</td>\n",
       "      <td>Conversational Service Automation (CSA)</td>\n",
       "      <td>Palo Alto</td>\n",
       "      <td>Sorenson Capital Partners</td>\n",
       "      <td>Series D</td>\n",
       "      <td>140,000,000</td>\n",
       "    </tr>\n",
       "    <tr>\n",
       "      <th>2</th>\n",
       "      <td>30/03/2021</td>\n",
       "      <td>Dunzo</td>\n",
       "      <td>E-commerce</td>\n",
       "      <td>Hyper-local delivery app</td>\n",
       "      <td>Bengaluru</td>\n",
       "      <td>Krishtal Advisors Pte Ltd</td>\n",
       "      <td>Series E</td>\n",
       "      <td>8,000,000</td>\n",
       "    </tr>\n",
       "    <tr>\n",
       "      <th>3</th>\n",
       "      <td>30/03/2021</td>\n",
       "      <td>BYJU’S</td>\n",
       "      <td>Edu-tech</td>\n",
       "      <td>Online tutoring</td>\n",
       "      <td>Bengaluru</td>\n",
       "      <td>MC Global Edtech, B Capital, Baron, others</td>\n",
       "      <td>Series F</td>\n",
       "      <td>460,000,000</td>\n",
       "    </tr>\n",
       "    <tr>\n",
       "      <th>4</th>\n",
       "      <td>23/03/2021</td>\n",
       "      <td>SkilloVilla</td>\n",
       "      <td>Edu-tech</td>\n",
       "      <td>Career and job-oriented upskilling.</td>\n",
       "      <td>Bengaluru</td>\n",
       "      <td>Titan Capital, others</td>\n",
       "      <td>Seed</td>\n",
       "      <td>300,000,000</td>\n",
       "    </tr>\n",
       "    <tr>\n",
       "      <th>5</th>\n",
       "      <td>25/03/2021</td>\n",
       "      <td>CityMall</td>\n",
       "      <td>E-commerce</td>\n",
       "      <td>Social ecommerce and online grocery platform</td>\n",
       "      <td>Gurgaon</td>\n",
       "      <td>Accel Partners</td>\n",
       "      <td>Series A</td>\n",
       "      <td>11,000,000</td>\n",
       "    </tr>\n",
       "    <tr>\n",
       "      <th>6</th>\n",
       "      <td>26/03/2021</td>\n",
       "      <td>DotPe</td>\n",
       "      <td>FinTech</td>\n",
       "      <td>Commerce and payments platform to offline ente...</td>\n",
       "      <td>Gurgaon</td>\n",
       "      <td>PayU</td>\n",
       "      <td>Series A</td>\n",
       "      <td>27,500,000</td>\n",
       "    </tr>\n",
       "    <tr>\n",
       "      <th>7</th>\n",
       "      <td>11/02/2021</td>\n",
       "      <td>Doubtnut</td>\n",
       "      <td>Edu Tech</td>\n",
       "      <td>E-Learning Platform</td>\n",
       "      <td>Gurgaon</td>\n",
       "      <td>SIG Global, Sequoia Capital, WaterBridge Ventu...</td>\n",
       "      <td>Series B</td>\n",
       "      <td>2,500,000</td>\n",
       "    </tr>\n",
       "    <tr>\n",
       "      <th>8</th>\n",
       "      <td>22/02/2021</td>\n",
       "      <td>Zomato</td>\n",
       "      <td>Hospitality</td>\n",
       "      <td>Online Food Delivery Platform</td>\n",
       "      <td>Gurgaon</td>\n",
       "      <td>Tiger Global, Kora</td>\n",
       "      <td>Venture</td>\n",
       "      <td>250,000,000</td>\n",
       "    </tr>\n",
       "    <tr>\n",
       "      <th>9</th>\n",
       "      <td>19/02/2021</td>\n",
       "      <td>Fingerlix</td>\n",
       "      <td>Hospitality</td>\n",
       "      <td>Semi-cooked food delivery app</td>\n",
       "      <td>Mumbai</td>\n",
       "      <td>Rhodium Trust, Accel Partners and Swiggy</td>\n",
       "      <td>Series C</td>\n",
       "      <td>2,747,045.20</td>\n",
       "    </tr>\n",
       "    <tr>\n",
       "      <th>10</th>\n",
       "      <td>17/02/2021</td>\n",
       "      <td>Zolve</td>\n",
       "      <td>FinTech</td>\n",
       "      <td>Global Neobank Venture</td>\n",
       "      <td>Mumbai</td>\n",
       "      <td>Accel Partners and Lightspeed Venture Partners</td>\n",
       "      <td>Seed</td>\n",
       "      <td>1,50,00,000</td>\n",
       "    </tr>\n",
       "    <tr>\n",
       "      <th>11</th>\n",
       "      <td>15/02/2021</td>\n",
       "      <td>KreditBee</td>\n",
       "      <td>Finance</td>\n",
       "      <td>Digital lending platform</td>\n",
       "      <td>Bengaluru</td>\n",
       "      <td>Azim Premji’s PremjiInvest and South Korea’s M...</td>\n",
       "      <td>Series C</td>\n",
       "      <td>75,000,000</td>\n",
       "    </tr>\n",
       "    <tr>\n",
       "      <th>12</th>\n",
       "      <td>12/02/2021</td>\n",
       "      <td>Pepperfry</td>\n",
       "      <td>E-commerce</td>\n",
       "      <td>Multi-brand furniture brand</td>\n",
       "      <td>Mumbai</td>\n",
       "      <td>InnoVen Capital</td>\n",
       "      <td>Debt Financing</td>\n",
       "      <td>4,773,958</td>\n",
       "    </tr>\n",
       "    <tr>\n",
       "      <th>13</th>\n",
       "      <td>12/02/2021</td>\n",
       "      <td>Grofers</td>\n",
       "      <td>E-Commerce</td>\n",
       "      <td>Online supermarket</td>\n",
       "      <td>Gurgaon</td>\n",
       "      <td>SoftBank Vision Fund (SVF)</td>\n",
       "      <td>Unspecified</td>\n",
       "      <td>55,000,000</td>\n",
       "    </tr>\n",
       "    <tr>\n",
       "      <th>14</th>\n",
       "      <td>09/02/2021</td>\n",
       "      <td>Nothing</td>\n",
       "      <td>Technology</td>\n",
       "      <td>Consumer Technology Venture</td>\n",
       "      <td>London</td>\n",
       "      <td>GV</td>\n",
       "      <td>Series A</td>\n",
       "      <td>15,000,000</td>\n",
       "    </tr>\n",
       "    <tr>\n",
       "      <th>15</th>\n",
       "      <td>09/02/2021</td>\n",
       "      <td>SplashLearn</td>\n",
       "      <td>EdTech</td>\n",
       "      <td>Game-based learning programme</td>\n",
       "      <td>Gurgaon</td>\n",
       "      <td>Owl Ventures</td>\n",
       "      <td>Series C</td>\n",
       "      <td>18,000,000</td>\n",
       "    </tr>\n",
       "    <tr>\n",
       "      <th>16</th>\n",
       "      <td>15/01/2021</td>\n",
       "      <td>Digit Insurance</td>\n",
       "      <td>Financial Services</td>\n",
       "      <td>Insurance Services</td>\n",
       "      <td>Bengaluru</td>\n",
       "      <td>A91 Partners, Faering Capital, TVS Capital Funds</td>\n",
       "      <td>Venture</td>\n",
       "      <td>1,80,00,000</td>\n",
       "    </tr>\n",
       "    <tr>\n",
       "      <th>17</th>\n",
       "      <td>28/01/2021</td>\n",
       "      <td>Bombay Shaving Company</td>\n",
       "      <td>Consumer Goods Company</td>\n",
       "      <td>Shave care, beard care, and skincare products</td>\n",
       "      <td>New Delhi</td>\n",
       "      <td>Reckitt Benckiser</td>\n",
       "      <td>Venture</td>\n",
       "      <td>6,172,258.50</td>\n",
       "    </tr>\n",
       "    <tr>\n",
       "      <th>18</th>\n",
       "      <td>19/01/2021</td>\n",
       "      <td>DeHaat</td>\n",
       "      <td>AgriTech Startup</td>\n",
       "      <td>online marketplace for farm products and services</td>\n",
       "      <td>Patna</td>\n",
       "      <td>Prosus Ventures</td>\n",
       "      <td>Series C</td>\n",
       "      <td>30,000,000</td>\n",
       "    </tr>\n",
       "    <tr>\n",
       "      <th>19</th>\n",
       "      <td>19/01/2021</td>\n",
       "      <td>Darwinbox</td>\n",
       "      <td>SaaS</td>\n",
       "      <td>HR Tech</td>\n",
       "      <td>Mumbai</td>\n",
       "      <td>Salesforce Ventures</td>\n",
       "      <td>Seed</td>\n",
       "      <td>15,000,000</td>\n",
       "    </tr>\n",
       "    <tr>\n",
       "      <th>20</th>\n",
       "      <td>18/01/2021</td>\n",
       "      <td>mfine</td>\n",
       "      <td>Health Tech Startup</td>\n",
       "      <td>AI-powered telemedicine mobile app</td>\n",
       "      <td>Bengaluru</td>\n",
       "      <td>Heritas Capital Management</td>\n",
       "      <td>Venture Round</td>\n",
       "      <td>16,000,000</td>\n",
       "    </tr>\n",
       "    <tr>\n",
       "      <th>21</th>\n",
       "      <td>18/01/2021</td>\n",
       "      <td>Udayy</td>\n",
       "      <td>EdTech</td>\n",
       "      <td>Online learning platform for kids in class 1-5</td>\n",
       "      <td>Gurgaon</td>\n",
       "      <td>Sequoia Capital</td>\n",
       "      <td>Seed Funding</td>\n",
       "      <td>15,000,000</td>\n",
       "    </tr>\n",
       "    <tr>\n",
       "      <th>22</th>\n",
       "      <td>11/01/2021</td>\n",
       "      <td>True Elements</td>\n",
       "      <td>Food Startup</td>\n",
       "      <td>Whole Food plant based Nashta</td>\n",
       "      <td>Pune</td>\n",
       "      <td>SIDBI Venture Capital</td>\n",
       "      <td>Series</td>\n",
       "      <td>100,000,000</td>\n",
       "    </tr>\n",
       "    <tr>\n",
       "      <th>23</th>\n",
       "      <td>13/01/2021</td>\n",
       "      <td>Saveo</td>\n",
       "      <td>B2B E-commerce</td>\n",
       "      <td>Pharmacies</td>\n",
       "      <td>Bengaluru</td>\n",
       "      <td>Matrix Partners India, RTP Global, others</td>\n",
       "      <td>Seed</td>\n",
       "      <td>4,000,000</td>\n",
       "    </tr>\n",
       "  </tbody>\n",
       "</table>\n",
       "</div>"
      ],
      "text/plain": [
       "          Date            Startup Name                 Industy  \\\n",
       "0   04/03/2021               DealShare              E-commerce   \n",
       "1   31/03/2021                Uniphore              Technology   \n",
       "2   30/03/2021                   Dunzo              E-commerce   \n",
       "3   30/03/2021                  BYJU’S                Edu-tech   \n",
       "4   23/03/2021             SkilloVilla                Edu-tech   \n",
       "5   25/03/2021                CityMall              E-commerce   \n",
       "6   26/03/2021                   DotPe                 FinTech   \n",
       "7   11/02/2021                Doubtnut                Edu Tech   \n",
       "8   22/02/2021                  Zomato             Hospitality   \n",
       "9   19/02/2021               Fingerlix             Hospitality   \n",
       "10  17/02/2021                   Zolve                 FinTech   \n",
       "11  15/02/2021               KreditBee                 Finance   \n",
       "12  12/02/2021               Pepperfry              E-commerce   \n",
       "13  12/02/2021                 Grofers              E-Commerce   \n",
       "14  09/02/2021                 Nothing              Technology   \n",
       "15  09/02/2021             SplashLearn                  EdTech   \n",
       "16  15/01/2021         Digit Insurance      Financial Services   \n",
       "17  28/01/2021  Bombay Shaving Company  Consumer Goods Company   \n",
       "18  19/01/2021                  DeHaat        AgriTech Startup   \n",
       "19  19/01/2021               Darwinbox                    SaaS   \n",
       "20  18/01/2021                   mfine     Health Tech Startup   \n",
       "21  18/01/2021                   Udayy                  EdTech   \n",
       "22  11/01/2021           True Elements            Food Startup   \n",
       "23  13/01/2021                   Saveo          B2B E-commerce   \n",
       "\n",
       "                                         Sub-vertical               City  \\\n",
       "0                            Online shopping platform  Jaipur, Rajasthan   \n",
       "1             Conversational Service Automation (CSA)          Palo Alto   \n",
       "2                            Hyper-local delivery app          Bengaluru   \n",
       "3                                     Online tutoring          Bengaluru   \n",
       "4                 Career and job-oriented upskilling.          Bengaluru   \n",
       "5        Social ecommerce and online grocery platform            Gurgaon   \n",
       "6   Commerce and payments platform to offline ente...            Gurgaon   \n",
       "7                                 E-Learning Platform            Gurgaon   \n",
       "8                       Online Food Delivery Platform            Gurgaon   \n",
       "9                       Semi-cooked food delivery app             Mumbai   \n",
       "10                             Global Neobank Venture             Mumbai   \n",
       "11                           Digital lending platform          Bengaluru   \n",
       "12                        Multi-brand furniture brand             Mumbai   \n",
       "13                                 Online supermarket            Gurgaon   \n",
       "14                        Consumer Technology Venture             London   \n",
       "15                      Game-based learning programme            Gurgaon   \n",
       "16                                 Insurance Services          Bengaluru   \n",
       "17      Shave care, beard care, and skincare products          New Delhi   \n",
       "18  online marketplace for farm products and services              Patna   \n",
       "19                                            HR Tech             Mumbai   \n",
       "20                 AI-powered telemedicine mobile app          Bengaluru   \n",
       "21     Online learning platform for kids in class 1-5            Gurgaon   \n",
       "22                      Whole Food plant based Nashta               Pune   \n",
       "23                                         Pharmacies          Bengaluru   \n",
       "\n",
       "                                             Investor Investment type  \\\n",
       "0                                     Innoven Capital  Debt Financing   \n",
       "1                           Sorenson Capital Partners        Series D   \n",
       "2                           Krishtal Advisors Pte Ltd        Series E   \n",
       "3          MC Global Edtech, B Capital, Baron, others        Series F   \n",
       "4                               Titan Capital, others            Seed   \n",
       "5                                      Accel Partners        Series A   \n",
       "6                                                PayU        Series A   \n",
       "7   SIG Global, Sequoia Capital, WaterBridge Ventu...        Series B   \n",
       "8                                  Tiger Global, Kora         Venture   \n",
       "9            Rhodium Trust, Accel Partners and Swiggy        Series C   \n",
       "10     Accel Partners and Lightspeed Venture Partners            Seed   \n",
       "11  Azim Premji’s PremjiInvest and South Korea’s M...        Series C   \n",
       "12                                    InnoVen Capital  Debt Financing   \n",
       "13                         SoftBank Vision Fund (SVF)     Unspecified   \n",
       "14                                                 GV        Series A   \n",
       "15                                       Owl Ventures        Series C   \n",
       "16   A91 Partners, Faering Capital, TVS Capital Funds         Venture   \n",
       "17                                  Reckitt Benckiser         Venture   \n",
       "18                                    Prosus Ventures        Series C   \n",
       "19                                Salesforce Ventures            Seed   \n",
       "20                         Heritas Capital Management   Venture Round   \n",
       "21                                    Sequoia Capital    Seed Funding   \n",
       "22                              SIDBI Venture Capital          Series   \n",
       "23          Matrix Partners India, RTP Global, others            Seed   \n",
       "\n",
       "     Amount(USD)  \n",
       "0    250,000,000  \n",
       "1    140,000,000  \n",
       "2      8,000,000  \n",
       "3    460,000,000  \n",
       "4    300,000,000  \n",
       "5     11,000,000  \n",
       "6     27,500,000  \n",
       "7      2,500,000  \n",
       "8    250,000,000  \n",
       "9   2,747,045.20  \n",
       "10   1,50,00,000  \n",
       "11    75,000,000  \n",
       "12     4,773,958  \n",
       "13    55,000,000  \n",
       "14    15,000,000  \n",
       "15    18,000,000  \n",
       "16   1,80,00,000  \n",
       "17  6,172,258.50  \n",
       "18    30,000,000  \n",
       "19    15,000,000  \n",
       "20    16,000,000  \n",
       "21    15,000,000  \n",
       "22   100,000,000  \n",
       "23     4,000,000  "
      ]
     },
     "execution_count": 33,
     "metadata": {},
     "output_type": "execute_result"
    }
   ],
   "source": [
    "df=pd.DataFrame(funding)\n",
    "df"
   ]
  },
  {
   "cell_type": "code",
   "execution_count": 6,
   "id": "466bc599",
   "metadata": {},
   "outputs": [],
   "source": [
    "#que 7\n",
    "\n",
    "url='https://www.digit.in'\n",
    "driver.get(url)"
   ]
  },
  {
   "cell_type": "code",
   "execution_count": 7,
   "id": "913eb500",
   "metadata": {},
   "outputs": [],
   "source": [
    "driver.find_element_by_xpath('//div[@class=\"menu\"]/ul/li[3]/a').click()\n",
    "time.sleep(3)"
   ]
  },
  {
   "cell_type": "code",
   "execution_count": 8,
   "id": "63e9ce43",
   "metadata": {
    "scrolled": true
   },
   "outputs": [],
   "source": [
    "try:\n",
    "    ele=driver.find_element_by_xpath('//div[@class=\"Listbrand\"]/ul/li[10]/a')\n",
    "    driver.execute_script(\"arguments[0].click();\", ele)\n",
    "except ElementClickInterceptedException as e:\n",
    "    src= driver.find_element_by_xpath('//div[@class=\"Listbrand\"]/ul/li[10]/a').get_attribute('src')\n",
    "    driver.get(src)"
   ]
  },
  {
   "cell_type": "code",
   "execution_count": 23,
   "id": "bb606675",
   "metadata": {},
   "outputs": [],
   "source": [
    "product_url=[]\n",
    "url=driver.find_elements_by_xpath('//div[@class=\"TopNumbeHeading active sticky-footer\"]/a')\n",
    "for i in url:\n",
    "    product_url.append(i.get_attribute('href'))"
   ]
  },
  {
   "cell_type": "code",
   "execution_count": 24,
   "id": "a576e074",
   "metadata": {},
   "outputs": [
    {
     "data": {
      "text/plain": [
       "['https://www.digit.in/laptops/hp-victus-16-amd-price-237689.html',\n",
       " 'https://www.digit.in/laptops/hp-omen-15-ryzen-7-core-5800h-2022-price-277613.html',\n",
       " 'https://www.digit.in/laptops/acer-nitro-5-ryzen-9-2021-price-245857.html',\n",
       " 'https://www.digit.in/laptops/msi-stealth-15m-11th-gen-core-i7-11375h-2021-price-245885.html',\n",
       " 'https://www.digit.in/laptops/asus-rog-strix-scar-15-ryzen-9-5900hx-2021-price-245899.html',\n",
       " 'https://www.digit.in/laptops/asus-rog-strix-scar-15-price-228221.html',\n",
       " 'https://www.digit.in/laptops/asus-rog-zephyrus-g14-price-209173.html',\n",
       " 'https://www.digit.in/laptops/lenovo-legion-5i-price-228235.html',\n",
       " 'https://www.digit.in/laptops/asus-rog-zephyrus-duo-15-price-215799.html',\n",
       " 'https://www.digit.in/laptops/acer-aspire-7-gaming-price-223781.html']"
      ]
     },
     "execution_count": 24,
     "metadata": {},
     "output_type": "execute_result"
    }
   ],
   "source": [
    "product_url"
   ]
  },
  {
   "cell_type": "code",
   "execution_count": 56,
   "id": "325f0a6b",
   "metadata": {},
   "outputs": [],
   "source": [
    "name=[]\n",
    "os=[]\n",
    "display=[]\n",
    "processor=[]\n",
    "memory=[]\n",
    "market_status=[]\n",
    "release_date=[]\n",
    "price=[]\n",
    "official_website=[]\n",
    "\n",
    "for i in product_url:\n",
    "    driver.get(i)\n",
    "    time.sleep(4)\n",
    "    for i in driver.find_elements_by_xpath('//div[@class=\"heading-wraper\"]/h1'):\n",
    "        name.append(i.text)\n",
    "    for i in driver.find_elements_by_xpath('/html/body/div[3]/div[2]/div[3]/div[3]/div[3]/div/ul/li[1]/div/p[2]/strong'):\n",
    "        os.append(i.text)\n",
    "    for i in driver.find_elements_by_xpath('/html/body/div[3]/div[2]/div[3]/div[3]/div[3]/div/ul/li[2]/div/p[2]/strong'):\n",
    "        display.append(i.text)\n",
    "    for i in driver.find_elements_by_xpath('/html/body/div[3]/div[2]/div[3]/div[3]/div[3]/div/ul/li[3]/div/p[2]/strong'):\n",
    "        processor.append(i.text)\n",
    "    for i in driver.find_elements_by_xpath('/html/body/div[3]/div[2]/div[3]/div[3]/div[3]/div/ul/li[4]/div/p[2]/strong'):\n",
    "        memory.append(i.text)\n",
    "    for i in driver.find_elements_by_xpath('//strong[@class=\"red\"]'):\n",
    "        market_status.append(i.text)\n",
    "    for i in driver.find_elements_by_xpath('/html/body/div[3]/div[2]/div[3]/div[3]/div[1]/div[2]/strong'):\n",
    "        release_date.append(i.text)\n",
    "    for i in driver.find_elements_by_xpath('/html/body/div[3]/div[2]/div[3]/div[3]/div[1]/div[3]/strong'):\n",
    "        official_website.append(i.text)\n",
    "    for i in driver.find_elements_by_xpath('/html/body/div[3]/div[2]/div[3]/div[3]/div[4]/div/h2/strong'):\n",
    "        price.append(i.text)"
   ]
  },
  {
   "cell_type": "code",
   "execution_count": 58,
   "id": "bbe59dbb",
   "metadata": {},
   "outputs": [
    {
     "data": {
      "text/html": [
       "<div>\n",
       "<style scoped>\n",
       "    .dataframe tbody tr th:only-of-type {\n",
       "        vertical-align: middle;\n",
       "    }\n",
       "\n",
       "    .dataframe tbody tr th {\n",
       "        vertical-align: top;\n",
       "    }\n",
       "\n",
       "    .dataframe thead th {\n",
       "        text-align: right;\n",
       "    }\n",
       "</style>\n",
       "<table border=\"1\" class=\"dataframe\">\n",
       "  <thead>\n",
       "    <tr style=\"text-align: right;\">\n",
       "      <th></th>\n",
       "      <th>Name</th>\n",
       "      <th>Operating System</th>\n",
       "      <th>Display</th>\n",
       "      <th>Processor</th>\n",
       "      <th>Memory</th>\n",
       "      <th>Market Status</th>\n",
       "      <th>Release Date</th>\n",
       "      <th>Official Website</th>\n",
       "      <th>Price</th>\n",
       "    </tr>\n",
       "  </thead>\n",
       "  <tbody>\n",
       "    <tr>\n",
       "      <th>0</th>\n",
       "      <td>HP Victus 16 (AMD)</td>\n",
       "      <td>Windows 10</td>\n",
       "      <td>16.1\" (1920 X 1200)</td>\n",
       "      <td>5th Gen AMD Ryzen 7 5800H | 3.2GHz</td>\n",
       "      <td>512 GB SSD/16 GBGB DDR4</td>\n",
       "      <td>LAUNCHED</td>\n",
       "      <td>27 Jul, 2021</td>\n",
       "      <td>HP</td>\n",
       "      <td>₹ 104,990</td>\n",
       "    </tr>\n",
       "    <tr>\n",
       "      <th>1</th>\n",
       "      <td>HP Omen 15 Ryzen 7 Core-5800H (2022)</td>\n",
       "      <td>Windows 10 Home</td>\n",
       "      <td>15.6\" (1920 X 1080)</td>\n",
       "      <td>AMD Ryzen 7 Octa Core-5800H | 4.4 GHz</td>\n",
       "      <td>1 TB SSD/16 GBGB DDR4</td>\n",
       "      <td>LAUNCHED</td>\n",
       "      <td>07 Mar, 2022</td>\n",
       "      <td>HP</td>\n",
       "      <td>₹ 110,790</td>\n",
       "    </tr>\n",
       "    <tr>\n",
       "      <th>2</th>\n",
       "      <td>Acer NITRO 5 Ryzen 9 (2021)</td>\n",
       "      <td>Windows 10</td>\n",
       "      <td>15.6\" (1920 X 1080)</td>\n",
       "      <td>AMD Ryzen 9 Octa Core | 2.4 GHz</td>\n",
       "      <td>1 TB HDD/16 GBGB DDR4</td>\n",
       "      <td>LAUNCHED</td>\n",
       "      <td>06 Oct, 2021</td>\n",
       "      <td>Acer</td>\n",
       "      <td>₹ 129,990</td>\n",
       "    </tr>\n",
       "    <tr>\n",
       "      <th>3</th>\n",
       "      <td>MSI Stealth 15M 11th Gen Core i7-11375H (2021)</td>\n",
       "      <td>Windows 10</td>\n",
       "      <td>15.6\" (1920 X 1080)</td>\n",
       "      <td>Intel Core I7 11th Gen - 11375H | NA</td>\n",
       "      <td>1 TB SSD/16 GBGB DDR4</td>\n",
       "      <td>LAUNCHED</td>\n",
       "      <td>06 Oct, 2021</td>\n",
       "      <td>MSI</td>\n",
       "      <td>₹ 134,990</td>\n",
       "    </tr>\n",
       "    <tr>\n",
       "      <th>4</th>\n",
       "      <td>ASUS ROG Strix Scar 15 Ryzen 9-5900HX (2021)</td>\n",
       "      <td>Windows 10</td>\n",
       "      <td>15.6\" (2560 X 1440)</td>\n",
       "      <td>AMD Ryzen 9 Octa Core - 5900HX | 3.3 GHz</td>\n",
       "      <td>2 TB SSD/32 GBGB DDR4</td>\n",
       "      <td>LAUNCHED</td>\n",
       "      <td>06 Oct, 2021</td>\n",
       "      <td>Asus</td>\n",
       "      <td>₹ 193,990</td>\n",
       "    </tr>\n",
       "    <tr>\n",
       "      <th>5</th>\n",
       "      <td>ASUS ROG Strix Scar 15</td>\n",
       "      <td>Windows 10 Home</td>\n",
       "      <td>15.6\" (1920 X 1080)</td>\n",
       "      <td>AMD Ryzen™ 9 5900HX | 3.3 GHz</td>\n",
       "      <td>1 TB SSD/16 GBGB DDR4</td>\n",
       "      <td>LAUNCHED</td>\n",
       "      <td>28 Apr, 2021</td>\n",
       "      <td>Asus</td>\n",
       "      <td>₹ 215,990</td>\n",
       "    </tr>\n",
       "    <tr>\n",
       "      <th>6</th>\n",
       "      <td>Asus ROG Zephyrus G14</td>\n",
       "      <td>Windows 10 Home</td>\n",
       "      <td>14\" (1920 X 1080)</td>\n",
       "      <td>AMD 3rd Gen Ryzen 9 | 3.3 GHz</td>\n",
       "      <td>1 TB SSD/16 GBGB DDR4</td>\n",
       "      <td>LAUNCHED</td>\n",
       "      <td>12 Aug, 2020</td>\n",
       "      <td>Asus</td>\n",
       "      <td>₹ 144,990</td>\n",
       "    </tr>\n",
       "    <tr>\n",
       "      <th>7</th>\n",
       "      <td>Lenovo Legion 5i</td>\n",
       "      <td>Windows 10 Pro</td>\n",
       "      <td>15.6\" (1920 X 1080)</td>\n",
       "      <td>10th Gen Intel® Core™ I5-10300H | 2.50 GHz</td>\n",
       "      <td>1 TB SSD/16 GBGB DDR4</td>\n",
       "      <td>LAUNCHED</td>\n",
       "      <td>28 Apr, 2021</td>\n",
       "      <td>Lenovo</td>\n",
       "      <td>₹ 76,988</td>\n",
       "    </tr>\n",
       "    <tr>\n",
       "      <th>8</th>\n",
       "      <td>Asus ROG Zephyrus Duo 15</td>\n",
       "      <td>Windows 10</td>\n",
       "      <td>15.6\" (3840 X 1100)</td>\n",
       "      <td>Intel Core I7 10th Gen 10875H | NA</td>\n",
       "      <td>512 GB SSD/4 GBGB DDR4</td>\n",
       "      <td>LAUNCHED</td>\n",
       "      <td>20 Nov, 2020</td>\n",
       "      <td>Asus</td>\n",
       "      <td>₹ 185,000</td>\n",
       "    </tr>\n",
       "    <tr>\n",
       "      <th>9</th>\n",
       "      <td>Acer Aspire 7 Gaming</td>\n",
       "      <td>Windows 10 Home</td>\n",
       "      <td>15.6\" (1920 X 1080)</td>\n",
       "      <td>AMD Ryzen™ 5-5500U Hexa-Core | NA</td>\n",
       "      <td>512 GB SSD/8 GBGB DDR4</td>\n",
       "      <td>LAUNCHED</td>\n",
       "      <td>09 Apr, 2021</td>\n",
       "      <td>Acer</td>\n",
       "      <td>₹ 53,490</td>\n",
       "    </tr>\n",
       "  </tbody>\n",
       "</table>\n",
       "</div>"
      ],
      "text/plain": [
       "                                             Name Operating System  \\\n",
       "0                              HP Victus 16 (AMD)       Windows 10   \n",
       "1            HP Omen 15 Ryzen 7 Core-5800H (2022)  Windows 10 Home   \n",
       "2                     Acer NITRO 5 Ryzen 9 (2021)       Windows 10   \n",
       "3  MSI Stealth 15M 11th Gen Core i7-11375H (2021)       Windows 10   \n",
       "4    ASUS ROG Strix Scar 15 Ryzen 9-5900HX (2021)       Windows 10   \n",
       "5                          ASUS ROG Strix Scar 15  Windows 10 Home   \n",
       "6                           Asus ROG Zephyrus G14  Windows 10 Home   \n",
       "7                                Lenovo Legion 5i   Windows 10 Pro   \n",
       "8                        Asus ROG Zephyrus Duo 15       Windows 10   \n",
       "9                            Acer Aspire 7 Gaming  Windows 10 Home   \n",
       "\n",
       "               Display                                   Processor  \\\n",
       "0  16.1\" (1920 X 1200)          5th Gen AMD Ryzen 7 5800H | 3.2GHz   \n",
       "1  15.6\" (1920 X 1080)       AMD Ryzen 7 Octa Core-5800H | 4.4 GHz   \n",
       "2  15.6\" (1920 X 1080)             AMD Ryzen 9 Octa Core | 2.4 GHz   \n",
       "3  15.6\" (1920 X 1080)        Intel Core I7 11th Gen - 11375H | NA   \n",
       "4  15.6\" (2560 X 1440)    AMD Ryzen 9 Octa Core - 5900HX | 3.3 GHz   \n",
       "5  15.6\" (1920 X 1080)               AMD Ryzen™ 9 5900HX | 3.3 GHz   \n",
       "6    14\" (1920 X 1080)               AMD 3rd Gen Ryzen 9 | 3.3 GHz   \n",
       "7  15.6\" (1920 X 1080)  10th Gen Intel® Core™ I5-10300H | 2.50 GHz   \n",
       "8  15.6\" (3840 X 1100)          Intel Core I7 10th Gen 10875H | NA   \n",
       "9  15.6\" (1920 X 1080)           AMD Ryzen™ 5-5500U Hexa-Core | NA   \n",
       "\n",
       "                    Memory Market Status  Release Date Official Website  \\\n",
       "0  512 GB SSD/16 GBGB DDR4      LAUNCHED  27 Jul, 2021               HP   \n",
       "1    1 TB SSD/16 GBGB DDR4      LAUNCHED  07 Mar, 2022               HP   \n",
       "2    1 TB HDD/16 GBGB DDR4      LAUNCHED  06 Oct, 2021             Acer   \n",
       "3    1 TB SSD/16 GBGB DDR4      LAUNCHED  06 Oct, 2021              MSI   \n",
       "4    2 TB SSD/32 GBGB DDR4      LAUNCHED  06 Oct, 2021             Asus   \n",
       "5    1 TB SSD/16 GBGB DDR4      LAUNCHED  28 Apr, 2021             Asus   \n",
       "6    1 TB SSD/16 GBGB DDR4      LAUNCHED  12 Aug, 2020             Asus   \n",
       "7    1 TB SSD/16 GBGB DDR4      LAUNCHED  28 Apr, 2021           Lenovo   \n",
       "8   512 GB SSD/4 GBGB DDR4      LAUNCHED  20 Nov, 2020             Asus   \n",
       "9   512 GB SSD/8 GBGB DDR4      LAUNCHED  09 Apr, 2021             Acer   \n",
       "\n",
       "       Price  \n",
       "0  ₹ 104,990  \n",
       "1  ₹ 110,790  \n",
       "2  ₹ 129,990  \n",
       "3  ₹ 134,990  \n",
       "4  ₹ 193,990  \n",
       "5  ₹ 215,990  \n",
       "6  ₹ 144,990  \n",
       "7   ₹ 76,988  \n",
       "8  ₹ 185,000  \n",
       "9   ₹ 53,490  "
      ]
     },
     "execution_count": 58,
     "metadata": {},
     "output_type": "execute_result"
    }
   ],
   "source": [
    "gaming_laptop=pd.DataFrame({'Name':name,'Operating System':os,'Display':display,'Processor':processor,\n",
    "                          'Memory':memory,'Market Status':market_status,'Release Date':release_date,\n",
    "                          'Official Website':official_website,'Price':price})\n",
    "gaming_laptop"
   ]
  },
  {
   "cell_type": "code",
   "execution_count": 57,
   "id": "9cabb345",
   "metadata": {},
   "outputs": [],
   "source": [
    "#que 4\n",
    "\n",
    "url='https://www.flipkart.com'\n",
    "driver.get(url)\n",
    "time.sleep(5)\n"
   ]
  },
  {
   "cell_type": "code",
   "execution_count": 58,
   "id": "170d50b4",
   "metadata": {},
   "outputs": [],
   "source": [
    "try:\n",
    "    driver.find_element_by_xpath('//button[@class=\"_2KpZ6l _2doB4z\"]').click()\n",
    "except Exception:\n",
    "    pass"
   ]
  },
  {
   "cell_type": "code",
   "execution_count": 59,
   "id": "0b43d269",
   "metadata": {},
   "outputs": [],
   "source": [
    "driver.find_element_by_xpath('//input[@class=\"_3704LK\"]').send_keys('pixel 4A')\n",
    "driver.find_element_by_xpath('//button[@class=\"L0Z3Pu\"]').click()"
   ]
  },
  {
   "cell_type": "code",
   "execution_count": 61,
   "id": "2dd32c37",
   "metadata": {},
   "outputs": [
    {
     "data": {
      "text/plain": [
       "24"
      ]
     },
     "execution_count": 61,
     "metadata": {},
     "output_type": "execute_result"
    }
   ],
   "source": [
    "product_urls=[]\n",
    "url=driver.find_elements_by_xpath('//a[@class=\"_1fQZEK\"]')\n",
    "for i in url:\n",
    "    product_urls.append(i.get_attribute('href'))\n",
    "    \n",
    "len(product_urls)"
   ]
  },
  {
   "cell_type": "code",
   "execution_count": 71,
   "id": "995033a7",
   "metadata": {},
   "outputs": [],
   "source": [
    "brand=[]\n",
    "name=[]\n",
    "color=[]\n",
    "ram=[]\n",
    "rom=[]\n",
    "primary_cam=[]\n",
    "secondary_cam=[]\n",
    "display=[]\n",
    "battery=[]\n",
    "price=[]\n",
    "\n",
    "\n",
    "for i in product_urls:\n",
    "    driver.get(i)\n",
    "    driver.find_element_by_xpath('//button[@class=\"_2KpZ6l _1FH0tX\"]').click()\n",
    "    \n",
    "    for i in driver.find_elements_by_xpath('//span[@class=\"B_NuCI\"]'):\n",
    "        brand.append(i.text.split(\" \",1)[0])\n",
    "        \n",
    "    for i in driver.find_elements_by_xpath('//div[@class=\"_4rR01T\"]'):\n",
    "        name.append(i.text.split(\"(\")[0])\n",
    "    \n",
    "    for i in driver.find_elements_by_xpath('//table[@class=\"_14cfVK\"]//tbody/tr[4]//td[2]'):\n",
    "        if i.text is None:\n",
    "            color.append('--')\n",
    "        else:\n",
    "            color.append(i.text.split(\"Yes\"))\n",
    "            \n",
    "    try:\n",
    "        ram.append(driver.find_elements_by_xpath('//div[@class=\"_2cM9lP\"]//div[@class=\"_2418kt\"]//ul//li[1]').text.split(\"|\")[0])\n",
    "    except:\n",
    "        ram.append('-')\n",
    "    try:\n",
    "        rom.append(driver.find_elements_by_xpath('//div[@class=\"_2cM9lP\"]//div[@class=\"_2418kt\"]//ul//li[1]').text.split(\"|\")[1])\n",
    "    except:\n",
    "        rom.append('-')\n",
    "    try:\n",
    "        primary_cam.append(driver.find_elements_by_xpath('/html/body/div[1]/div/div[3]/div[1]/div[2]/div[6]/div[1]/div/div[2]/ul/li[3]').text.split(\"|\")[0])\n",
    "    except:\n",
    "        primary_cam.append('-')\n",
    "    try:\n",
    "        secondary_cam.append(driver.find_elements_by_xpath('/html/body/div[1]/div/div[3]/div[1]/div[2]/div[6]/div[1]/div/div[2]/ul/li[3]').text.split(\"|\")[1])\n",
    "    except:\n",
    "        secondary_cam.append('-')\n",
    "    try:\n",
    "        display.append(driver.find_elements_by_xpath('/html/body/div[1]/div/div[3]/div[1]/div[2]/div[6]/div[1]/div/div[2]/ul/li[2]').text)\n",
    "    except:\n",
    "        display.append('-')\n",
    "    try:\n",
    "        battery.append(driver.find_elements_by_xpath('/html/body/div[1]/div/div[3]/div[1]/div[2]/div[6]/div[1]/div/div[2]/ul/li[4]').text)\n",
    "    except:\n",
    "        battery.append('-')\n",
    "    for i in driver.find_elements_by_xpath('//div[@class=\"_30jeq3 _16Jk6d\"]'):\n",
    "        price.append(i.text)"
   ]
  },
  {
   "cell_type": "code",
   "execution_count": 67,
   "id": "2d9beed0",
   "metadata": {
    "scrolled": false
   },
   "outputs": [
    {
     "ename": "ValueError",
     "evalue": "All arrays must be of the same length",
     "output_type": "error",
     "traceback": [
      "\u001b[1;31m---------------------------------------------------------------------------\u001b[0m",
      "\u001b[1;31mValueError\u001b[0m                                Traceback (most recent call last)",
      "\u001b[1;32m~\\AppData\\Local\\Temp/ipykernel_14308/1361288125.py\u001b[0m in \u001b[0;36m<module>\u001b[1;34m\u001b[0m\n\u001b[1;32m----> 1\u001b[1;33m mobile=pd.DataFrame({'Brand Name':brand,'Name':name,'Color':color,'RAM':ram,'ROM':rom,'Primary Camera':primary_cam,'Secondary Camera':secondary_cam,'Display size':display,'Battery':battery,\n\u001b[0m\u001b[0;32m      2\u001b[0m                     'Price':price})\n\u001b[0;32m      3\u001b[0m \u001b[0mmobile\u001b[0m\u001b[1;33m\u001b[0m\u001b[1;33m\u001b[0m\u001b[0m\n",
      "\u001b[1;32m~\\anaconda3\\lib\\site-packages\\pandas\\core\\frame.py\u001b[0m in \u001b[0;36m__init__\u001b[1;34m(self, data, index, columns, dtype, copy)\u001b[0m\n\u001b[0;32m    612\u001b[0m         \u001b[1;32melif\u001b[0m \u001b[0misinstance\u001b[0m\u001b[1;33m(\u001b[0m\u001b[0mdata\u001b[0m\u001b[1;33m,\u001b[0m \u001b[0mdict\u001b[0m\u001b[1;33m)\u001b[0m\u001b[1;33m:\u001b[0m\u001b[1;33m\u001b[0m\u001b[1;33m\u001b[0m\u001b[0m\n\u001b[0;32m    613\u001b[0m             \u001b[1;31m# GH#38939 de facto copy defaults to False only in non-dict cases\u001b[0m\u001b[1;33m\u001b[0m\u001b[1;33m\u001b[0m\u001b[0m\n\u001b[1;32m--> 614\u001b[1;33m             \u001b[0mmgr\u001b[0m \u001b[1;33m=\u001b[0m \u001b[0mdict_to_mgr\u001b[0m\u001b[1;33m(\u001b[0m\u001b[0mdata\u001b[0m\u001b[1;33m,\u001b[0m \u001b[0mindex\u001b[0m\u001b[1;33m,\u001b[0m \u001b[0mcolumns\u001b[0m\u001b[1;33m,\u001b[0m \u001b[0mdtype\u001b[0m\u001b[1;33m=\u001b[0m\u001b[0mdtype\u001b[0m\u001b[1;33m,\u001b[0m \u001b[0mcopy\u001b[0m\u001b[1;33m=\u001b[0m\u001b[0mcopy\u001b[0m\u001b[1;33m,\u001b[0m \u001b[0mtyp\u001b[0m\u001b[1;33m=\u001b[0m\u001b[0mmanager\u001b[0m\u001b[1;33m)\u001b[0m\u001b[1;33m\u001b[0m\u001b[1;33m\u001b[0m\u001b[0m\n\u001b[0m\u001b[0;32m    615\u001b[0m         \u001b[1;32melif\u001b[0m \u001b[0misinstance\u001b[0m\u001b[1;33m(\u001b[0m\u001b[0mdata\u001b[0m\u001b[1;33m,\u001b[0m \u001b[0mma\u001b[0m\u001b[1;33m.\u001b[0m\u001b[0mMaskedArray\u001b[0m\u001b[1;33m)\u001b[0m\u001b[1;33m:\u001b[0m\u001b[1;33m\u001b[0m\u001b[1;33m\u001b[0m\u001b[0m\n\u001b[0;32m    616\u001b[0m             \u001b[1;32mimport\u001b[0m \u001b[0mnumpy\u001b[0m\u001b[1;33m.\u001b[0m\u001b[0mma\u001b[0m\u001b[1;33m.\u001b[0m\u001b[0mmrecords\u001b[0m \u001b[1;32mas\u001b[0m \u001b[0mmrecords\u001b[0m\u001b[1;33m\u001b[0m\u001b[1;33m\u001b[0m\u001b[0m\n",
      "\u001b[1;32m~\\anaconda3\\lib\\site-packages\\pandas\\core\\internals\\construction.py\u001b[0m in \u001b[0;36mdict_to_mgr\u001b[1;34m(data, index, columns, dtype, typ, copy)\u001b[0m\n\u001b[0;32m    462\u001b[0m         \u001b[1;31m# TODO: can we get rid of the dt64tz special case above?\u001b[0m\u001b[1;33m\u001b[0m\u001b[1;33m\u001b[0m\u001b[0m\n\u001b[0;32m    463\u001b[0m \u001b[1;33m\u001b[0m\u001b[0m\n\u001b[1;32m--> 464\u001b[1;33m     return arrays_to_mgr(\n\u001b[0m\u001b[0;32m    465\u001b[0m         \u001b[0marrays\u001b[0m\u001b[1;33m,\u001b[0m \u001b[0mdata_names\u001b[0m\u001b[1;33m,\u001b[0m \u001b[0mindex\u001b[0m\u001b[1;33m,\u001b[0m \u001b[0mcolumns\u001b[0m\u001b[1;33m,\u001b[0m \u001b[0mdtype\u001b[0m\u001b[1;33m=\u001b[0m\u001b[0mdtype\u001b[0m\u001b[1;33m,\u001b[0m \u001b[0mtyp\u001b[0m\u001b[1;33m=\u001b[0m\u001b[0mtyp\u001b[0m\u001b[1;33m,\u001b[0m \u001b[0mconsolidate\u001b[0m\u001b[1;33m=\u001b[0m\u001b[0mcopy\u001b[0m\u001b[1;33m\u001b[0m\u001b[1;33m\u001b[0m\u001b[0m\n\u001b[0;32m    466\u001b[0m     )\n",
      "\u001b[1;32m~\\anaconda3\\lib\\site-packages\\pandas\\core\\internals\\construction.py\u001b[0m in \u001b[0;36marrays_to_mgr\u001b[1;34m(arrays, arr_names, index, columns, dtype, verify_integrity, typ, consolidate)\u001b[0m\n\u001b[0;32m    117\u001b[0m         \u001b[1;31m# figure out the index, if necessary\u001b[0m\u001b[1;33m\u001b[0m\u001b[1;33m\u001b[0m\u001b[0m\n\u001b[0;32m    118\u001b[0m         \u001b[1;32mif\u001b[0m \u001b[0mindex\u001b[0m \u001b[1;32mis\u001b[0m \u001b[1;32mNone\u001b[0m\u001b[1;33m:\u001b[0m\u001b[1;33m\u001b[0m\u001b[1;33m\u001b[0m\u001b[0m\n\u001b[1;32m--> 119\u001b[1;33m             \u001b[0mindex\u001b[0m \u001b[1;33m=\u001b[0m \u001b[0m_extract_index\u001b[0m\u001b[1;33m(\u001b[0m\u001b[0marrays\u001b[0m\u001b[1;33m)\u001b[0m\u001b[1;33m\u001b[0m\u001b[1;33m\u001b[0m\u001b[0m\n\u001b[0m\u001b[0;32m    120\u001b[0m         \u001b[1;32melse\u001b[0m\u001b[1;33m:\u001b[0m\u001b[1;33m\u001b[0m\u001b[1;33m\u001b[0m\u001b[0m\n\u001b[0;32m    121\u001b[0m             \u001b[0mindex\u001b[0m \u001b[1;33m=\u001b[0m \u001b[0mensure_index\u001b[0m\u001b[1;33m(\u001b[0m\u001b[0mindex\u001b[0m\u001b[1;33m)\u001b[0m\u001b[1;33m\u001b[0m\u001b[1;33m\u001b[0m\u001b[0m\n",
      "\u001b[1;32m~\\anaconda3\\lib\\site-packages\\pandas\\core\\internals\\construction.py\u001b[0m in \u001b[0;36m_extract_index\u001b[1;34m(data)\u001b[0m\n\u001b[0;32m    633\u001b[0m             \u001b[0mlengths\u001b[0m \u001b[1;33m=\u001b[0m \u001b[0mlist\u001b[0m\u001b[1;33m(\u001b[0m\u001b[0mset\u001b[0m\u001b[1;33m(\u001b[0m\u001b[0mraw_lengths\u001b[0m\u001b[1;33m)\u001b[0m\u001b[1;33m)\u001b[0m\u001b[1;33m\u001b[0m\u001b[1;33m\u001b[0m\u001b[0m\n\u001b[0;32m    634\u001b[0m             \u001b[1;32mif\u001b[0m \u001b[0mlen\u001b[0m\u001b[1;33m(\u001b[0m\u001b[0mlengths\u001b[0m\u001b[1;33m)\u001b[0m \u001b[1;33m>\u001b[0m \u001b[1;36m1\u001b[0m\u001b[1;33m:\u001b[0m\u001b[1;33m\u001b[0m\u001b[1;33m\u001b[0m\u001b[0m\n\u001b[1;32m--> 635\u001b[1;33m                 \u001b[1;32mraise\u001b[0m \u001b[0mValueError\u001b[0m\u001b[1;33m(\u001b[0m\u001b[1;34m\"All arrays must be of the same length\"\u001b[0m\u001b[1;33m)\u001b[0m\u001b[1;33m\u001b[0m\u001b[1;33m\u001b[0m\u001b[0m\n\u001b[0m\u001b[0;32m    636\u001b[0m \u001b[1;33m\u001b[0m\u001b[0m\n\u001b[0;32m    637\u001b[0m             \u001b[1;32mif\u001b[0m \u001b[0mhave_dicts\u001b[0m\u001b[1;33m:\u001b[0m\u001b[1;33m\u001b[0m\u001b[1;33m\u001b[0m\u001b[0m\n",
      "\u001b[1;31mValueError\u001b[0m: All arrays must be of the same length"
     ]
    }
   ],
   "source": [
    "mobile=pd.DataFrame({'Brand Name':brand,'Name':name,'Color':color,'RAM':ram,'ROM':rom,'Primary Camera':primary_cam,'Secondary Camera':secondary_cam,'Display size':display,'Battery':battery,\n",
    "                    'Price':price})\n",
    "mobile"
   ]
  },
  {
   "cell_type": "code",
   "execution_count": 75,
   "id": "f6e031d2",
   "metadata": {},
   "outputs": [
    {
     "data": {
      "text/plain": [
       "[['Just Black'],\n",
       " ['Adreno 618'],\n",
       " ['2.2 GHz'],\n",
       " ['', ''],\n",
       " ['Google Chrome'],\n",
       " ['443 PPI'],\n",
       " ['143 g'],\n",
       " ['Carbon Black'],\n",
       " ['PowerVR GE8320'],\n",
       " ['2 GHz'],\n",
       " ['microSD'],\n",
       " ['', ''],\n",
       " ['', ''],\n",
       " ['', ''],\n",
       " ['Alphanumeric'],\n",
       " ['194 g'],\n",
       " ['Coral Green'],\n",
       " ['PowerVR GE8320'],\n",
       " ['2 GHz'],\n",
       " ['microSD'],\n",
       " ['', ''],\n",
       " ['', ''],\n",
       " ['', ''],\n",
       " ['Alphanumeric'],\n",
       " ['194 g'],\n",
       " ['Metallic Blue'],\n",
       " ['PowerVR GE8320'],\n",
       " ['2 GHz'],\n",
       " ['microSD'],\n",
       " ['', ''],\n",
       " ['', ''],\n",
       " ['2.0'],\n",
       " ['Alphanumeric'],\n",
       " ['193 g'],\n",
       " ['Carbon Black'],\n",
       " ['PowerVR GE8320'],\n",
       " ['2 GHz'],\n",
       " ['microSD'],\n",
       " ['', ''],\n",
       " ['', ''],\n",
       " ['', ''],\n",
       " ['Alphanumeric'],\n",
       " ['194 g'],\n",
       " ['Metallic Blue'],\n",
       " ['PowerVR GE8320'],\n",
       " ['2 GHz'],\n",
       " ['microSD'],\n",
       " ['', ''],\n",
       " ['', ''],\n",
       " ['', ''],\n",
       " ['Alphanumeric'],\n",
       " ['194 g'],\n",
       " ['Blue'],\n",
       " ['', ''],\n",
       " ['Space Black'],\n",
       " ['Adreno 610'],\n",
       " ['2.4 GHz'],\n",
       " ['microSD'],\n",
       " ['', ''],\n",
       " ['', ''],\n",
       " ['', ''],\n",
       " ['MIUI 13'],\n",
       " ['Space Black'],\n",
       " ['Horizon Blue'],\n",
       " ['Adreno 610'],\n",
       " ['2.4 GHz'],\n",
       " ['microSD'],\n",
       " ['', ''],\n",
       " ['', ''],\n",
       " ['', ''],\n",
       " ['MIUI 13'],\n",
       " ['Starburst White'],\n",
       " ['Starburst White'],\n",
       " ['SeaBlue'],\n",
       " ['', ''],\n",
       " ['', ''],\n",
       " ['', ''],\n",
       " ['Nature Green'],\n",
       " ['', ''],\n",
       " ['', ''],\n",
       " ['', ''],\n",
       " ['Midnight Black'],\n",
       " ['', ''],\n",
       " ['', ''],\n",
       " ['', ''],\n",
       " ['', ''],\n",
       " ['Horizon Blue'],\n",
       " ['Navy'],\n",
       " ['', ''],\n",
       " ['Phantom Black'],\n",
       " ['Mali-G52 MC2'],\n",
       " ['2 GHz'],\n",
       " ['microSD'],\n",
       " ['', ''],\n",
       " ['', ''],\n",
       " ['', ''],\n",
       " ['MIUI 12.5'],\n",
       " ['Vintage Bronze'],\n",
       " ['', ''],\n",
       " ['5'],\n",
       " ['No'],\n",
       " ['Horizon Blue'],\n",
       " ['Polar White'],\n",
       " ['Horizon Blue'],\n",
       " ['Space Black'],\n",
       " ['Starburst White']]"
      ]
     },
     "execution_count": 75,
     "metadata": {},
     "output_type": "execute_result"
    }
   ],
   "source": [
    "color"
   ]
  },
  {
   "cell_type": "code",
   "execution_count": 39,
   "id": "7e09bacb",
   "metadata": {},
   "outputs": [
    {
     "name": "stdout",
     "output_type": "stream",
     "text": [
      "Enter the City Name: Nagpur\n",
      "latitude is :- 21.1498134 \n",
      "longtitude is:- 79.0820556\n"
     ]
    }
   ],
   "source": [
    "#que 5\n",
    "\n",
    "import time\n",
    "url='https://www.google.com/maps'\n",
    "driver.get(url)\n",
    "time.sleep(4)\n",
    "inp=driver.find_element_by_id(\"searchboxinput\")\n",
    "loc=input(\"Enter the City Name: \")\n",
    "inp.send_keys(loc)\n",
    "search=driver.find_element_by_id(\"searchbox-searchbutton\")\n",
    "search.click()\n",
    "\n",
    "from  geopy.geocoders import Nominatim\n",
    "geolocator = Nominatim(user_agent=\"jupyter\")\n",
    "\n",
    "location= geolocator.geocode(loc)\n",
    "print(\"latitude is :-\" ,location.latitude,\"\\nlongtitude is:-\" ,location.longitude)"
   ]
  },
  {
   "cell_type": "code",
   "execution_count": 54,
   "id": "ebe71d28",
   "metadata": {},
   "outputs": [],
   "source": [
    "#que 8\n",
    "\n",
    "url='https://www.forbes.com'\n",
    "driver.get(url)\n",
    "time.sleep(5)\n",
    "\n",
    "try:\n",
    "    bill=driver.find_element_by_xpath('//div[@class=\"footer__nav\"]//a[2]')\n",
    "    bill.click()\n",
    "except:\n",
    "    bill=driver.find_element_by_xpath('//a[@class=\"footer__nav-item\"]')\n",
    "    bill.click()\n",
    "    \n",
    "li=driver.find_element_by_xpath('/html/body/div[1]/main/div/section/section[1]/div/div/div[1]/div/div[1]/div[1]/div[2]/a/h2')\n",
    "li.click()"
   ]
  },
  {
   "cell_type": "code",
   "execution_count": 40,
   "id": "01562c5e",
   "metadata": {},
   "outputs": [],
   "source": [
    "url=[]\n",
    "for i in driver.find_elements_by_class_name(\"goto-page__btn\"):\n",
    "    url.append(i)"
   ]
  },
  {
   "cell_type": "code",
   "execution_count": 41,
   "id": "5b02a4d9",
   "metadata": {},
   "outputs": [
    {
     "data": {
      "text/plain": [
       "[<selenium.webdriver.remote.webelement.WebElement (session=\"021a8df74b191630409f9b4c6afe2f4a\", element=\"c0fb0892-65a9-4854-a57a-0b62bc73eb97\")>,\n",
       " <selenium.webdriver.remote.webelement.WebElement (session=\"021a8df74b191630409f9b4c6afe2f4a\", element=\"2e25d4bd-487e-42cc-a5aa-af89c3aba4d9\")>,\n",
       " <selenium.webdriver.remote.webelement.WebElement (session=\"021a8df74b191630409f9b4c6afe2f4a\", element=\"b3b54847-05f5-4306-804b-83b039fafa2d\")>,\n",
       " <selenium.webdriver.remote.webelement.WebElement (session=\"021a8df74b191630409f9b4c6afe2f4a\", element=\"9de0378b-3e6f-4b56-9da1-1b7cde05db5d\")>,\n",
       " <selenium.webdriver.remote.webelement.WebElement (session=\"021a8df74b191630409f9b4c6afe2f4a\", element=\"aedf8e5c-8c68-4a01-a439-7578075076b0\")>,\n",
       " <selenium.webdriver.remote.webelement.WebElement (session=\"021a8df74b191630409f9b4c6afe2f4a\", element=\"3aad4014-9a46-459f-ae91-ca4023e0cc9e\")>,\n",
       " <selenium.webdriver.remote.webelement.WebElement (session=\"021a8df74b191630409f9b4c6afe2f4a\", element=\"1e4f1aa8-f840-4c7a-9e38-755c225515e8\")>,\n",
       " <selenium.webdriver.remote.webelement.WebElement (session=\"021a8df74b191630409f9b4c6afe2f4a\", element=\"b110258b-b28f-4f4c-b247-b29b74656a23\")>,\n",
       " <selenium.webdriver.remote.webelement.WebElement (session=\"021a8df74b191630409f9b4c6afe2f4a\", element=\"4fb214c0-329d-466a-873c-ea207efd74e9\")>,\n",
       " <selenium.webdriver.remote.webelement.WebElement (session=\"021a8df74b191630409f9b4c6afe2f4a\", element=\"7303c4b3-529a-433f-890f-3d99a56eb228\")>,\n",
       " <selenium.webdriver.remote.webelement.WebElement (session=\"021a8df74b191630409f9b4c6afe2f4a\", element=\"0b4d6e4b-947d-4579-b751-e7a90de8ad10\")>,\n",
       " <selenium.webdriver.remote.webelement.WebElement (session=\"021a8df74b191630409f9b4c6afe2f4a\", element=\"aac2d35b-2dab-4f95-8eb9-c8c989fbac17\")>,\n",
       " <selenium.webdriver.remote.webelement.WebElement (session=\"021a8df74b191630409f9b4c6afe2f4a\", element=\"eb19d36b-d4b6-4fe9-a052-6ce392a7c3cc\")>,\n",
       " <selenium.webdriver.remote.webelement.WebElement (session=\"021a8df74b191630409f9b4c6afe2f4a\", element=\"7cb401e9-d975-45dd-b5a9-ea22537b6298\")>]"
      ]
     },
     "execution_count": 41,
     "metadata": {},
     "output_type": "execute_result"
    }
   ],
   "source": [
    "url"
   ]
  },
  {
   "cell_type": "code",
   "execution_count": 56,
   "id": "986d9957",
   "metadata": {},
   "outputs": [
    {
     "ename": "AttributeError",
     "evalue": "'list' object has no attribute 'click'",
     "output_type": "error",
     "traceback": [
      "\u001b[1;31m---------------------------------------------------------------------------\u001b[0m",
      "\u001b[1;31mAttributeError\u001b[0m                            Traceback (most recent call last)",
      "\u001b[1;32m~\\AppData\\Local\\Temp/ipykernel_14308/892699900.py\u001b[0m in \u001b[0;36m<module>\u001b[1;34m\u001b[0m\n\u001b[0;32m     29\u001b[0m     \u001b[0mindustry\u001b[0m\u001b[1;33m.\u001b[0m\u001b[0mappend\u001b[0m\u001b[1;33m(\u001b[0m\u001b[0mi\u001b[0m\u001b[1;33m.\u001b[0m\u001b[0mtext\u001b[0m\u001b[1;33m)\u001b[0m\u001b[1;33m\u001b[0m\u001b[1;33m\u001b[0m\u001b[0m\n\u001b[0;32m     30\u001b[0m \u001b[0mnxt\u001b[0m\u001b[1;33m=\u001b[0m\u001b[0mdriver\u001b[0m\u001b[1;33m.\u001b[0m\u001b[0mfind_elements_by_xpath\u001b[0m\u001b[1;33m(\u001b[0m\u001b[1;34m'//div[@class=\"pagination\"]//button//div[@class=\"next-page\"]//i'\u001b[0m\u001b[1;33m)\u001b[0m\u001b[1;33m\u001b[0m\u001b[1;33m\u001b[0m\u001b[0m\n\u001b[1;32m---> 31\u001b[1;33m \u001b[0mnxt\u001b[0m\u001b[1;33m.\u001b[0m\u001b[0mclick\u001b[0m\u001b[1;33m(\u001b[0m\u001b[1;33m)\u001b[0m\u001b[1;33m\u001b[0m\u001b[1;33m\u001b[0m\u001b[0m\n\u001b[0m",
      "\u001b[1;31mAttributeError\u001b[0m: 'list' object has no attribute 'click'"
     ]
    }
   ],
   "source": [
    "rank=[]\n",
    "name=[]\n",
    "worth=[]\n",
    "age=[]\n",
    "country=[]\n",
    "source=[]\n",
    "industry=[]\n",
    "\n",
    "\n",
    "for i in driver.find_elements_by_xpath('//div[@class=\"rank\"]'):\n",
    "    rank.append(i.text)\n",
    "    \n",
    "for i in driver.find_elements_by_xpath('//div[@class=\"personName\"]'):\n",
    "    name.append(i.text)\n",
    "    \n",
    "for i in driver.find_elements_by_xpath('//div[@class=\"netWorth\"]'):\n",
    "    worth.append(i.text)\n",
    "    \n",
    "for i in driver.find_elements_by_xpath('//div[@class=\"age\"]'):\n",
    "    age.append(i.text)\n",
    "    \n",
    "for i in driver.find_elements_by_xpath('//div[@class=\"countryOfCitizenship\"]'):\n",
    "    country.append(i.text)\n",
    "    \n",
    "for i in driver.find_elements_by_xpath('//div[@class=\"source\"]'):\n",
    "    source.append(i.text)\n",
    "    \n",
    "for i in driver.find_elements_by_xpath('//div[@class=\"category\"]'):\n",
    "    industry.append(i.text)\n",
    "nxt=driver.find_elements_by_xpath('//div[@class=\"pagination\"]//button//div[@class=\"next-page\"]//i')  \n",
    "nxt.click()\n"
   ]
  },
  {
   "cell_type": "code",
   "execution_count": 43,
   "id": "2f5e51c3",
   "metadata": {},
   "outputs": [
    {
     "data": {
      "text/plain": [
       "[<selenium.webdriver.remote.webelement.WebElement (session=\"021a8df74b191630409f9b4c6afe2f4a\", element=\"c0fb0892-65a9-4854-a57a-0b62bc73eb97\")>,\n",
       " <selenium.webdriver.remote.webelement.WebElement (session=\"021a8df74b191630409f9b4c6afe2f4a\", element=\"2e25d4bd-487e-42cc-a5aa-af89c3aba4d9\")>,\n",
       " <selenium.webdriver.remote.webelement.WebElement (session=\"021a8df74b191630409f9b4c6afe2f4a\", element=\"b3b54847-05f5-4306-804b-83b039fafa2d\")>,\n",
       " <selenium.webdriver.remote.webelement.WebElement (session=\"021a8df74b191630409f9b4c6afe2f4a\", element=\"9de0378b-3e6f-4b56-9da1-1b7cde05db5d\")>,\n",
       " <selenium.webdriver.remote.webelement.WebElement (session=\"021a8df74b191630409f9b4c6afe2f4a\", element=\"aedf8e5c-8c68-4a01-a439-7578075076b0\")>,\n",
       " <selenium.webdriver.remote.webelement.WebElement (session=\"021a8df74b191630409f9b4c6afe2f4a\", element=\"3aad4014-9a46-459f-ae91-ca4023e0cc9e\")>,\n",
       " <selenium.webdriver.remote.webelement.WebElement (session=\"021a8df74b191630409f9b4c6afe2f4a\", element=\"1e4f1aa8-f840-4c7a-9e38-755c225515e8\")>,\n",
       " <selenium.webdriver.remote.webelement.WebElement (session=\"021a8df74b191630409f9b4c6afe2f4a\", element=\"b110258b-b28f-4f4c-b247-b29b74656a23\")>,\n",
       " <selenium.webdriver.remote.webelement.WebElement (session=\"021a8df74b191630409f9b4c6afe2f4a\", element=\"4fb214c0-329d-466a-873c-ea207efd74e9\")>,\n",
       " <selenium.webdriver.remote.webelement.WebElement (session=\"021a8df74b191630409f9b4c6afe2f4a\", element=\"7303c4b3-529a-433f-890f-3d99a56eb228\")>,\n",
       " <selenium.webdriver.remote.webelement.WebElement (session=\"021a8df74b191630409f9b4c6afe2f4a\", element=\"0b4d6e4b-947d-4579-b751-e7a90de8ad10\")>,\n",
       " <selenium.webdriver.remote.webelement.WebElement (session=\"021a8df74b191630409f9b4c6afe2f4a\", element=\"aac2d35b-2dab-4f95-8eb9-c8c989fbac17\")>,\n",
       " <selenium.webdriver.remote.webelement.WebElement (session=\"021a8df74b191630409f9b4c6afe2f4a\", element=\"eb19d36b-d4b6-4fe9-a052-6ce392a7c3cc\")>,\n",
       " <selenium.webdriver.remote.webelement.WebElement (session=\"021a8df74b191630409f9b4c6afe2f4a\", element=\"7cb401e9-d975-45dd-b5a9-ea22537b6298\")>]"
      ]
     },
     "execution_count": 43,
     "metadata": {},
     "output_type": "execute_result"
    }
   ],
   "source": [
    "nxt=driver.find_elements_by_class_name(\"goto-page__btn\")  \n",
    "nxt"
   ]
  },
  {
   "cell_type": "code",
   "execution_count": 46,
   "id": "5f9ec3b3",
   "metadata": {},
   "outputs": [],
   "source": [
    "# que 9\n",
    "url='https://www.youtube.com/'\n",
    "driver.get(url)"
   ]
  },
  {
   "cell_type": "code",
   "execution_count": 50,
   "id": "8dcf512b",
   "metadata": {},
   "outputs": [],
   "source": [
    "video=driver.find_element_by_id(\"video-title-link\")\n",
    "href=video.get_attribute('href')\n"
   ]
  },
  {
   "cell_type": "code",
   "execution_count": 51,
   "id": "b1e26f19",
   "metadata": {},
   "outputs": [],
   "source": [
    "driver.get(href)\n",
    "time.sleep(5)"
   ]
  },
  {
   "cell_type": "code",
   "execution_count": 52,
   "id": "9d5530bb",
   "metadata": {},
   "outputs": [
    {
     "ename": "AttributeError",
     "evalue": "'list' object has no attribute 'click'",
     "output_type": "error",
     "traceback": [
      "\u001b[1;31m---------------------------------------------------------------------------\u001b[0m",
      "\u001b[1;31mAttributeError\u001b[0m                            Traceback (most recent call last)",
      "\u001b[1;32m~\\AppData\\Local\\Temp/ipykernel_14308/705755083.py\u001b[0m in \u001b[0;36m<module>\u001b[1;34m\u001b[0m\n\u001b[0;32m      1\u001b[0m \u001b[0mpause\u001b[0m\u001b[1;33m=\u001b[0m\u001b[0mdriver\u001b[0m\u001b[1;33m.\u001b[0m\u001b[0mfind_elements_by_xpath\u001b[0m\u001b[1;33m(\u001b[0m\u001b[1;34m'//button[@class=\"ytp-play-button ytp-button\"]'\u001b[0m\u001b[1;33m)\u001b[0m\u001b[1;33m\u001b[0m\u001b[1;33m\u001b[0m\u001b[0m\n\u001b[1;32m----> 2\u001b[1;33m \u001b[0mpause\u001b[0m\u001b[1;33m.\u001b[0m\u001b[0mclick\u001b[0m\u001b[1;33m(\u001b[0m\u001b[1;33m)\u001b[0m\u001b[1;33m\u001b[0m\u001b[1;33m\u001b[0m\u001b[0m\n\u001b[0m",
      "\u001b[1;31mAttributeError\u001b[0m: 'list' object has no attribute 'click'"
     ]
    }
   ],
   "source": [
    "pause=driver.find_elements_by_xpath('//button[@class=\"ytp-play-button ytp-button\"]')\n",
    "pause.click()"
   ]
  },
  {
   "cell_type": "code",
   "execution_count": 101,
   "id": "2e91f299",
   "metadata": {},
   "outputs": [],
   "source": [
    "# que 10\n",
    "\n",
    "url='https://www.hostelworld.com/'\n",
    "driver.get(url)\n",
    "time.sleep(3)\n",
    "\n",
    "img=driver.find_element_by_xpath('//div[@class=\"card\"]//a[@title=\"London Hostels\"]')\n",
    "img.click()"
   ]
  },
  {
   "cell_type": "code",
   "execution_count": 102,
   "id": "1b228cca",
   "metadata": {},
   "outputs": [],
   "source": [
    "href=driver.find_element_by_xpath('//wds-button//a[@class=\"button-native sc-wds-button\"]')\n",
    "show=href.get_attribute('href')"
   ]
  },
  {
   "cell_type": "code",
   "execution_count": 103,
   "id": "ce593d35",
   "metadata": {},
   "outputs": [],
   "source": [
    "driver.get(show)"
   ]
  },
  {
   "cell_type": "code",
   "execution_count": 104,
   "id": "5b94d476",
   "metadata": {},
   "outputs": [
    {
     "ename": "ElementClickInterceptedException",
     "evalue": "Message: element click intercepted: Element is not clickable at point (596, 8037)\n  (Session info: chrome=99.0.4844.84)\nStacktrace:\nBacktrace:\n\tOrdinal0 [0x00359943+2595139]\n\tOrdinal0 [0x002EC9F1+2148849]\n\tOrdinal0 [0x001E4528+1066280]\n\tOrdinal0 [0x00217621+1275425]\n\tOrdinal0 [0x00215657+1267287]\n\tOrdinal0 [0x0021333B+1258299]\n\tOrdinal0 [0x0021207D+1253501]\n\tOrdinal0 [0x00207AB3+1211059]\n\tOrdinal0 [0x0022B9EC+1358316]\n\tOrdinal0 [0x00207474+1209460]\n\tOrdinal0 [0x0022BC04+1358852]\n\tOrdinal0 [0x0023BAF2+1424114]\n\tOrdinal0 [0x0022B806+1357830]\n\tOrdinal0 [0x00206086+1204358]\n\tOrdinal0 [0x00206F96+1208214]\n\tGetHandleVerifier [0x004FB232+1658114]\n\tGetHandleVerifier [0x005B312C+2411516]\n\tGetHandleVerifier [0x003EF261+560433]\n\tGetHandleVerifier [0x003EE366+556598]\n\tOrdinal0 [0x002F286B+2173035]\n\tOrdinal0 [0x002F75F8+2192888]\n\tOrdinal0 [0x002F76E5+2193125]\n\tOrdinal0 [0x003011FC+2232828]\n\tBaseThreadInitThunk [0x7559FA29+25]\n\tRtlGetAppContainerNamedObjectPath [0x77627A7E+286]\n\tRtlGetAppContainerNamedObjectPath [0x77627A4E+238]\n\t(No symbol) [0x00000000]\n",
     "output_type": "error",
     "traceback": [
      "\u001b[1;31m---------------------------------------------------------------------------\u001b[0m",
      "\u001b[1;31mElementClickInterceptedException\u001b[0m          Traceback (most recent call last)",
      "\u001b[1;32m~\\AppData\\Local\\Temp/ipykernel_14308/690296688.py\u001b[0m in \u001b[0;36m<module>\u001b[1;34m\u001b[0m\n\u001b[0;32m     28\u001b[0m         \u001b[0mdorms\u001b[0m\u001b[1;33m.\u001b[0m\u001b[0mappend\u001b[0m\u001b[1;33m(\u001b[0m\u001b[0mi\u001b[0m\u001b[1;33m.\u001b[0m\u001b[0mtext\u001b[0m\u001b[1;33m)\u001b[0m\u001b[1;33m\u001b[0m\u001b[1;33m\u001b[0m\u001b[0m\n\u001b[0;32m     29\u001b[0m \u001b[0mnxt\u001b[0m\u001b[1;33m=\u001b[0m\u001b[0mdriver\u001b[0m\u001b[1;33m.\u001b[0m\u001b[0mfind_element_by_xpath\u001b[0m\u001b[1;33m(\u001b[0m\u001b[1;34m'//i[@class=\"core-icon icon-core-chevron-right\"]'\u001b[0m\u001b[1;33m)\u001b[0m\u001b[1;33m\u001b[0m\u001b[1;33m\u001b[0m\u001b[0m\n\u001b[1;32m---> 30\u001b[1;33m \u001b[0mnxt\u001b[0m\u001b[1;33m.\u001b[0m\u001b[0mclick\u001b[0m\u001b[1;33m(\u001b[0m\u001b[1;33m)\u001b[0m\u001b[1;33m\u001b[0m\u001b[1;33m\u001b[0m\u001b[0m\n\u001b[0m\u001b[0;32m     31\u001b[0m \u001b[1;33m\u001b[0m\u001b[0m\n",
      "\u001b[1;32m~\\anaconda3\\lib\\site-packages\\selenium\\webdriver\\remote\\webelement.py\u001b[0m in \u001b[0;36mclick\u001b[1;34m(self)\u001b[0m\n\u001b[0;32m     79\u001b[0m     \u001b[1;32mdef\u001b[0m \u001b[0mclick\u001b[0m\u001b[1;33m(\u001b[0m\u001b[0mself\u001b[0m\u001b[1;33m)\u001b[0m \u001b[1;33m->\u001b[0m \u001b[1;32mNone\u001b[0m\u001b[1;33m:\u001b[0m\u001b[1;33m\u001b[0m\u001b[1;33m\u001b[0m\u001b[0m\n\u001b[0;32m     80\u001b[0m         \u001b[1;34m\"\"\"Clicks the element.\"\"\"\u001b[0m\u001b[1;33m\u001b[0m\u001b[1;33m\u001b[0m\u001b[0m\n\u001b[1;32m---> 81\u001b[1;33m         \u001b[0mself\u001b[0m\u001b[1;33m.\u001b[0m\u001b[0m_execute\u001b[0m\u001b[1;33m(\u001b[0m\u001b[0mCommand\u001b[0m\u001b[1;33m.\u001b[0m\u001b[0mCLICK_ELEMENT\u001b[0m\u001b[1;33m)\u001b[0m\u001b[1;33m\u001b[0m\u001b[1;33m\u001b[0m\u001b[0m\n\u001b[0m\u001b[0;32m     82\u001b[0m \u001b[1;33m\u001b[0m\u001b[0m\n\u001b[0;32m     83\u001b[0m     \u001b[1;32mdef\u001b[0m \u001b[0msubmit\u001b[0m\u001b[1;33m(\u001b[0m\u001b[0mself\u001b[0m\u001b[1;33m)\u001b[0m\u001b[1;33m:\u001b[0m\u001b[1;33m\u001b[0m\u001b[1;33m\u001b[0m\u001b[0m\n",
      "\u001b[1;32m~\\anaconda3\\lib\\site-packages\\selenium\\webdriver\\remote\\webelement.py\u001b[0m in \u001b[0;36m_execute\u001b[1;34m(self, command, params)\u001b[0m\n\u001b[0;32m    708\u001b[0m             \u001b[0mparams\u001b[0m \u001b[1;33m=\u001b[0m \u001b[1;33m{\u001b[0m\u001b[1;33m}\u001b[0m\u001b[1;33m\u001b[0m\u001b[1;33m\u001b[0m\u001b[0m\n\u001b[0;32m    709\u001b[0m         \u001b[0mparams\u001b[0m\u001b[1;33m[\u001b[0m\u001b[1;34m'id'\u001b[0m\u001b[1;33m]\u001b[0m \u001b[1;33m=\u001b[0m \u001b[0mself\u001b[0m\u001b[1;33m.\u001b[0m\u001b[0m_id\u001b[0m\u001b[1;33m\u001b[0m\u001b[1;33m\u001b[0m\u001b[0m\n\u001b[1;32m--> 710\u001b[1;33m         \u001b[1;32mreturn\u001b[0m \u001b[0mself\u001b[0m\u001b[1;33m.\u001b[0m\u001b[0m_parent\u001b[0m\u001b[1;33m.\u001b[0m\u001b[0mexecute\u001b[0m\u001b[1;33m(\u001b[0m\u001b[0mcommand\u001b[0m\u001b[1;33m,\u001b[0m \u001b[0mparams\u001b[0m\u001b[1;33m)\u001b[0m\u001b[1;33m\u001b[0m\u001b[1;33m\u001b[0m\u001b[0m\n\u001b[0m\u001b[0;32m    711\u001b[0m \u001b[1;33m\u001b[0m\u001b[0m\n\u001b[0;32m    712\u001b[0m     \u001b[1;32mdef\u001b[0m \u001b[0mfind_element\u001b[0m\u001b[1;33m(\u001b[0m\u001b[0mself\u001b[0m\u001b[1;33m,\u001b[0m \u001b[0mby\u001b[0m\u001b[1;33m=\u001b[0m\u001b[0mBy\u001b[0m\u001b[1;33m.\u001b[0m\u001b[0mID\u001b[0m\u001b[1;33m,\u001b[0m \u001b[0mvalue\u001b[0m\u001b[1;33m=\u001b[0m\u001b[1;32mNone\u001b[0m\u001b[1;33m)\u001b[0m\u001b[1;33m:\u001b[0m\u001b[1;33m\u001b[0m\u001b[1;33m\u001b[0m\u001b[0m\n",
      "\u001b[1;32m~\\anaconda3\\lib\\site-packages\\selenium\\webdriver\\remote\\webdriver.py\u001b[0m in \u001b[0;36mexecute\u001b[1;34m(self, driver_command, params)\u001b[0m\n\u001b[0;32m    423\u001b[0m         \u001b[0mresponse\u001b[0m \u001b[1;33m=\u001b[0m \u001b[0mself\u001b[0m\u001b[1;33m.\u001b[0m\u001b[0mcommand_executor\u001b[0m\u001b[1;33m.\u001b[0m\u001b[0mexecute\u001b[0m\u001b[1;33m(\u001b[0m\u001b[0mdriver_command\u001b[0m\u001b[1;33m,\u001b[0m \u001b[0mparams\u001b[0m\u001b[1;33m)\u001b[0m\u001b[1;33m\u001b[0m\u001b[1;33m\u001b[0m\u001b[0m\n\u001b[0;32m    424\u001b[0m         \u001b[1;32mif\u001b[0m \u001b[0mresponse\u001b[0m\u001b[1;33m:\u001b[0m\u001b[1;33m\u001b[0m\u001b[1;33m\u001b[0m\u001b[0m\n\u001b[1;32m--> 425\u001b[1;33m             \u001b[0mself\u001b[0m\u001b[1;33m.\u001b[0m\u001b[0merror_handler\u001b[0m\u001b[1;33m.\u001b[0m\u001b[0mcheck_response\u001b[0m\u001b[1;33m(\u001b[0m\u001b[0mresponse\u001b[0m\u001b[1;33m)\u001b[0m\u001b[1;33m\u001b[0m\u001b[1;33m\u001b[0m\u001b[0m\n\u001b[0m\u001b[0;32m    426\u001b[0m             response['value'] = self._unwrap_value(\n\u001b[0;32m    427\u001b[0m                 response.get('value', None))\n",
      "\u001b[1;32m~\\anaconda3\\lib\\site-packages\\selenium\\webdriver\\remote\\errorhandler.py\u001b[0m in \u001b[0;36mcheck_response\u001b[1;34m(self, response)\u001b[0m\n\u001b[0;32m    245\u001b[0m                 \u001b[0malert_text\u001b[0m \u001b[1;33m=\u001b[0m \u001b[0mvalue\u001b[0m\u001b[1;33m[\u001b[0m\u001b[1;34m'alert'\u001b[0m\u001b[1;33m]\u001b[0m\u001b[1;33m.\u001b[0m\u001b[0mget\u001b[0m\u001b[1;33m(\u001b[0m\u001b[1;34m'text'\u001b[0m\u001b[1;33m)\u001b[0m\u001b[1;33m\u001b[0m\u001b[1;33m\u001b[0m\u001b[0m\n\u001b[0;32m    246\u001b[0m             \u001b[1;32mraise\u001b[0m \u001b[0mexception_class\u001b[0m\u001b[1;33m(\u001b[0m\u001b[0mmessage\u001b[0m\u001b[1;33m,\u001b[0m \u001b[0mscreen\u001b[0m\u001b[1;33m,\u001b[0m \u001b[0mstacktrace\u001b[0m\u001b[1;33m,\u001b[0m \u001b[0malert_text\u001b[0m\u001b[1;33m)\u001b[0m  \u001b[1;31m# type: ignore[call-arg]  # mypy is not smart enough here\u001b[0m\u001b[1;33m\u001b[0m\u001b[1;33m\u001b[0m\u001b[0m\n\u001b[1;32m--> 247\u001b[1;33m         \u001b[1;32mraise\u001b[0m \u001b[0mexception_class\u001b[0m\u001b[1;33m(\u001b[0m\u001b[0mmessage\u001b[0m\u001b[1;33m,\u001b[0m \u001b[0mscreen\u001b[0m\u001b[1;33m,\u001b[0m \u001b[0mstacktrace\u001b[0m\u001b[1;33m)\u001b[0m\u001b[1;33m\u001b[0m\u001b[1;33m\u001b[0m\u001b[0m\n\u001b[0m\u001b[0;32m    248\u001b[0m \u001b[1;33m\u001b[0m\u001b[0m\n\u001b[0;32m    249\u001b[0m     \u001b[1;32mdef\u001b[0m \u001b[0m_value_or_default\u001b[0m\u001b[1;33m(\u001b[0m\u001b[0mself\u001b[0m\u001b[1;33m,\u001b[0m \u001b[0mobj\u001b[0m\u001b[1;33m:\u001b[0m \u001b[0mMapping\u001b[0m\u001b[1;33m[\u001b[0m\u001b[0m_KT\u001b[0m\u001b[1;33m,\u001b[0m \u001b[0m_VT\u001b[0m\u001b[1;33m]\u001b[0m\u001b[1;33m,\u001b[0m \u001b[0mkey\u001b[0m\u001b[1;33m:\u001b[0m \u001b[0m_KT\u001b[0m\u001b[1;33m,\u001b[0m \u001b[0mdefault\u001b[0m\u001b[1;33m:\u001b[0m \u001b[0m_VT\u001b[0m\u001b[1;33m)\u001b[0m \u001b[1;33m->\u001b[0m \u001b[0m_VT\u001b[0m\u001b[1;33m:\u001b[0m\u001b[1;33m\u001b[0m\u001b[1;33m\u001b[0m\u001b[0m\n",
      "\u001b[1;31mElementClickInterceptedException\u001b[0m: Message: element click intercepted: Element is not clickable at point (596, 8037)\n  (Session info: chrome=99.0.4844.84)\nStacktrace:\nBacktrace:\n\tOrdinal0 [0x00359943+2595139]\n\tOrdinal0 [0x002EC9F1+2148849]\n\tOrdinal0 [0x001E4528+1066280]\n\tOrdinal0 [0x00217621+1275425]\n\tOrdinal0 [0x00215657+1267287]\n\tOrdinal0 [0x0021333B+1258299]\n\tOrdinal0 [0x0021207D+1253501]\n\tOrdinal0 [0x00207AB3+1211059]\n\tOrdinal0 [0x0022B9EC+1358316]\n\tOrdinal0 [0x00207474+1209460]\n\tOrdinal0 [0x0022BC04+1358852]\n\tOrdinal0 [0x0023BAF2+1424114]\n\tOrdinal0 [0x0022B806+1357830]\n\tOrdinal0 [0x00206086+1204358]\n\tOrdinal0 [0x00206F96+1208214]\n\tGetHandleVerifier [0x004FB232+1658114]\n\tGetHandleVerifier [0x005B312C+2411516]\n\tGetHandleVerifier [0x003EF261+560433]\n\tGetHandleVerifier [0x003EE366+556598]\n\tOrdinal0 [0x002F286B+2173035]\n\tOrdinal0 [0x002F75F8+2192888]\n\tOrdinal0 [0x002F76E5+2193125]\n\tOrdinal0 [0x003011FC+2232828]\n\tBaseThreadInitThunk [0x7559FA29+25]\n\tRtlGetAppContainerNamedObjectPath [0x77627A7E+286]\n\tRtlGetAppContainerNamedObjectPath [0x77627A4E+238]\n\t(No symbol) [0x00000000]\n"
     ]
    }
   ],
   "source": [
    "name=[]\n",
    "distance=[]\n",
    "rating=[]\n",
    "total_review=[]\n",
    "overall_review=[]\n",
    "privates=[]\n",
    "dorms=[]\n",
    "\n",
    "for i in driver.find_elements_by_class_name(\"title title-6\"):\n",
    "    name.append(i.text)\n",
    "for i in driver.find_elements_by_class_name(\"description\"):\n",
    "    distance.append(i.text.split(\"-\")[1])\n",
    "for i in driver.find_elements_by_xpath('//div[@class=\"keyword\"]//span'):\n",
    "    overall_review.append(i.text)\n",
    "for i in driver.find_elements_by_xpath('//div[@class=\"score orange big\"]'):\n",
    "    rating.append(i.text)\n",
    "for i in driver.find_elements_by_xpath('//div[@class=\"reviews\"]'):\n",
    "    total_review.append(i.text)\n",
    "for i in driver.find_elements_by_xpath('/html/body/div[3]/div/div/div[1]/div[4]/div/div/div[2]/div[3]/a[1]/div[1]/div'):\n",
    "    if i.text is None:\n",
    "        privates.append('-')\n",
    "    else:\n",
    "        privates.append(i.text)\n",
    "for i in driver.find_elements_by_xpath('/html/body/div[3]/div/div/div[1]/div[4]/div/div/div[2]/div[3]/a[1]/div[2]/div'):\n",
    "    if i.text is None:\n",
    "        dorms.append('-')\n",
    "    else:\n",
    "        dorms.append(i.text)\n",
    "nxt=driver.find_element_by_xpath('//i[@class=\"core-icon icon-core-chevron-right\"]')\n",
    "nxt.click()\n",
    "    "
   ]
  },
  {
   "cell_type": "code",
   "execution_count": 107,
   "id": "caf1fd22",
   "metadata": {},
   "outputs": [
    {
     "data": {
      "text/plain": [
       "['Rs8957']"
      ]
     },
     "execution_count": 107,
     "metadata": {},
     "output_type": "execute_result"
    }
   ],
   "source": [
    "privates"
   ]
  },
  {
   "cell_type": "code",
   "execution_count": 105,
   "id": "532b2767",
   "metadata": {},
   "outputs": [
    {
     "data": {
      "text/plain": [
       "30"
      ]
     },
     "execution_count": 105,
     "metadata": {},
     "output_type": "execute_result"
    }
   ],
   "source": [
    "len(distance)"
   ]
  },
  {
   "cell_type": "code",
   "execution_count": 106,
   "id": "b89e813f",
   "metadata": {},
   "outputs": [
    {
     "data": {
      "text/plain": [
       "['7.7',\n",
       " '7.8',\n",
       " '9.6',\n",
       " '8.5',\n",
       " '9.0',\n",
       " '8.4',\n",
       " '7.4',\n",
       " '6.8',\n",
       " '8.2',\n",
       " '6.8',\n",
       " '9.7',\n",
       " '9.3',\n",
       " '7.5',\n",
       " '8.9',\n",
       " '7.9',\n",
       " '7.4',\n",
       " '8.9',\n",
       " '7.9',\n",
       " '7.1',\n",
       " '6.8',\n",
       " '7.3',\n",
       " '8.6',\n",
       " '8.5',\n",
       " '8.0',\n",
       " '7.1',\n",
       " '7.7',\n",
       " '7.4',\n",
       " '9.0',\n",
       " '7.7',\n",
       " '8.1']"
      ]
     },
     "execution_count": 106,
     "metadata": {},
     "output_type": "execute_result"
    }
   ],
   "source": [
    "rating"
   ]
  },
  {
   "cell_type": "code",
   "execution_count": null,
   "id": "e17bbac1",
   "metadata": {},
   "outputs": [],
   "source": []
  }
 ],
 "metadata": {
  "kernelspec": {
   "display_name": "Python 3 (ipykernel)",
   "language": "python",
   "name": "python3"
  },
  "language_info": {
   "codemirror_mode": {
    "name": "ipython",
    "version": 3
   },
   "file_extension": ".py",
   "mimetype": "text/x-python",
   "name": "python",
   "nbconvert_exporter": "python",
   "pygments_lexer": "ipython3",
   "version": "3.9.7"
  }
 },
 "nbformat": 4,
 "nbformat_minor": 5
}
