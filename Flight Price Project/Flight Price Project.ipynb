{
 "cells": [
  {
   "cell_type": "markdown",
   "id": "91b35780",
   "metadata": {},
   "source": [
    "### Problem Statement"
   ]
  },
  {
   "cell_type": "markdown",
   "id": "0ee296d1",
   "metadata": {},
   "source": [
    "Anyone who has booked a flight ticket knows how unexpectedly the prices vary. The cheapest available ticket on a given flight gets more and less expensive over time. This usually happens as an attempt to maximize revenue based on - \n",
    "\n",
    "1. Time of purchase patterns (making sure last-minute purchases are expensive)\n",
    "2. Keeping the flight as full as they want it (raising prices on a flight which is filling up in order to reduce sales and hold back inventory for those expensive last-minute expensive purchases) \n",
    "\n",
    "So, you have to work on a project where you collect data of flight fares with other features and work to make a model to predict fares of flights."
   ]
  },
  {
   "cell_type": "markdown",
   "id": "268f2915",
   "metadata": {},
   "source": [
    "#### Features"
   ]
  },
  {
   "cell_type": "markdown",
   "id": "2ab4afc6",
   "metadata": {},
   "source": [
    "Airline: The name of the airline.\n",
    "\n",
    "Date: The date of the journey\n",
    "\n",
    "Source: The source from which the service begins.\n",
    "\n",
    "Destination: The destination where the service ends.\n",
    "\n",
    "Departure Time: The time when the journey starts from the source.\n",
    "\n",
    "Arrival Time: Time of arrival at the destination.\n",
    "\n",
    "Duration: Total duration of the flight.\n",
    "\n",
    "Total Stops: Total stops between the source and destination.\n",
    "\n",
    "Price: The price of the ticket"
   ]
  },
  {
   "cell_type": "markdown",
   "id": "da9f18a2",
   "metadata": {},
   "source": [
    "### Target"
   ]
  },
  {
   "cell_type": "markdown",
   "id": "325c0206",
   "metadata": {},
   "source": [
    "You have to use your skills as a data scientist and build a machine learning model to predict the price of the flight ticket. "
   ]
  },
  {
   "cell_type": "markdown",
   "id": "6b73a715",
   "metadata": {},
   "source": [
    "#### Importing the libraries"
   ]
  },
  {
   "cell_type": "code",
   "execution_count": 2,
   "id": "ea7623cf",
   "metadata": {},
   "outputs": [],
   "source": [
    "import pandas as pd\n",
    "import seaborn as sns\n",
    "import matplotlib.pyplot as plt\n",
    "import numpy as np\n",
    "import warnings\n",
    "warnings.filterwarnings('ignore')"
   ]
  },
  {
   "cell_type": "markdown",
   "id": "2f486682",
   "metadata": {},
   "source": [
    "#### Loading the Dataset"
   ]
  },
  {
   "cell_type": "code",
   "execution_count": 3,
   "id": "c5798224",
   "metadata": {},
   "outputs": [
    {
     "data": {
      "text/html": [
       "<div>\n",
       "<style scoped>\n",
       "    .dataframe tbody tr th:only-of-type {\n",
       "        vertical-align: middle;\n",
       "    }\n",
       "\n",
       "    .dataframe tbody tr th {\n",
       "        vertical-align: top;\n",
       "    }\n",
       "\n",
       "    .dataframe thead th {\n",
       "        text-align: right;\n",
       "    }\n",
       "</style>\n",
       "<table border=\"1\" class=\"dataframe\">\n",
       "  <thead>\n",
       "    <tr style=\"text-align: right;\">\n",
       "      <th></th>\n",
       "      <th>Unnamed: 0</th>\n",
       "      <th>Date</th>\n",
       "      <th>Airline</th>\n",
       "      <th>Source</th>\n",
       "      <th>Destination</th>\n",
       "      <th>Departure Time</th>\n",
       "      <th>Arrival Time</th>\n",
       "      <th>Total Stops</th>\n",
       "      <th>Duration</th>\n",
       "      <th>Price</th>\n",
       "    </tr>\n",
       "  </thead>\n",
       "  <tbody>\n",
       "    <tr>\n",
       "      <th>0</th>\n",
       "      <td>0</td>\n",
       "      <td>30-06-2022</td>\n",
       "      <td>GoFirst</td>\n",
       "      <td>BOM</td>\n",
       "      <td>BLR</td>\n",
       "      <td>06:00</td>\n",
       "      <td>07:40</td>\n",
       "      <td>direct</td>\n",
       "      <td>1h 40m</td>\n",
       "      <td>5281</td>\n",
       "    </tr>\n",
       "    <tr>\n",
       "      <th>1</th>\n",
       "      <td>1</td>\n",
       "      <td>30-06-2022</td>\n",
       "      <td>Vistara</td>\n",
       "      <td>BOM</td>\n",
       "      <td>BLR</td>\n",
       "      <td>16:30</td>\n",
       "      <td>18:15</td>\n",
       "      <td>direct</td>\n",
       "      <td>1h 45m</td>\n",
       "      <td>4843</td>\n",
       "    </tr>\n",
       "    <tr>\n",
       "      <th>2</th>\n",
       "      <td>2</td>\n",
       "      <td>30-06-2022</td>\n",
       "      <td>AirAsia India</td>\n",
       "      <td>BOM</td>\n",
       "      <td>BLR</td>\n",
       "      <td>21:20</td>\n",
       "      <td>23:10</td>\n",
       "      <td>direct</td>\n",
       "      <td>1h 50m</td>\n",
       "      <td>4518</td>\n",
       "    </tr>\n",
       "    <tr>\n",
       "      <th>3</th>\n",
       "      <td>3</td>\n",
       "      <td>30-06-2022</td>\n",
       "      <td>Vistara</td>\n",
       "      <td>BOM</td>\n",
       "      <td>BLR</td>\n",
       "      <td>06:00</td>\n",
       "      <td>07:50</td>\n",
       "      <td>direct</td>\n",
       "      <td>1h 50m</td>\n",
       "      <td>4843</td>\n",
       "    </tr>\n",
       "    <tr>\n",
       "      <th>4</th>\n",
       "      <td>4</td>\n",
       "      <td>01-07-2022</td>\n",
       "      <td>Vistara</td>\n",
       "      <td>BOM</td>\n",
       "      <td>BLR</td>\n",
       "      <td>16:30</td>\n",
       "      <td>18:15</td>\n",
       "      <td>direct</td>\n",
       "      <td>1h 45m</td>\n",
       "      <td>5072</td>\n",
       "    </tr>\n",
       "  </tbody>\n",
       "</table>\n",
       "</div>"
      ],
      "text/plain": [
       "   Unnamed: 0        Date        Airline Source Destination Departure Time  \\\n",
       "0           0  30-06-2022        GoFirst    BOM         BLR          06:00   \n",
       "1           1  30-06-2022        Vistara    BOM         BLR          16:30   \n",
       "2           2  30-06-2022  AirAsia India    BOM         BLR          21:20   \n",
       "3           3  30-06-2022        Vistara    BOM         BLR          06:00   \n",
       "4           4  01-07-2022        Vistara    BOM         BLR          16:30   \n",
       "\n",
       "  Arrival Time Total Stops Duration  Price  \n",
       "0        07:40      direct   1h 40m   5281  \n",
       "1        18:15      direct   1h 45m   4843  \n",
       "2        23:10      direct   1h 50m   4518  \n",
       "3        07:50      direct   1h 50m   4843  \n",
       "4        18:15      direct   1h 45m   5072  "
      ]
     },
     "execution_count": 3,
     "metadata": {},
     "output_type": "execute_result"
    }
   ],
   "source": [
    "df=pd.read_csv(r'F:\\Data Trained\\flight_price.csv')  #importing the data\n",
    "df.head()"
   ]
  },
  {
   "cell_type": "code",
   "execution_count": 3,
   "id": "bf39703e",
   "metadata": {},
   "outputs": [
    {
     "data": {
      "text/html": [
       "<div>\n",
       "<style scoped>\n",
       "    .dataframe tbody tr th:only-of-type {\n",
       "        vertical-align: middle;\n",
       "    }\n",
       "\n",
       "    .dataframe tbody tr th {\n",
       "        vertical-align: top;\n",
       "    }\n",
       "\n",
       "    .dataframe thead th {\n",
       "        text-align: right;\n",
       "    }\n",
       "</style>\n",
       "<table border=\"1\" class=\"dataframe\">\n",
       "  <thead>\n",
       "    <tr style=\"text-align: right;\">\n",
       "      <th></th>\n",
       "      <th>Unnamed: 0</th>\n",
       "      <th>Date</th>\n",
       "      <th>Airline</th>\n",
       "      <th>Source</th>\n",
       "      <th>Destination</th>\n",
       "      <th>Departure Time</th>\n",
       "      <th>Arrival Time</th>\n",
       "      <th>Total Stops</th>\n",
       "      <th>Duration</th>\n",
       "      <th>Price</th>\n",
       "    </tr>\n",
       "  </thead>\n",
       "  <tbody>\n",
       "    <tr>\n",
       "      <th>1653</th>\n",
       "      <td>1653</td>\n",
       "      <td>29-06-2022</td>\n",
       "      <td>IndiGo</td>\n",
       "      <td>DEL</td>\n",
       "      <td>CCU</td>\n",
       "      <td>03:00</td>\n",
       "      <td>05:05</td>\n",
       "      <td>direct</td>\n",
       "      <td>2h 05m</td>\n",
       "      <td>6479</td>\n",
       "    </tr>\n",
       "    <tr>\n",
       "      <th>1654</th>\n",
       "      <td>1654</td>\n",
       "      <td>03-07-2022</td>\n",
       "      <td>IndiGo</td>\n",
       "      <td>DEL</td>\n",
       "      <td>CCU</td>\n",
       "      <td>23:30</td>\n",
       "      <td>01:35</td>\n",
       "      <td>direct</td>\n",
       "      <td>2h 05m</td>\n",
       "      <td>6479</td>\n",
       "    </tr>\n",
       "    <tr>\n",
       "      <th>1655</th>\n",
       "      <td>1655</td>\n",
       "      <td>03-07-2022</td>\n",
       "      <td>IndiGo</td>\n",
       "      <td>DEL</td>\n",
       "      <td>CCU</td>\n",
       "      <td>03:00</td>\n",
       "      <td>05:05</td>\n",
       "      <td>direct</td>\n",
       "      <td>2h 05m</td>\n",
       "      <td>6479</td>\n",
       "    </tr>\n",
       "    <tr>\n",
       "      <th>1656</th>\n",
       "      <td>1656</td>\n",
       "      <td>29-06-2022</td>\n",
       "      <td>AirAsia India</td>\n",
       "      <td>DEL</td>\n",
       "      <td>CCU</td>\n",
       "      <td>22:35</td>\n",
       "      <td>00:50</td>\n",
       "      <td>direct</td>\n",
       "      <td>2h 15m</td>\n",
       "      <td>7593</td>\n",
       "    </tr>\n",
       "    <tr>\n",
       "      <th>1657</th>\n",
       "      <td>1657</td>\n",
       "      <td>03-07-2022</td>\n",
       "      <td>AirAsia India</td>\n",
       "      <td>DEL</td>\n",
       "      <td>CCU</td>\n",
       "      <td>22:35</td>\n",
       "      <td>00:50</td>\n",
       "      <td>direct</td>\n",
       "      <td>2h 15m</td>\n",
       "      <td>7605</td>\n",
       "    </tr>\n",
       "  </tbody>\n",
       "</table>\n",
       "</div>"
      ],
      "text/plain": [
       "      Unnamed: 0        Date        Airline Source Destination Departure Time  \\\n",
       "1653        1653  29-06-2022         IndiGo    DEL         CCU          03:00   \n",
       "1654        1654  03-07-2022         IndiGo    DEL         CCU          23:30   \n",
       "1655        1655  03-07-2022         IndiGo    DEL         CCU          03:00   \n",
       "1656        1656  29-06-2022  AirAsia India    DEL         CCU          22:35   \n",
       "1657        1657  03-07-2022  AirAsia India    DEL         CCU          22:35   \n",
       "\n",
       "     Arrival Time Total Stops Duration  Price  \n",
       "1653        05:05      direct   2h 05m   6479  \n",
       "1654        01:35      direct   2h 05m   6479  \n",
       "1655        05:05      direct   2h 05m   6479  \n",
       "1656        00:50      direct   2h 15m   7593  \n",
       "1657        00:50      direct   2h 15m   7605  "
      ]
     },
     "execution_count": 3,
     "metadata": {},
     "output_type": "execute_result"
    }
   ],
   "source": [
    "df.tail()  #last five rows of the dataset"
   ]
  },
  {
   "cell_type": "code",
   "execution_count": 4,
   "id": "9c1f6598",
   "metadata": {
    "scrolled": true
   },
   "outputs": [
    {
     "data": {
      "text/plain": [
       "(1658, 10)"
      ]
     },
     "execution_count": 4,
     "metadata": {},
     "output_type": "execute_result"
    }
   ],
   "source": [
    "df.shape  #shape of the dataset"
   ]
  },
  {
   "cell_type": "markdown",
   "id": "7a769f75",
   "metadata": {},
   "source": [
    "Dataset has 1652 rows and 10 columns"
   ]
  },
  {
   "cell_type": "code",
   "execution_count": 5,
   "id": "4281ff0b",
   "metadata": {
    "scrolled": true
   },
   "outputs": [
    {
     "data": {
      "text/plain": [
       "Unnamed: 0         int64\n",
       "Date              object\n",
       "Airline           object\n",
       "Source            object\n",
       "Destination       object\n",
       "Departure Time    object\n",
       "Arrival Time      object\n",
       "Total Stops       object\n",
       "Duration          object\n",
       "Price              int64\n",
       "dtype: object"
      ]
     },
     "execution_count": 5,
     "metadata": {},
     "output_type": "execute_result"
    }
   ],
   "source": [
    "df.dtypes  #datatypes of each column"
   ]
  },
  {
   "cell_type": "code",
   "execution_count": 6,
   "id": "d39f3a15",
   "metadata": {},
   "outputs": [
    {
     "data": {
      "text/plain": [
       "Unnamed: 0        1658\n",
       "Date                 7\n",
       "Airline             12\n",
       "Source               5\n",
       "Destination         10\n",
       "Departure Time     193\n",
       "Arrival Time       189\n",
       "Total Stops          3\n",
       "Duration           115\n",
       "Price              613\n",
       "dtype: int64"
      ]
     },
     "execution_count": 6,
     "metadata": {},
     "output_type": "execute_result"
    }
   ],
   "source": [
    "df.nunique() #unique value in each column"
   ]
  },
  {
   "cell_type": "code",
   "execution_count": 7,
   "id": "cf278870",
   "metadata": {},
   "outputs": [
    {
     "name": "stdout",
     "output_type": "stream",
     "text": [
      "<class 'pandas.core.frame.DataFrame'>\n",
      "RangeIndex: 1658 entries, 0 to 1657\n",
      "Data columns (total 10 columns):\n",
      " #   Column          Non-Null Count  Dtype \n",
      "---  ------          --------------  ----- \n",
      " 0   Unnamed: 0      1658 non-null   int64 \n",
      " 1   Date            1658 non-null   object\n",
      " 2   Airline         1658 non-null   object\n",
      " 3   Source          1658 non-null   object\n",
      " 4   Destination     1658 non-null   object\n",
      " 5   Departure Time  1658 non-null   object\n",
      " 6   Arrival Time    1658 non-null   object\n",
      " 7   Total Stops     1658 non-null   object\n",
      " 8   Duration        1658 non-null   object\n",
      " 9   Price           1658 non-null   int64 \n",
      "dtypes: int64(2), object(8)\n",
      "memory usage: 129.7+ KB\n"
     ]
    }
   ],
   "source": [
    "df.info()  #a brief info about the dataset"
   ]
  },
  {
   "cell_type": "markdown",
   "id": "c8520cc0",
   "metadata": {},
   "source": [
    "####  Checking the null values"
   ]
  },
  {
   "cell_type": "code",
   "execution_count": 8,
   "id": "9dd84b5f",
   "metadata": {
    "scrolled": true
   },
   "outputs": [
    {
     "data": {
      "text/plain": [
       "Unnamed: 0        0\n",
       "Date              0\n",
       "Airline           0\n",
       "Source            0\n",
       "Destination       0\n",
       "Departure Time    0\n",
       "Arrival Time      0\n",
       "Total Stops       0\n",
       "Duration          0\n",
       "Price             0\n",
       "dtype: int64"
      ]
     },
     "execution_count": 8,
     "metadata": {},
     "output_type": "execute_result"
    }
   ],
   "source": [
    "df.isnull().sum()"
   ]
  },
  {
   "cell_type": "markdown",
   "id": "e66101e6",
   "metadata": {},
   "source": [
    "No null values present in the dataset"
   ]
  },
  {
   "cell_type": "code",
   "execution_count": 9,
   "id": "1567dd7a",
   "metadata": {},
   "outputs": [
    {
     "data": {
      "text/plain": [
       "<AxesSubplot:>"
      ]
     },
     "execution_count": 9,
     "metadata": {},
     "output_type": "execute_result"
    },
    {
     "data": {
      "image/png": "[encoded data removed]",
      "text/plain": [
       "<Figure size 432x288 with 2 Axes>"
      ]
     },
     "metadata": {
      "needs_background": "light"
     },
     "output_type": "display_data"
    }
   ],
   "source": [
    "sns.heatmap(df.isnull())"
   ]
  },
  {
   "cell_type": "code",
   "execution_count": 4,
   "id": "69b94308",
   "metadata": {},
   "outputs": [],
   "source": [
    "df.drop('Unnamed: 0',axis=1,inplace=True)  #dropping the index column"
   ]
  },
  {
   "cell_type": "code",
   "execution_count": 5,
   "id": "22bba6ee",
   "metadata": {},
   "outputs": [
    {
     "data": {
      "text/html": [
       "<div>\n",
       "<style scoped>\n",
       "    .dataframe tbody tr th:only-of-type {\n",
       "        vertical-align: middle;\n",
       "    }\n",
       "\n",
       "    .dataframe tbody tr th {\n",
       "        vertical-align: top;\n",
       "    }\n",
       "\n",
       "    .dataframe thead th {\n",
       "        text-align: right;\n",
       "    }\n",
       "</style>\n",
       "<table border=\"1\" class=\"dataframe\">\n",
       "  <thead>\n",
       "    <tr style=\"text-align: right;\">\n",
       "      <th></th>\n",
       "      <th>Date</th>\n",
       "      <th>Airline</th>\n",
       "      <th>Source</th>\n",
       "      <th>Destination</th>\n",
       "      <th>Departure Time</th>\n",
       "      <th>Arrival Time</th>\n",
       "      <th>Total Stops</th>\n",
       "      <th>Duration</th>\n",
       "      <th>Price</th>\n",
       "      <th>Month</th>\n",
       "      <th>Day</th>\n",
       "      <th>Year</th>\n",
       "    </tr>\n",
       "  </thead>\n",
       "  <tbody>\n",
       "    <tr>\n",
       "      <th>0</th>\n",
       "      <td>2022-06-30</td>\n",
       "      <td>GoFirst</td>\n",
       "      <td>BOM</td>\n",
       "      <td>BLR</td>\n",
       "      <td>06:00</td>\n",
       "      <td>07:40</td>\n",
       "      <td>direct</td>\n",
       "      <td>1h 40m</td>\n",
       "      <td>5281</td>\n",
       "      <td>6</td>\n",
       "      <td>30</td>\n",
       "      <td>2022</td>\n",
       "    </tr>\n",
       "    <tr>\n",
       "      <th>1</th>\n",
       "      <td>2022-06-30</td>\n",
       "      <td>Vistara</td>\n",
       "      <td>BOM</td>\n",
       "      <td>BLR</td>\n",
       "      <td>16:30</td>\n",
       "      <td>18:15</td>\n",
       "      <td>direct</td>\n",
       "      <td>1h 45m</td>\n",
       "      <td>4843</td>\n",
       "      <td>6</td>\n",
       "      <td>30</td>\n",
       "      <td>2022</td>\n",
       "    </tr>\n",
       "    <tr>\n",
       "      <th>2</th>\n",
       "      <td>2022-06-30</td>\n",
       "      <td>AirAsia India</td>\n",
       "      <td>BOM</td>\n",
       "      <td>BLR</td>\n",
       "      <td>21:20</td>\n",
       "      <td>23:10</td>\n",
       "      <td>direct</td>\n",
       "      <td>1h 50m</td>\n",
       "      <td>4518</td>\n",
       "      <td>6</td>\n",
       "      <td>30</td>\n",
       "      <td>2022</td>\n",
       "    </tr>\n",
       "    <tr>\n",
       "      <th>3</th>\n",
       "      <td>2022-06-30</td>\n",
       "      <td>Vistara</td>\n",
       "      <td>BOM</td>\n",
       "      <td>BLR</td>\n",
       "      <td>06:00</td>\n",
       "      <td>07:50</td>\n",
       "      <td>direct</td>\n",
       "      <td>1h 50m</td>\n",
       "      <td>4843</td>\n",
       "      <td>6</td>\n",
       "      <td>30</td>\n",
       "      <td>2022</td>\n",
       "    </tr>\n",
       "    <tr>\n",
       "      <th>4</th>\n",
       "      <td>2022-01-07</td>\n",
       "      <td>Vistara</td>\n",
       "      <td>BOM</td>\n",
       "      <td>BLR</td>\n",
       "      <td>16:30</td>\n",
       "      <td>18:15</td>\n",
       "      <td>direct</td>\n",
       "      <td>1h 45m</td>\n",
       "      <td>5072</td>\n",
       "      <td>1</td>\n",
       "      <td>7</td>\n",
       "      <td>2022</td>\n",
       "    </tr>\n",
       "  </tbody>\n",
       "</table>\n",
       "</div>"
      ],
      "text/plain": [
       "        Date        Airline Source Destination Departure Time Arrival Time  \\\n",
       "0 2022-06-30        GoFirst    BOM         BLR          06:00        07:40   \n",
       "1 2022-06-30        Vistara    BOM         BLR          16:30        18:15   \n",
       "2 2022-06-30  AirAsia India    BOM         BLR          21:20        23:10   \n",
       "3 2022-06-30        Vistara    BOM         BLR          06:00        07:50   \n",
       "4 2022-01-07        Vistara    BOM         BLR          16:30        18:15   \n",
       "\n",
       "  Total Stops Duration  Price  Month  Day  Year  \n",
       "0      direct   1h 40m   5281      6   30  2022  \n",
       "1      direct   1h 45m   4843      6   30  2022  \n",
       "2      direct   1h 50m   4518      6   30  2022  \n",
       "3      direct   1h 50m   4843      6   30  2022  \n",
       "4      direct   1h 45m   5072      1    7  2022  "
      ]
     },
     "execution_count": 5,
     "metadata": {},
     "output_type": "execute_result"
    }
   ],
   "source": [
    "# creating a separate columns for the month, date and year \n",
    "\n",
    "df['Date']=pd.to_datetime(df['Date'])\n",
    "df['Month']=df['Date'].apply(lambda x:x.month)\n",
    "df['Day']=df['Date'].apply(lambda x:x.day)\n",
    "df['Year']=df['Date'].apply(lambda x:x.year)\n",
    "\n",
    "\n",
    "df.head()"
   ]
  },
  {
   "cell_type": "code",
   "execution_count": 6,
   "id": "7ad224c1",
   "metadata": {},
   "outputs": [],
   "source": [
    "#dropping the date of journey column as we have separate columns for date, month & year\n",
    "\n",
    "df.drop('Date',axis=1,inplace=True)"
   ]
  },
  {
   "cell_type": "markdown",
   "id": "a5b0cc29",
   "metadata": {},
   "source": [
    "### Univariate Analysis"
   ]
  },
  {
   "cell_type": "code",
   "execution_count": 13,
   "id": "505d6d9d",
   "metadata": {},
   "outputs": [
    {
     "data": {
      "text/plain": [
       "(array([ 0,  1,  2,  3,  4,  5,  6,  7,  8,  9, 10, 11]),\n",
       " [Text(0, 0, 'GoFirst'),\n",
       "  Text(1, 0, 'Vistara'),\n",
       "  Text(2, 0, 'AirAsia India'),\n",
       "  Text(3, 0, 'IndiGo'),\n",
       "  Text(4, 0, 'Air India'),\n",
       "  Text(5, 0, 'SpiceJet'),\n",
       "  Text(6, 0, 'Hahn Air Systems'),\n",
       "  Text(7, 0, 'Air Arabia'),\n",
       "  Text(8, 0, 'Emirates'),\n",
       "  Text(9, 0, 'Air India Express'),\n",
       "  Text(10, 0, 'Qatar Airways'),\n",
       "  Text(11, 0, 'FlexFlight')])"
      ]
     },
     "execution_count": 13,
     "metadata": {},
     "output_type": "execute_result"
    },
    {
     "data": {
      "image/png": "[encoded data removed]",
      "text/plain": [
       "<Figure size 1080x1080 with 1 Axes>"
      ]
     },
     "metadata": {
      "needs_background": "light"
     },
     "output_type": "display_data"
    }
   ],
   "source": [
    "plt.figure(figsize=(15,15))\n",
    "sns.countplot(df['Airline'])\n",
    "plt.xticks(rotation=90)"
   ]
  },
  {
   "cell_type": "markdown",
   "id": "7e3a4e4e",
   "metadata": {},
   "source": [
    "We have a very large number of fights of IndiGo airline"
   ]
  },
  {
   "cell_type": "code",
   "execution_count": 14,
   "id": "70059668",
   "metadata": {},
   "outputs": [
    {
     "data": {
      "text/plain": [
       "<AxesSubplot:xlabel='Source', ylabel='count'>"
      ]
     },
     "execution_count": 14,
     "metadata": {},
     "output_type": "execute_result"
    },
    {
     "data": {
      "image/png": "[encoded data removed]",
      "text/plain": [
       "<Figure size 432x288 with 1 Axes>"
      ]
     },
     "metadata": {
      "needs_background": "light"
     },
     "output_type": "display_data"
    }
   ],
   "source": [
    "sns.countplot(df['Source'])"
   ]
  },
  {
   "cell_type": "markdown",
   "id": "e91a2bb1",
   "metadata": {},
   "source": [
    "Contains more of the source of flight is Delhi"
   ]
  },
  {
   "cell_type": "code",
   "execution_count": 15,
   "id": "acf8f4b0",
   "metadata": {},
   "outputs": [
    {
     "data": {
      "text/plain": [
       "<AxesSubplot:xlabel='Destination', ylabel='count'>"
      ]
     },
     "execution_count": 15,
     "metadata": {},
     "output_type": "execute_result"
    },
    {
     "data": {
      "image/png": "[encoded data removed]",
      "text/plain": [
       "<Figure size 432x288 with 1 Axes>"
      ]
     },
     "metadata": {
      "needs_background": "light"
     },
     "output_type": "display_data"
    }
   ],
   "source": [
    "sns.countplot(df['Destination'])"
   ]
  },
  {
   "cell_type": "markdown",
   "id": "04e52945",
   "metadata": {},
   "source": [
    "Favourite Destination is Bengaluru"
   ]
  },
  {
   "cell_type": "code",
   "execution_count": 17,
   "id": "2c6476cf",
   "metadata": {},
   "outputs": [
    {
     "data": {
      "text/plain": [
       "<AxesSubplot:xlabel='Total Stops', ylabel='count'>"
      ]
     },
     "execution_count": 17,
     "metadata": {},
     "output_type": "execute_result"
    },
    {
     "data": {
      "image/png": "[encoded data removed]",
      "text/plain": [
       "<Figure size 432x288 with 1 Axes>"
      ]
     },
     "metadata": {
      "needs_background": "light"
     },
     "output_type": "display_data"
    }
   ],
   "source": [
    "sns.countplot(df['Total Stops'])"
   ]
  },
  {
   "cell_type": "markdown",
   "id": "c71a0ff7",
   "metadata": {},
   "source": [
    "Most of the flights are direct"
   ]
  },
  {
   "cell_type": "code",
   "execution_count": 11,
   "id": "e7b1a320",
   "metadata": {},
   "outputs": [
    {
     "data": {
      "text/plain": [
       "<AxesSubplot:xlabel='Price', ylabel='Density'>"
      ]
     },
     "execution_count": 11,
     "metadata": {},
     "output_type": "execute_result"
    },
    {
     "data": {
      "image/png": "[encoded data removed]",
      "text/plain": [
       "<Figure size 1800x720 with 1 Axes>"
      ]
     },
     "metadata": {
      "needs_background": "light"
     },
     "output_type": "display_data"
    }
   ],
   "source": [
    "plt.figure(figsize=(25,10))\n",
    "sns.distplot(df['Price'])"
   ]
  },
  {
   "cell_type": "markdown",
   "id": "5ff2c412",
   "metadata": {},
   "source": [
    "We have the price index less than 20000 a very low ratio is towards the higher side"
   ]
  },
  {
   "cell_type": "markdown",
   "id": "660754a7",
   "metadata": {},
   "source": [
    "### Bivariate Analysis"
   ]
  },
  {
   "cell_type": "code",
   "execution_count": 18,
   "id": "964e3699",
   "metadata": {
    "scrolled": false
   },
   "outputs": [
    {
     "data": {
      "text/plain": [
       "<AxesSubplot:xlabel='Month', ylabel='Price'>"
      ]
     },
     "execution_count": 18,
     "metadata": {},
     "output_type": "execute_result"
    },
    {
     "data": {
      "image/png": "[encoded data removed]",
      "text/plain": [
       "<Figure size 1440x1440 with 1 Axes>"
      ]
     },
     "metadata": {
      "needs_background": "light"
     },
     "output_type": "display_data"
    }
   ],
   "source": [
    "plt.figure(figsize=(20,20))\n",
    "sns.lineplot(df['Month'],df['Price'])"
   ]
  },
  {
   "cell_type": "markdown",
   "id": "8b7ba676",
   "metadata": {},
   "source": [
    "Prices will increase with the month when we move toward the departure date prices will go up"
   ]
  },
  {
   "cell_type": "code",
   "execution_count": 19,
   "id": "af612751",
   "metadata": {
    "scrolled": false
   },
   "outputs": [
    {
     "data": {
      "text/plain": [
       "<AxesSubplot:xlabel='Day', ylabel='Price'>"
      ]
     },
     "execution_count": 19,
     "metadata": {},
     "output_type": "execute_result"
    },
    {
     "data": {
      "image/png": "[encoded data removed]",
      "text/plain": [
       "<Figure size 1440x1440 with 1 Axes>"
      ]
     },
     "metadata": {
      "needs_background": "light"
     },
     "output_type": "display_data"
    }
   ],
   "source": [
    "plt.figure(figsize=(20,20))\n",
    "sns.lineplot(df['Day'],df['Price'])"
   ]
  },
  {
   "cell_type": "markdown",
   "id": "81b6895e",
   "metadata": {},
   "source": [
    "If we book near the departure date them price will be high and drastically tends to higher side  "
   ]
  },
  {
   "cell_type": "code",
   "execution_count": 21,
   "id": "985c6b65",
   "metadata": {
    "scrolled": true
   },
   "outputs": [
    {
     "data": {
      "text/plain": [
       "<AxesSubplot:xlabel='Total Stops', ylabel='Price'>"
      ]
     },
     "execution_count": 21,
     "metadata": {},
     "output_type": "execute_result"
    },
    {
     "data": {
      "image/png": "[encoded data removed]",
      "text/plain": [
       "<Figure size 432x288 with 1 Axes>"
      ]
     },
     "metadata": {
      "needs_background": "light"
     },
     "output_type": "display_data"
    }
   ],
   "source": [
    "sns.scatterplot(df['Total Stops'],df['Price'])"
   ]
  },
  {
   "cell_type": "markdown",
   "id": "81a8503f",
   "metadata": {},
   "source": [
    "1 stop flights is expensive than others"
   ]
  },
  {
   "cell_type": "code",
   "execution_count": 22,
   "id": "00e04448",
   "metadata": {},
   "outputs": [
    {
     "data": {
      "text/plain": [
       "([0, 1, 2, 3, 4, 5, 6, 7, 8, 9, 10, 11],\n",
       " [Text(0, 0, ''),\n",
       "  Text(0, 0, ''),\n",
       "  Text(0, 0, ''),\n",
       "  Text(0, 0, ''),\n",
       "  Text(0, 0, ''),\n",
       "  Text(0, 0, ''),\n",
       "  Text(0, 0, ''),\n",
       "  Text(0, 0, ''),\n",
       "  Text(0, 0, ''),\n",
       "  Text(0, 0, ''),\n",
       "  Text(0, 0, ''),\n",
       "  Text(0, 0, '')])"
      ]
     },
     "execution_count": 22,
     "metadata": {},
     "output_type": "execute_result"
    },
    {
     "data": {
      "image/png": "[encoded data removed]",
      "text/plain": [
       "<Figure size 1080x1080 with 1 Axes>"
      ]
     },
     "metadata": {
      "needs_background": "light"
     },
     "output_type": "display_data"
    }
   ],
   "source": [
    "plt.figure(figsize=(15,15))\n",
    "sns.scatterplot(df['Airline'],df['Price'])\n",
    "plt.xticks(rotation=90)"
   ]
  },
  {
   "cell_type": "markdown",
   "id": "dcea0384",
   "metadata": {},
   "source": [
    "Qatar airways is the most expensive airline followed by Air Arabia"
   ]
  },
  {
   "cell_type": "code",
   "execution_count": 23,
   "id": "05c4d22c",
   "metadata": {},
   "outputs": [
    {
     "data": {
      "text/plain": [
       "<AxesSubplot:xlabel='Source', ylabel='Price'>"
      ]
     },
     "execution_count": 23,
     "metadata": {},
     "output_type": "execute_result"
    },
    {
     "data": {
      "image/png": "[encoded data removed]",
      "text/plain": [
       "<Figure size 432x288 with 1 Axes>"
      ]
     },
     "metadata": {
      "needs_background": "light"
     },
     "output_type": "display_data"
    }
   ],
   "source": [
    "sns.scatterplot(df['Source'],df['Price'])"
   ]
  },
  {
   "cell_type": "markdown",
   "id": "b01f5cb0",
   "metadata": {},
   "source": [
    "Flights taking off from Delhi Airport are expensive "
   ]
  },
  {
   "cell_type": "code",
   "execution_count": 24,
   "id": "8858f766",
   "metadata": {},
   "outputs": [
    {
     "data": {
      "text/plain": [
       "<AxesSubplot:xlabel='Destination', ylabel='Price'>"
      ]
     },
     "execution_count": 24,
     "metadata": {},
     "output_type": "execute_result"
    },
    {
     "data": {
      "image/png": "[encoded data removed]",
      "text/plain": [
       "<Figure size 432x288 with 1 Axes>"
      ]
     },
     "metadata": {
      "needs_background": "light"
     },
     "output_type": "display_data"
    }
   ],
   "source": [
    "sns.scatterplot(df['Destination'],df['Price'])"
   ]
  },
  {
   "cell_type": "markdown",
   "id": "47bb8575",
   "metadata": {},
   "source": [
    "Flights to Caliciut are expensive"
   ]
  },
  {
   "cell_type": "code",
   "execution_count": 9,
   "id": "dda67a2f",
   "metadata": {},
   "outputs": [
    {
     "data": {
      "text/plain": [
       "([0,\n",
       "  1,\n",
       "  2,\n",
       "  3,\n",
       "  4,\n",
       "  5,\n",
       "  6,\n",
       "  7,\n",
       "  8,\n",
       "  9,\n",
       "  10,\n",
       "  11,\n",
       "  12,\n",
       "  13,\n",
       "  14,\n",
       "  15,\n",
       "  16,\n",
       "  17,\n",
       "  18,\n",
       "  19,\n",
       "  20,\n",
       "  21,\n",
       "  22,\n",
       "  23,\n",
       "  24,\n",
       "  25,\n",
       "  26,\n",
       "  27,\n",
       "  28,\n",
       "  29,\n",
       "  30,\n",
       "  31,\n",
       "  32,\n",
       "  33,\n",
       "  34,\n",
       "  35,\n",
       "  36,\n",
       "  37,\n",
       "  38,\n",
       "  39,\n",
       "  40,\n",
       "  41,\n",
       "  42,\n",
       "  43,\n",
       "  44,\n",
       "  45,\n",
       "  46,\n",
       "  47,\n",
       "  48,\n",
       "  49,\n",
       "  50,\n",
       "  51,\n",
       "  52,\n",
       "  53,\n",
       "  54,\n",
       "  55,\n",
       "  56,\n",
       "  57,\n",
       "  58,\n",
       "  59,\n",
       "  60,\n",
       "  61,\n",
       "  62,\n",
       "  63,\n",
       "  64,\n",
       "  65,\n",
       "  66,\n",
       "  67,\n",
       "  68,\n",
       "  69,\n",
       "  70,\n",
       "  71,\n",
       "  72,\n",
       "  73,\n",
       "  74,\n",
       "  75,\n",
       "  76,\n",
       "  77,\n",
       "  78,\n",
       "  79,\n",
       "  80,\n",
       "  81,\n",
       "  82,\n",
       "  83,\n",
       "  84,\n",
       "  85,\n",
       "  86,\n",
       "  87,\n",
       "  88,\n",
       "  89,\n",
       "  90,\n",
       "  91,\n",
       "  92,\n",
       "  93,\n",
       "  94,\n",
       "  95,\n",
       "  96,\n",
       "  97,\n",
       "  98,\n",
       "  99,\n",
       "  100,\n",
       "  101,\n",
       "  102,\n",
       "  103,\n",
       "  104,\n",
       "  105,\n",
       "  106,\n",
       "  107,\n",
       "  108,\n",
       "  109,\n",
       "  110,\n",
       "  111,\n",
       "  112,\n",
       "  113,\n",
       "  114,\n",
       "  115,\n",
       "  116,\n",
       "  117,\n",
       "  118,\n",
       "  119,\n",
       "  120,\n",
       "  121,\n",
       "  122,\n",
       "  123,\n",
       "  124,\n",
       "  125,\n",
       "  126,\n",
       "  127,\n",
       "  128,\n",
       "  129,\n",
       "  130,\n",
       "  131,\n",
       "  132,\n",
       "  133,\n",
       "  134,\n",
       "  135,\n",
       "  136,\n",
       "  137,\n",
       "  138,\n",
       "  139,\n",
       "  140,\n",
       "  141,\n",
       "  142,\n",
       "  143,\n",
       "  144,\n",
       "  145,\n",
       "  146,\n",
       "  147,\n",
       "  148,\n",
       "  149,\n",
       "  150,\n",
       "  151,\n",
       "  152,\n",
       "  153,\n",
       "  154,\n",
       "  155,\n",
       "  156,\n",
       "  157,\n",
       "  158,\n",
       "  159,\n",
       "  160,\n",
       "  161,\n",
       "  162,\n",
       "  163,\n",
       "  164,\n",
       "  165,\n",
       "  166,\n",
       "  167,\n",
       "  168,\n",
       "  169,\n",
       "  170,\n",
       "  171,\n",
       "  172,\n",
       "  173,\n",
       "  174,\n",
       "  175,\n",
       "  176,\n",
       "  177,\n",
       "  178,\n",
       "  179,\n",
       "  180,\n",
       "  181,\n",
       "  182,\n",
       "  183,\n",
       "  184,\n",
       "  185,\n",
       "  186,\n",
       "  187,\n",
       "  188,\n",
       "  189,\n",
       "  190,\n",
       "  191,\n",
       "  192],\n",
       " [Text(0, 0, ''),\n",
       "  Text(0, 0, ''),\n",
       "  Text(0, 0, ''),\n",
       "  Text(0, 0, ''),\n",
       "  Text(0, 0, ''),\n",
       "  Text(0, 0, ''),\n",
       "  Text(0, 0, ''),\n",
       "  Text(0, 0, ''),\n",
       "  Text(0, 0, ''),\n",
       "  Text(0, 0, ''),\n",
       "  Text(0, 0, ''),\n",
       "  Text(0, 0, ''),\n",
       "  Text(0, 0, ''),\n",
       "  Text(0, 0, ''),\n",
       "  Text(0, 0, ''),\n",
       "  Text(0, 0, ''),\n",
       "  Text(0, 0, ''),\n",
       "  Text(0, 0, ''),\n",
       "  Text(0, 0, ''),\n",
       "  Text(0, 0, ''),\n",
       "  Text(0, 0, ''),\n",
       "  Text(0, 0, ''),\n",
       "  Text(0, 0, ''),\n",
       "  Text(0, 0, ''),\n",
       "  Text(0, 0, ''),\n",
       "  Text(0, 0, ''),\n",
       "  Text(0, 0, ''),\n",
       "  Text(0, 0, ''),\n",
       "  Text(0, 0, ''),\n",
       "  Text(0, 0, ''),\n",
       "  Text(0, 0, ''),\n",
       "  Text(0, 0, ''),\n",
       "  Text(0, 0, ''),\n",
       "  Text(0, 0, ''),\n",
       "  Text(0, 0, ''),\n",
       "  Text(0, 0, ''),\n",
       "  Text(0, 0, ''),\n",
       "  Text(0, 0, ''),\n",
       "  Text(0, 0, ''),\n",
       "  Text(0, 0, ''),\n",
       "  Text(0, 0, ''),\n",
       "  Text(0, 0, ''),\n",
       "  Text(0, 0, ''),\n",
       "  Text(0, 0, ''),\n",
       "  Text(0, 0, ''),\n",
       "  Text(0, 0, ''),\n",
       "  Text(0, 0, ''),\n",
       "  Text(0, 0, ''),\n",
       "  Text(0, 0, ''),\n",
       "  Text(0, 0, ''),\n",
       "  Text(0, 0, ''),\n",
       "  Text(0, 0, ''),\n",
       "  Text(0, 0, ''),\n",
       "  Text(0, 0, ''),\n",
       "  Text(0, 0, ''),\n",
       "  Text(0, 0, ''),\n",
       "  Text(0, 0, ''),\n",
       "  Text(0, 0, ''),\n",
       "  Text(0, 0, ''),\n",
       "  Text(0, 0, ''),\n",
       "  Text(0, 0, ''),\n",
       "  Text(0, 0, ''),\n",
       "  Text(0, 0, ''),\n",
       "  Text(0, 0, ''),\n",
       "  Text(0, 0, ''),\n",
       "  Text(0, 0, ''),\n",
       "  Text(0, 0, ''),\n",
       "  Text(0, 0, ''),\n",
       "  Text(0, 0, ''),\n",
       "  Text(0, 0, ''),\n",
       "  Text(0, 0, ''),\n",
       "  Text(0, 0, ''),\n",
       "  Text(0, 0, ''),\n",
       "  Text(0, 0, ''),\n",
       "  Text(0, 0, ''),\n",
       "  Text(0, 0, ''),\n",
       "  Text(0, 0, ''),\n",
       "  Text(0, 0, ''),\n",
       "  Text(0, 0, ''),\n",
       "  Text(0, 0, ''),\n",
       "  Text(0, 0, ''),\n",
       "  Text(0, 0, ''),\n",
       "  Text(0, 0, ''),\n",
       "  Text(0, 0, ''),\n",
       "  Text(0, 0, ''),\n",
       "  Text(0, 0, ''),\n",
       "  Text(0, 0, ''),\n",
       "  Text(0, 0, ''),\n",
       "  Text(0, 0, ''),\n",
       "  Text(0, 0, ''),\n",
       "  Text(0, 0, ''),\n",
       "  Text(0, 0, ''),\n",
       "  Text(0, 0, ''),\n",
       "  Text(0, 0, ''),\n",
       "  Text(0, 0, ''),\n",
       "  Text(0, 0, ''),\n",
       "  Text(0, 0, ''),\n",
       "  Text(0, 0, ''),\n",
       "  Text(0, 0, ''),\n",
       "  Text(0, 0, ''),\n",
       "  Text(0, 0, ''),\n",
       "  Text(0, 0, ''),\n",
       "  Text(0, 0, ''),\n",
       "  Text(0, 0, ''),\n",
       "  Text(0, 0, ''),\n",
       "  Text(0, 0, ''),\n",
       "  Text(0, 0, ''),\n",
       "  Text(0, 0, ''),\n",
       "  Text(0, 0, ''),\n",
       "  Text(0, 0, ''),\n",
       "  Text(0, 0, ''),\n",
       "  Text(0, 0, ''),\n",
       "  Text(0, 0, ''),\n",
       "  Text(0, 0, ''),\n",
       "  Text(0, 0, ''),\n",
       "  Text(0, 0, ''),\n",
       "  Text(0, 0, ''),\n",
       "  Text(0, 0, ''),\n",
       "  Text(0, 0, ''),\n",
       "  Text(0, 0, ''),\n",
       "  Text(0, 0, ''),\n",
       "  Text(0, 0, ''),\n",
       "  Text(0, 0, ''),\n",
       "  Text(0, 0, ''),\n",
       "  Text(0, 0, ''),\n",
       "  Text(0, 0, ''),\n",
       "  Text(0, 0, ''),\n",
       "  Text(0, 0, ''),\n",
       "  Text(0, 0, ''),\n",
       "  Text(0, 0, ''),\n",
       "  Text(0, 0, ''),\n",
       "  Text(0, 0, ''),\n",
       "  Text(0, 0, ''),\n",
       "  Text(0, 0, ''),\n",
       "  Text(0, 0, ''),\n",
       "  Text(0, 0, ''),\n",
       "  Text(0, 0, ''),\n",
       "  Text(0, 0, ''),\n",
       "  Text(0, 0, ''),\n",
       "  Text(0, 0, ''),\n",
       "  Text(0, 0, ''),\n",
       "  Text(0, 0, ''),\n",
       "  Text(0, 0, ''),\n",
       "  Text(0, 0, ''),\n",
       "  Text(0, 0, ''),\n",
       "  Text(0, 0, ''),\n",
       "  Text(0, 0, ''),\n",
       "  Text(0, 0, ''),\n",
       "  Text(0, 0, ''),\n",
       "  Text(0, 0, ''),\n",
       "  Text(0, 0, ''),\n",
       "  Text(0, 0, ''),\n",
       "  Text(0, 0, ''),\n",
       "  Text(0, 0, ''),\n",
       "  Text(0, 0, ''),\n",
       "  Text(0, 0, ''),\n",
       "  Text(0, 0, ''),\n",
       "  Text(0, 0, ''),\n",
       "  Text(0, 0, ''),\n",
       "  Text(0, 0, ''),\n",
       "  Text(0, 0, ''),\n",
       "  Text(0, 0, ''),\n",
       "  Text(0, 0, ''),\n",
       "  Text(0, 0, ''),\n",
       "  Text(0, 0, ''),\n",
       "  Text(0, 0, ''),\n",
       "  Text(0, 0, ''),\n",
       "  Text(0, 0, ''),\n",
       "  Text(0, 0, ''),\n",
       "  Text(0, 0, ''),\n",
       "  Text(0, 0, ''),\n",
       "  Text(0, 0, ''),\n",
       "  Text(0, 0, ''),\n",
       "  Text(0, 0, ''),\n",
       "  Text(0, 0, ''),\n",
       "  Text(0, 0, ''),\n",
       "  Text(0, 0, ''),\n",
       "  Text(0, 0, ''),\n",
       "  Text(0, 0, ''),\n",
       "  Text(0, 0, ''),\n",
       "  Text(0, 0, ''),\n",
       "  Text(0, 0, ''),\n",
       "  Text(0, 0, ''),\n",
       "  Text(0, 0, ''),\n",
       "  Text(0, 0, ''),\n",
       "  Text(0, 0, ''),\n",
       "  Text(0, 0, ''),\n",
       "  Text(0, 0, ''),\n",
       "  Text(0, 0, ''),\n",
       "  Text(0, 0, ''),\n",
       "  Text(0, 0, ''),\n",
       "  Text(0, 0, ''),\n",
       "  Text(0, 0, '')])"
      ]
     },
     "execution_count": 9,
     "metadata": {},
     "output_type": "execute_result"
    },
    {
     "data": {
      "image/png": "[encoded data removed]",
      "text/plain": [
       "<Figure size 2160x720 with 1 Axes>"
      ]
     },
     "metadata": {
      "needs_background": "light"
     },
     "output_type": "display_data"
    }
   ],
   "source": [
    "plt.figure(figsize=(30,10))\n",
    "sns.scatterplot(df['Departure Time'],df['Price'])\n",
    "plt.xticks(rotation=90)"
   ]
  },
  {
   "cell_type": "markdown",
   "id": "bbe24247",
   "metadata": {},
   "source": [
    "Morning flights are expensive than night ones"
   ]
  },
  {
   "cell_type": "markdown",
   "id": "193b9c43",
   "metadata": {},
   "source": [
    "### Multivariate Analysis"
   ]
  },
  {
   "cell_type": "code",
   "execution_count": 25,
   "id": "10625364",
   "metadata": {},
   "outputs": [
    {
     "data": {
      "text/plain": [
       "<seaborn.axisgrid.PairGrid at 0x15e750418b0>"
      ]
     },
     "execution_count": 25,
     "metadata": {},
     "output_type": "execute_result"
    },
    {
     "data": {
      "image/png": "[encoded data removed]",
      "text/plain": [
       "<Figure size 720x720 with 20 Axes>"
      ]
     },
     "metadata": {
      "needs_background": "light"
     },
     "output_type": "display_data"
    }
   ],
   "source": [
    "sns.pairplot(df)"
   ]
  },
  {
   "cell_type": "markdown",
   "id": "b16d5d6b",
   "metadata": {},
   "source": [
    "### Label Encoding"
   ]
  },
  {
   "cell_type": "code",
   "execution_count": 4,
   "id": "1424cf5e",
   "metadata": {},
   "outputs": [
    {
     "data": {
      "text/html": [
       "<div>\n",
       "<style scoped>\n",
       "    .dataframe tbody tr th:only-of-type {\n",
       "        vertical-align: middle;\n",
       "    }\n",
       "\n",
       "    .dataframe tbody tr th {\n",
       "        vertical-align: top;\n",
       "    }\n",
       "\n",
       "    .dataframe thead th {\n",
       "        text-align: right;\n",
       "    }\n",
       "</style>\n",
       "<table border=\"1\" class=\"dataframe\">\n",
       "  <thead>\n",
       "    <tr style=\"text-align: right;\">\n",
       "      <th></th>\n",
       "      <th>Unnamed: 0</th>\n",
       "      <th>Date</th>\n",
       "      <th>Airline</th>\n",
       "      <th>Source</th>\n",
       "      <th>Destination</th>\n",
       "      <th>Departure Time</th>\n",
       "      <th>Arrival Time</th>\n",
       "      <th>Total Stops</th>\n",
       "      <th>Duration</th>\n",
       "      <th>Price</th>\n",
       "    </tr>\n",
       "  </thead>\n",
       "  <tbody>\n",
       "    <tr>\n",
       "      <th>0</th>\n",
       "      <td>0</td>\n",
       "      <td>6</td>\n",
       "      <td>6</td>\n",
       "      <td>1</td>\n",
       "      <td>0</td>\n",
       "      <td>26</td>\n",
       "      <td>39</td>\n",
       "      <td>2</td>\n",
       "      <td>26</td>\n",
       "      <td>5281</td>\n",
       "    </tr>\n",
       "    <tr>\n",
       "      <th>1</th>\n",
       "      <td>1</td>\n",
       "      <td>6</td>\n",
       "      <td>11</td>\n",
       "      <td>1</td>\n",
       "      <td>0</td>\n",
       "      <td>122</td>\n",
       "      <td>128</td>\n",
       "      <td>2</td>\n",
       "      <td>27</td>\n",
       "      <td>4843</td>\n",
       "    </tr>\n",
       "    <tr>\n",
       "      <th>2</th>\n",
       "      <td>2</td>\n",
       "      <td>6</td>\n",
       "      <td>3</td>\n",
       "      <td>1</td>\n",
       "      <td>0</td>\n",
       "      <td>172</td>\n",
       "      <td>182</td>\n",
       "      <td>2</td>\n",
       "      <td>28</td>\n",
       "      <td>4518</td>\n",
       "    </tr>\n",
       "    <tr>\n",
       "      <th>3</th>\n",
       "      <td>3</td>\n",
       "      <td>6</td>\n",
       "      <td>11</td>\n",
       "      <td>1</td>\n",
       "      <td>0</td>\n",
       "      <td>26</td>\n",
       "      <td>41</td>\n",
       "      <td>2</td>\n",
       "      <td>28</td>\n",
       "      <td>4843</td>\n",
       "    </tr>\n",
       "    <tr>\n",
       "      <th>4</th>\n",
       "      <td>4</td>\n",
       "      <td>0</td>\n",
       "      <td>11</td>\n",
       "      <td>1</td>\n",
       "      <td>0</td>\n",
       "      <td>122</td>\n",
       "      <td>128</td>\n",
       "      <td>2</td>\n",
       "      <td>27</td>\n",
       "      <td>5072</td>\n",
       "    </tr>\n",
       "  </tbody>\n",
       "</table>\n",
       "</div>"
      ],
      "text/plain": [
       "   Unnamed: 0  Date  Airline  Source  Destination  Departure Time  \\\n",
       "0           0     6        6       1            0              26   \n",
       "1           1     6       11       1            0             122   \n",
       "2           2     6        3       1            0             172   \n",
       "3           3     6       11       1            0              26   \n",
       "4           4     0       11       1            0             122   \n",
       "\n",
       "   Arrival Time  Total Stops  Duration  Price  \n",
       "0            39            2        26   5281  \n",
       "1           128            2        27   4843  \n",
       "2           182            2        28   4518  \n",
       "3            41            2        28   4843  \n",
       "4           128            2        27   5072  "
      ]
     },
     "execution_count": 4,
     "metadata": {},
     "output_type": "execute_result"
    }
   ],
   "source": [
    "from sklearn.preprocessing import LabelEncoder\n",
    "le=LabelEncoder()\n",
    "for i in df.columns:\n",
    "    if df[i].dtypes==\"object\":\n",
    "        df[i]=le.fit_transform(df[i].astype(str))\n",
    "df.head()"
   ]
  },
  {
   "cell_type": "markdown",
   "id": "01eef863",
   "metadata": {},
   "source": [
    "### Statistical Summary"
   ]
  },
  {
   "cell_type": "code",
   "execution_count": 13,
   "id": "ae4d74cf",
   "metadata": {
    "scrolled": true
   },
   "outputs": [
    {
     "data": {
      "text/html": [
       "<div>\n",
       "<style scoped>\n",
       "    .dataframe tbody tr th:only-of-type {\n",
       "        vertical-align: middle;\n",
       "    }\n",
       "\n",
       "    .dataframe tbody tr th {\n",
       "        vertical-align: top;\n",
       "    }\n",
       "\n",
       "    .dataframe thead th {\n",
       "        text-align: right;\n",
       "    }\n",
       "</style>\n",
       "<table border=\"1\" class=\"dataframe\">\n",
       "  <thead>\n",
       "    <tr style=\"text-align: right;\">\n",
       "      <th></th>\n",
       "      <th>Airline</th>\n",
       "      <th>Source</th>\n",
       "      <th>Destination</th>\n",
       "      <th>Departure Time</th>\n",
       "      <th>Arrival Time</th>\n",
       "      <th>Total Stops</th>\n",
       "      <th>Duration</th>\n",
       "      <th>Price</th>\n",
       "      <th>Month</th>\n",
       "      <th>Day</th>\n",
       "      <th>Year</th>\n",
       "    </tr>\n",
       "  </thead>\n",
       "  <tbody>\n",
       "    <tr>\n",
       "      <th>count</th>\n",
       "      <td>1658.000000</td>\n",
       "      <td>1658.000000</td>\n",
       "      <td>1658.000000</td>\n",
       "      <td>1658.000000</td>\n",
       "      <td>1658.000000</td>\n",
       "      <td>1658.000000</td>\n",
       "      <td>1658.000000</td>\n",
       "      <td>1658.000000</td>\n",
       "      <td>1658.000000</td>\n",
       "      <td>1658.000000</td>\n",
       "      <td>1658.0</td>\n",
       "    </tr>\n",
       "    <tr>\n",
       "      <th>mean</th>\n",
       "      <td>7.054885</td>\n",
       "      <td>1.854644</td>\n",
       "      <td>3.981906</td>\n",
       "      <td>93.720748</td>\n",
       "      <td>97.010856</td>\n",
       "      <td>1.176719</td>\n",
       "      <td>49.043426</td>\n",
       "      <td>11115.148372</td>\n",
       "      <td>4.388420</td>\n",
       "      <td>19.976478</td>\n",
       "      <td>2022.0</td>\n",
       "    </tr>\n",
       "    <tr>\n",
       "      <th>std</th>\n",
       "      <td>3.008137</td>\n",
       "      <td>1.187332</td>\n",
       "      <td>2.973171</td>\n",
       "      <td>54.439004</td>\n",
       "      <td>53.282849</td>\n",
       "      <td>0.978101</td>\n",
       "      <td>24.728933</td>\n",
       "      <td>8765.293715</td>\n",
       "      <td>2.034088</td>\n",
       "      <td>10.672784</td>\n",
       "      <td>0.0</td>\n",
       "    </tr>\n",
       "    <tr>\n",
       "      <th>min</th>\n",
       "      <td>0.000000</td>\n",
       "      <td>0.000000</td>\n",
       "      <td>0.000000</td>\n",
       "      <td>0.000000</td>\n",
       "      <td>0.000000</td>\n",
       "      <td>0.000000</td>\n",
       "      <td>0.000000</td>\n",
       "      <td>4468.000000</td>\n",
       "      <td>1.000000</td>\n",
       "      <td>7.000000</td>\n",
       "      <td>2022.0</td>\n",
       "    </tr>\n",
       "    <tr>\n",
       "      <th>25%</th>\n",
       "      <td>6.000000</td>\n",
       "      <td>1.000000</td>\n",
       "      <td>1.000000</td>\n",
       "      <td>44.000000</td>\n",
       "      <td>53.000000</td>\n",
       "      <td>0.000000</td>\n",
       "      <td>31.000000</td>\n",
       "      <td>8090.000000</td>\n",
       "      <td>2.000000</td>\n",
       "      <td>7.000000</td>\n",
       "      <td>2022.0</td>\n",
       "    </tr>\n",
       "    <tr>\n",
       "      <th>50%</th>\n",
       "      <td>8.000000</td>\n",
       "      <td>2.000000</td>\n",
       "      <td>4.000000</td>\n",
       "      <td>89.000000</td>\n",
       "      <td>94.000000</td>\n",
       "      <td>2.000000</td>\n",
       "      <td>40.000000</td>\n",
       "      <td>9719.000000</td>\n",
       "      <td>6.000000</td>\n",
       "      <td>27.000000</td>\n",
       "      <td>2022.0</td>\n",
       "    </tr>\n",
       "    <tr>\n",
       "      <th>75%</th>\n",
       "      <td>8.000000</td>\n",
       "      <td>3.000000</td>\n",
       "      <td>7.000000</td>\n",
       "      <td>144.000000</td>\n",
       "      <td>143.750000</td>\n",
       "      <td>2.000000</td>\n",
       "      <td>69.000000</td>\n",
       "      <td>11076.000000</td>\n",
       "      <td>6.000000</td>\n",
       "      <td>29.000000</td>\n",
       "      <td>2022.0</td>\n",
       "    </tr>\n",
       "    <tr>\n",
       "      <th>max</th>\n",
       "      <td>11.000000</td>\n",
       "      <td>4.000000</td>\n",
       "      <td>9.000000</td>\n",
       "      <td>192.000000</td>\n",
       "      <td>188.000000</td>\n",
       "      <td>2.000000</td>\n",
       "      <td>114.000000</td>\n",
       "      <td>103171.000000</td>\n",
       "      <td>6.000000</td>\n",
       "      <td>30.000000</td>\n",
       "      <td>2022.0</td>\n",
       "    </tr>\n",
       "  </tbody>\n",
       "</table>\n",
       "</div>"
      ],
      "text/plain": [
       "           Airline       Source  Destination  Departure Time  Arrival Time  \\\n",
       "count  1658.000000  1658.000000  1658.000000     1658.000000   1658.000000   \n",
       "mean      7.054885     1.854644     3.981906       93.720748     97.010856   \n",
       "std       3.008137     1.187332     2.973171       54.439004     53.282849   \n",
       "min       0.000000     0.000000     0.000000        0.000000      0.000000   \n",
       "25%       6.000000     1.000000     1.000000       44.000000     53.000000   \n",
       "50%       8.000000     2.000000     4.000000       89.000000     94.000000   \n",
       "75%       8.000000     3.000000     7.000000      144.000000    143.750000   \n",
       "max      11.000000     4.000000     9.000000      192.000000    188.000000   \n",
       "\n",
       "       Total Stops     Duration          Price        Month          Day  \\\n",
       "count  1658.000000  1658.000000    1658.000000  1658.000000  1658.000000   \n",
       "mean      1.176719    49.043426   11115.148372     4.388420    19.976478   \n",
       "std       0.978101    24.728933    8765.293715     2.034088    10.672784   \n",
       "min       0.000000     0.000000    4468.000000     1.000000     7.000000   \n",
       "25%       0.000000    31.000000    8090.000000     2.000000     7.000000   \n",
       "50%       2.000000    40.000000    9719.000000     6.000000    27.000000   \n",
       "75%       2.000000    69.000000   11076.000000     6.000000    29.000000   \n",
       "max       2.000000   114.000000  103171.000000     6.000000    30.000000   \n",
       "\n",
       "         Year  \n",
       "count  1658.0  \n",
       "mean   2022.0  \n",
       "std       0.0  \n",
       "min    2022.0  \n",
       "25%    2022.0  \n",
       "50%    2022.0  \n",
       "75%    2022.0  \n",
       "max    2022.0  "
      ]
     },
     "execution_count": 13,
     "metadata": {},
     "output_type": "execute_result"
    }
   ],
   "source": [
    "df.describe()"
   ]
  },
  {
   "cell_type": "markdown",
   "id": "8319fe3a",
   "metadata": {},
   "source": [
    "- total counts is 1658\n",
    "- outliers are present\n",
    "- skewness is present in few of the rows"
   ]
  },
  {
   "cell_type": "code",
   "execution_count": 14,
   "id": "fec50890",
   "metadata": {},
   "outputs": [
    {
     "data": {
      "text/html": [
       "<div>\n",
       "<style scoped>\n",
       "    .dataframe tbody tr th:only-of-type {\n",
       "        vertical-align: middle;\n",
       "    }\n",
       "\n",
       "    .dataframe tbody tr th {\n",
       "        vertical-align: top;\n",
       "    }\n",
       "\n",
       "    .dataframe thead th {\n",
       "        text-align: right;\n",
       "    }\n",
       "</style>\n",
       "<table border=\"1\" class=\"dataframe\">\n",
       "  <thead>\n",
       "    <tr style=\"text-align: right;\">\n",
       "      <th></th>\n",
       "      <th>Airline</th>\n",
       "      <th>Source</th>\n",
       "      <th>Destination</th>\n",
       "      <th>Departure Time</th>\n",
       "      <th>Arrival Time</th>\n",
       "      <th>Total Stops</th>\n",
       "      <th>Duration</th>\n",
       "      <th>Price</th>\n",
       "      <th>Month</th>\n",
       "      <th>Day</th>\n",
       "      <th>Year</th>\n",
       "    </tr>\n",
       "  </thead>\n",
       "  <tbody>\n",
       "    <tr>\n",
       "      <th>Airline</th>\n",
       "      <td>1.000000</td>\n",
       "      <td>0.032143</td>\n",
       "      <td>-0.002251</td>\n",
       "      <td>-0.025788</td>\n",
       "      <td>0.077850</td>\n",
       "      <td>0.002855</td>\n",
       "      <td>0.043339</td>\n",
       "      <td>-0.108848</td>\n",
       "      <td>-0.011771</td>\n",
       "      <td>-0.013870</td>\n",
       "      <td>NaN</td>\n",
       "    </tr>\n",
       "    <tr>\n",
       "      <th>Source</th>\n",
       "      <td>0.032143</td>\n",
       "      <td>1.000000</td>\n",
       "      <td>-0.220595</td>\n",
       "      <td>0.084877</td>\n",
       "      <td>0.042055</td>\n",
       "      <td>0.021093</td>\n",
       "      <td>0.074025</td>\n",
       "      <td>0.078710</td>\n",
       "      <td>0.038134</td>\n",
       "      <td>0.037305</td>\n",
       "      <td>NaN</td>\n",
       "    </tr>\n",
       "    <tr>\n",
       "      <th>Destination</th>\n",
       "      <td>-0.002251</td>\n",
       "      <td>-0.220595</td>\n",
       "      <td>1.000000</td>\n",
       "      <td>-0.049081</td>\n",
       "      <td>-0.041317</td>\n",
       "      <td>-0.349205</td>\n",
       "      <td>0.300138</td>\n",
       "      <td>-0.025082</td>\n",
       "      <td>-0.015103</td>\n",
       "      <td>-0.023540</td>\n",
       "      <td>NaN</td>\n",
       "    </tr>\n",
       "    <tr>\n",
       "      <th>Departure Time</th>\n",
       "      <td>-0.025788</td>\n",
       "      <td>0.084877</td>\n",
       "      <td>-0.049081</td>\n",
       "      <td>1.000000</td>\n",
       "      <td>0.263584</td>\n",
       "      <td>0.079132</td>\n",
       "      <td>-0.078060</td>\n",
       "      <td>-0.017722</td>\n",
       "      <td>0.005411</td>\n",
       "      <td>0.000650</td>\n",
       "      <td>NaN</td>\n",
       "    </tr>\n",
       "    <tr>\n",
       "      <th>Arrival Time</th>\n",
       "      <td>0.077850</td>\n",
       "      <td>0.042055</td>\n",
       "      <td>-0.041317</td>\n",
       "      <td>0.263584</td>\n",
       "      <td>1.000000</td>\n",
       "      <td>0.065517</td>\n",
       "      <td>0.033204</td>\n",
       "      <td>-0.079892</td>\n",
       "      <td>0.041829</td>\n",
       "      <td>0.046865</td>\n",
       "      <td>NaN</td>\n",
       "    </tr>\n",
       "    <tr>\n",
       "      <th>Total Stops</th>\n",
       "      <td>0.002855</td>\n",
       "      <td>0.021093</td>\n",
       "      <td>-0.349205</td>\n",
       "      <td>0.079132</td>\n",
       "      <td>0.065517</td>\n",
       "      <td>1.000000</td>\n",
       "      <td>-0.731882</td>\n",
       "      <td>-0.341945</td>\n",
       "      <td>-0.006615</td>\n",
       "      <td>-0.008678</td>\n",
       "      <td>NaN</td>\n",
       "    </tr>\n",
       "    <tr>\n",
       "      <th>Duration</th>\n",
       "      <td>0.043339</td>\n",
       "      <td>0.074025</td>\n",
       "      <td>0.300138</td>\n",
       "      <td>-0.078060</td>\n",
       "      <td>0.033204</td>\n",
       "      <td>-0.731882</td>\n",
       "      <td>1.000000</td>\n",
       "      <td>0.156940</td>\n",
       "      <td>-0.016605</td>\n",
       "      <td>-0.015211</td>\n",
       "      <td>NaN</td>\n",
       "    </tr>\n",
       "    <tr>\n",
       "      <th>Price</th>\n",
       "      <td>-0.108848</td>\n",
       "      <td>0.078710</td>\n",
       "      <td>-0.025082</td>\n",
       "      <td>-0.017722</td>\n",
       "      <td>-0.079892</td>\n",
       "      <td>-0.341945</td>\n",
       "      <td>0.156940</td>\n",
       "      <td>1.000000</td>\n",
       "      <td>-0.003263</td>\n",
       "      <td>-0.005817</td>\n",
       "      <td>NaN</td>\n",
       "    </tr>\n",
       "    <tr>\n",
       "      <th>Month</th>\n",
       "      <td>-0.011771</td>\n",
       "      <td>0.038134</td>\n",
       "      <td>-0.015103</td>\n",
       "      <td>0.005411</td>\n",
       "      <td>0.041829</td>\n",
       "      <td>-0.006615</td>\n",
       "      <td>-0.016605</td>\n",
       "      <td>-0.003263</td>\n",
       "      <td>1.000000</td>\n",
       "      <td>0.963881</td>\n",
       "      <td>NaN</td>\n",
       "    </tr>\n",
       "    <tr>\n",
       "      <th>Day</th>\n",
       "      <td>-0.013870</td>\n",
       "      <td>0.037305</td>\n",
       "      <td>-0.023540</td>\n",
       "      <td>0.000650</td>\n",
       "      <td>0.046865</td>\n",
       "      <td>-0.008678</td>\n",
       "      <td>-0.015211</td>\n",
       "      <td>-0.005817</td>\n",
       "      <td>0.963881</td>\n",
       "      <td>1.000000</td>\n",
       "      <td>NaN</td>\n",
       "    </tr>\n",
       "    <tr>\n",
       "      <th>Year</th>\n",
       "      <td>NaN</td>\n",
       "      <td>NaN</td>\n",
       "      <td>NaN</td>\n",
       "      <td>NaN</td>\n",
       "      <td>NaN</td>\n",
       "      <td>NaN</td>\n",
       "      <td>NaN</td>\n",
       "      <td>NaN</td>\n",
       "      <td>NaN</td>\n",
       "      <td>NaN</td>\n",
       "      <td>NaN</td>\n",
       "    </tr>\n",
       "  </tbody>\n",
       "</table>\n",
       "</div>"
      ],
      "text/plain": [
       "                 Airline    Source  Destination  Departure Time  Arrival Time  \\\n",
       "Airline         1.000000  0.032143    -0.002251       -0.025788      0.077850   \n",
       "Source          0.032143  1.000000    -0.220595        0.084877      0.042055   \n",
       "Destination    -0.002251 -0.220595     1.000000       -0.049081     -0.041317   \n",
       "Departure Time -0.025788  0.084877    -0.049081        1.000000      0.263584   \n",
       "Arrival Time    0.077850  0.042055    -0.041317        0.263584      1.000000   \n",
       "Total Stops     0.002855  0.021093    -0.349205        0.079132      0.065517   \n",
       "Duration        0.043339  0.074025     0.300138       -0.078060      0.033204   \n",
       "Price          -0.108848  0.078710    -0.025082       -0.017722     -0.079892   \n",
       "Month          -0.011771  0.038134    -0.015103        0.005411      0.041829   \n",
       "Day            -0.013870  0.037305    -0.023540        0.000650      0.046865   \n",
       "Year                 NaN       NaN          NaN             NaN           NaN   \n",
       "\n",
       "                Total Stops  Duration     Price     Month       Day  Year  \n",
       "Airline            0.002855  0.043339 -0.108848 -0.011771 -0.013870   NaN  \n",
       "Source             0.021093  0.074025  0.078710  0.038134  0.037305   NaN  \n",
       "Destination       -0.349205  0.300138 -0.025082 -0.015103 -0.023540   NaN  \n",
       "Departure Time     0.079132 -0.078060 -0.017722  0.005411  0.000650   NaN  \n",
       "Arrival Time       0.065517  0.033204 -0.079892  0.041829  0.046865   NaN  \n",
       "Total Stops        1.000000 -0.731882 -0.341945 -0.006615 -0.008678   NaN  \n",
       "Duration          -0.731882  1.000000  0.156940 -0.016605 -0.015211   NaN  \n",
       "Price             -0.341945  0.156940  1.000000 -0.003263 -0.005817   NaN  \n",
       "Month             -0.006615 -0.016605 -0.003263  1.000000  0.963881   NaN  \n",
       "Day               -0.008678 -0.015211 -0.005817  0.963881  1.000000   NaN  \n",
       "Year                    NaN       NaN       NaN       NaN       NaN   NaN  "
      ]
     },
     "execution_count": 14,
     "metadata": {},
     "output_type": "execute_result"
    }
   ],
   "source": [
    "corr=df.corr()\n",
    "corr"
   ]
  },
  {
   "cell_type": "code",
   "execution_count": 15,
   "id": "c08c1fb2",
   "metadata": {},
   "outputs": [],
   "source": [
    "df.drop('Year',axis=1,inplace=True)  #dropping the year column as it has no significance"
   ]
  },
  {
   "cell_type": "code",
   "execution_count": 16,
   "id": "d3db065c",
   "metadata": {},
   "outputs": [
    {
     "data": {
      "text/plain": [
       "<AxesSubplot:>"
      ]
     },
     "execution_count": 16,
     "metadata": {},
     "output_type": "execute_result"
    },
    {
     "data": {
      "image/png": "[encoded data removed]",
      "text/plain": [
       "<Figure size 1296x1296 with 2 Axes>"
      ]
     },
     "metadata": {
      "needs_background": "light"
     },
     "output_type": "display_data"
    }
   ],
   "source": [
    "plt.figure(figsize=(18,18))  #plotting the correlation using the heatmap\n",
    "sns.heatmap(corr,annot=True,cmap='twilight')"
   ]
  },
  {
   "cell_type": "code",
   "execution_count": 17,
   "id": "8b05d3b3",
   "metadata": {},
   "outputs": [
    {
     "data": {
      "text/plain": [
       "Total Stops      -0.341945\n",
       "Airline          -0.108848\n",
       "Arrival Time     -0.079892\n",
       "Destination      -0.025082\n",
       "Departure Time   -0.017722\n",
       "Day              -0.005817\n",
       "Month            -0.003263\n",
       "Source            0.078710\n",
       "Duration          0.156940\n",
       "Price             1.000000\n",
       "Year                   NaN\n",
       "Name: Price, dtype: float64"
      ]
     },
     "execution_count": 17,
     "metadata": {},
     "output_type": "execute_result"
    }
   ],
   "source": [
    "corr['Price'].sort_values()  #sorting the correlation with the target variable"
   ]
  },
  {
   "cell_type": "markdown",
   "id": "7cd5fc90",
   "metadata": {},
   "source": [
    "### Checking the skewness"
   ]
  },
  {
   "cell_type": "code",
   "execution_count": 18,
   "id": "a1f938a7",
   "metadata": {
    "scrolled": true
   },
   "outputs": [
    {
     "data": {
      "text/plain": [
       "Airline          -0.823673\n",
       "Source            0.055134\n",
       "Destination       0.095113\n",
       "Departure Time    0.124377\n",
       "Arrival Time     -0.045236\n",
       "Total Stops      -0.359391\n",
       "Duration          0.720345\n",
       "Price             6.407139\n",
       "Month            -0.591159\n",
       "Day              -0.380465\n",
       "dtype: float64"
      ]
     },
     "execution_count": 18,
     "metadata": {},
     "output_type": "execute_result"
    }
   ],
   "source": [
    "df.skew()"
   ]
  },
  {
   "cell_type": "markdown",
   "id": "0b6752dc",
   "metadata": {},
   "source": [
    "Very less skewness is present in the dataset except the price column"
   ]
  },
  {
   "cell_type": "markdown",
   "id": "9fb5fff9",
   "metadata": {},
   "source": [
    "### Plotting the outliers"
   ]
  },
  {
   "cell_type": "code",
   "execution_count": 19,
   "id": "88d376ff",
   "metadata": {},
   "outputs": [
    {
     "data": {
      "text/plain": [
       "Airline               AxesSubplot(0.125,0.71587;0.227941x0.16413)\n",
       "Source             AxesSubplot(0.398529,0.71587;0.227941x0.16413)\n",
       "Destination        AxesSubplot(0.672059,0.71587;0.227941x0.16413)\n",
       "Departure Time       AxesSubplot(0.125,0.518913;0.227941x0.16413)\n",
       "Arrival Time      AxesSubplot(0.398529,0.518913;0.227941x0.16413)\n",
       "Total Stops       AxesSubplot(0.672059,0.518913;0.227941x0.16413)\n",
       "Duration             AxesSubplot(0.125,0.321957;0.227941x0.16413)\n",
       "Price             AxesSubplot(0.398529,0.321957;0.227941x0.16413)\n",
       "Month             AxesSubplot(0.672059,0.321957;0.227941x0.16413)\n",
       "Day                     AxesSubplot(0.125,0.125;0.227941x0.16413)\n",
       "dtype: object"
      ]
     },
     "execution_count": 19,
     "metadata": {},
     "output_type": "execute_result"
    },
    {
     "data": {
      "image/png": "[encoded data removed]",
      "text/plain": [
       "<Figure size 1080x1296 with 12 Axes>"
      ]
     },
     "metadata": {
      "needs_background": "light"
     },
     "output_type": "display_data"
    }
   ],
   "source": [
    "df.plot(kind='box',subplots=True,layout=(4,3),figsize=(15,18))"
   ]
  },
  {
   "cell_type": "markdown",
   "id": "c195d9d4",
   "metadata": {},
   "source": [
    "### Removing the outliers"
   ]
  },
  {
   "cell_type": "code",
   "execution_count": 20,
   "id": "b4961758",
   "metadata": {},
   "outputs": [
    {
     "name": "stdout",
     "output_type": "stream",
     "text": [
      "(array([889, 890, 891, 892, 893, 894, 895, 896, 897, 898, 899, 900, 901,\n",
      "       902, 903, 904, 905, 906, 907, 908, 909, 910, 911, 912, 913, 914,\n",
      "       915, 916, 917, 918, 919, 920, 921], dtype=int64), array([7, 7, 7, 7, 7, 7, 7, 7, 7, 7, 7, 7, 7, 7, 7, 7, 7, 7, 7, 7, 7, 7,\n",
      "       7, 7, 7, 7, 7, 7, 7, 7, 7, 7, 7], dtype=int64))\n"
     ]
    },
    {
     "data": {
      "text/plain": [
       "(1625, 10)"
      ]
     },
     "execution_count": 20,
     "metadata": {},
     "output_type": "execute_result"
    }
   ],
   "source": [
    "from scipy.stats import zscore\n",
    "z=np.abs(zscore(df))\n",
    "threshold=3\n",
    "print(np.where(z>3))\n",
    "df_new=df[(z<3).all(axis=1)]\n",
    "df=df_new\n",
    "df.shape"
   ]
  },
  {
   "cell_type": "markdown",
   "id": "36fe0ef9",
   "metadata": {},
   "source": [
    "### Model Building"
   ]
  },
  {
   "cell_type": "code",
   "execution_count": 22,
   "id": "d45f9aca",
   "metadata": {},
   "outputs": [],
   "source": [
    "df=df[['Airline', 'Source', 'Destination', 'Departure Time', 'Arrival Time',\n",
    "       'Duration', 'Total Stops',  'Month', 'Day','Price']]"
   ]
  },
  {
   "cell_type": "code",
   "execution_count": 23,
   "id": "67483d00",
   "metadata": {},
   "outputs": [],
   "source": [
    "x=df.iloc[:,:-1]\n",
    "y=df.iloc[:,-1]"
   ]
  },
  {
   "cell_type": "code",
   "execution_count": 24,
   "id": "fe9ab1ee",
   "metadata": {},
   "outputs": [],
   "source": [
    "#importing the different machine learning models\n",
    "\n",
    "from sklearn.linear_model import LinearRegression\n",
    "from sklearn.metrics import mean_squared_error,mean_absolute_error\n",
    "from sklearn.model_selection import train_test_split\n",
    "from sklearn.ensemble import RandomForestRegressor\n",
    "from sklearn.svm import SVR\n",
    "from sklearn.tree import DecisionTreeRegressor\n",
    "from sklearn.neighbors import KNeighborsRegressor\n",
    "from sklearn.metrics import r2_score"
   ]
  },
  {
   "cell_type": "code",
   "execution_count": 25,
   "id": "874536ad",
   "metadata": {},
   "outputs": [],
   "source": [
    "# defining the different models\n",
    "\n",
    "lg=LinearRegression()\n",
    "rdr=RandomForestRegressor()\n",
    "svr=SVR()\n",
    "dtr=DecisionTreeRegressor()\n",
    "knr=KNeighborsRegressor()"
   ]
  },
  {
   "cell_type": "markdown",
   "id": "acf64350",
   "metadata": {},
   "source": [
    "#### Finding the best random state"
   ]
  },
  {
   "cell_type": "code",
   "execution_count": 26,
   "id": "17d15cdd",
   "metadata": {},
   "outputs": [
    {
     "name": "stdout",
     "output_type": "stream",
     "text": [
      "Best Accuracy score is 0.3999963569827626 on random state 49\n"
     ]
    }
   ],
   "source": [
    "model=[lg,rdr,svr,dtr,knr]\n",
    "maxAcc=0\n",
    "maxRS=0\n",
    "for i in range(40,60):\n",
    "    x_train,x_test,y_train,y_test=train_test_split(x,y,random_state=i,test_size=.20)\n",
    "    lg.fit(x_train,y_train)\n",
    "    pred=lg.predict(x_test)\n",
    "    acc=r2_score(y_test,pred)\n",
    "    if acc>maxAcc:\n",
    "        maxAcc=acc\n",
    "        maxRS=i\n",
    "print('Best Accuracy score is', maxAcc , 'on random state', maxRS)"
   ]
  },
  {
   "cell_type": "code",
   "execution_count": 27,
   "id": "6d389cef",
   "metadata": {},
   "outputs": [],
   "source": [
    "x_train,x_test,y_train,y_test=train_test_split(x,y,random_state=49,test_size=.20)"
   ]
  },
  {
   "cell_type": "markdown",
   "id": "be7fc01c",
   "metadata": {},
   "source": [
    "#### Linear Regression"
   ]
  },
  {
   "cell_type": "code",
   "execution_count": 28,
   "id": "e08a5c66",
   "metadata": {},
   "outputs": [
    {
     "name": "stdout",
     "output_type": "stream",
     "text": [
      "Accuracy Score:  0.3999963569827626\n"
     ]
    }
   ],
   "source": [
    "lg.fit(x_train,y_train)\n",
    "pred1=lg.predict(x_test)\n",
    "acc=r2_score(y_test,pred1)\n",
    "print('Accuracy Score: ',acc)"
   ]
  },
  {
   "cell_type": "markdown",
   "id": "4982be2d",
   "metadata": {},
   "source": [
    "#### Decision Tree Regressor"
   ]
  },
  {
   "cell_type": "code",
   "execution_count": 29,
   "id": "5de17cf8",
   "metadata": {},
   "outputs": [
    {
     "name": "stdout",
     "output_type": "stream",
     "text": [
      "Accuracy Score:  0.7719937778616296\n"
     ]
    }
   ],
   "source": [
    "dtr.fit(x_train,y_train)\n",
    "pred2=dtr.predict(x_test)\n",
    "acc=r2_score(y_test,pred2)\n",
    "print('Accuracy Score: ',acc)"
   ]
  },
  {
   "cell_type": "markdown",
   "id": "77686493",
   "metadata": {},
   "source": [
    "#### Support Vector Regressor"
   ]
  },
  {
   "cell_type": "code",
   "execution_count": 30,
   "id": "60a0ee46",
   "metadata": {},
   "outputs": [
    {
     "name": "stdout",
     "output_type": "stream",
     "text": [
      "Accuracy Score:  -0.01887564129226993\n"
     ]
    }
   ],
   "source": [
    "svr.fit(x_train,y_train)\n",
    "pred3=svr.predict(x_test)\n",
    "acc=r2_score(y_test,pred3)\n",
    "print('Accuracy Score: ',acc)"
   ]
  },
  {
   "cell_type": "markdown",
   "id": "3742c555",
   "metadata": {},
   "source": [
    "#### KNN Regression"
   ]
  },
  {
   "cell_type": "code",
   "execution_count": 31,
   "id": "cb783e97",
   "metadata": {},
   "outputs": [
    {
     "name": "stdout",
     "output_type": "stream",
     "text": [
      "Accuracy Score:  0.5116525830272465\n"
     ]
    }
   ],
   "source": [
    "knr.fit(x_train,y_train)\n",
    "pred4=knr.predict(x_test)\n",
    "acc=r2_score(y_test,pred4)\n",
    "print('Accuracy Score: ',acc)"
   ]
  },
  {
   "cell_type": "markdown",
   "id": "b7816607",
   "metadata": {},
   "source": [
    "#### Random Forest Regression"
   ]
  },
  {
   "cell_type": "code",
   "execution_count": 32,
   "id": "5c4936dc",
   "metadata": {},
   "outputs": [
    {
     "name": "stdout",
     "output_type": "stream",
     "text": [
      "Accuracy Score:  0.8644094305461366\n"
     ]
    }
   ],
   "source": [
    "rdr.fit(x_train,y_train)\n",
    "pred5=rdr.predict(x_test)\n",
    "acc=r2_score(y_test,pred5)\n",
    "print('Accuracy Score: ',acc)"
   ]
  },
  {
   "cell_type": "markdown",
   "id": "9b221300",
   "metadata": {},
   "source": [
    "#### Lasso Regularization"
   ]
  },
  {
   "cell_type": "code",
   "execution_count": 33,
   "id": "0a6f3712",
   "metadata": {},
   "outputs": [
    {
     "name": "stdout",
     "output_type": "stream",
     "text": [
      "Accuracy Score:  0.3999359120075674\n"
     ]
    }
   ],
   "source": [
    "from sklearn.linear_model import Lasso\n",
    "ls=Lasso()\n",
    "ls.fit(x_train,y_train)\n",
    "pred6=ls.predict(x_test)\n",
    "acc=r2_score(y_test,pred6)\n",
    "print('Accuracy Score: ',acc)"
   ]
  },
  {
   "cell_type": "markdown",
   "id": "1e9b80bf",
   "metadata": {},
   "source": [
    "#### Ridge Regularization"
   ]
  },
  {
   "cell_type": "code",
   "execution_count": 34,
   "id": "43a5e4b0",
   "metadata": {},
   "outputs": [
    {
     "name": "stdout",
     "output_type": "stream",
     "text": [
      "Accuracy Score:  0.399907003614267\n"
     ]
    }
   ],
   "source": [
    "from sklearn.linear_model import Ridge\n",
    "rg=Ridge()\n",
    "rg.fit(x_train,y_train)\n",
    "pred7=rg.predict(x_test)\n",
    "acc=r2_score(y_test,pred7)\n",
    "print('Accuracy Score: ',acc)"
   ]
  },
  {
   "cell_type": "markdown",
   "id": "422c29d5",
   "metadata": {},
   "source": [
    "### Cross Val Score"
   ]
  },
  {
   "cell_type": "code",
   "execution_count": 36,
   "id": "017ae6bb",
   "metadata": {},
   "outputs": [
    {
     "name": "stdout",
     "output_type": "stream",
     "text": [
      "at cv=  3\n",
      "cross val score =  -195.90701276676333\n",
      "at cv=  4\n",
      "cross val score =  -89.12894509058178\n",
      "at cv=  5\n",
      "cross val score =  -128.80149369635566\n",
      "at cv=  6\n",
      "cross val score =  -209.47089388457152\n"
     ]
    }
   ],
   "source": [
    "from sklearn.model_selection import cross_val_score\n",
    "for i in range(3,7):\n",
    "    cr=cross_val_score(dtr,x,y,cv=i)\n",
    "    cr_mean=cr.mean()\n",
    "    print(\"at cv= \", i)\n",
    "    print('cross val score = ',cr_mean*100)"
   ]
  },
  {
   "cell_type": "markdown",
   "id": "dc121433",
   "metadata": {},
   "source": [
    "### Hypermeter Tuning"
   ]
  },
  {
   "cell_type": "code",
   "execution_count": 38,
   "id": "212cfc76",
   "metadata": {},
   "outputs": [
    {
     "data": {
      "text/plain": [
       "{'criterion': 'squared_error', 'max_depth': 2, 'max_features': 'sqrt'}"
      ]
     },
     "execution_count": 38,
     "metadata": {},
     "output_type": "execute_result"
    }
   ],
   "source": [
    "from sklearn.model_selection import GridSearchCV\n",
    "# creating parameters\n",
    "param={'criterion':['squared_error','absolute_error','poisson'],\n",
    "      'max_features':['sqrt','log2'],\n",
    "      'max_depth':[2,3,4,5]}\n",
    "\n",
    "GCV=GridSearchCV(rdr,param,cv=6,scoring='accuracy')\n",
    "GCV.fit(x_train,y_train)\n",
    "GCV.best_params_"
   ]
  },
  {
   "cell_type": "code",
   "execution_count": 40,
   "id": "d438a2c8",
   "metadata": {},
   "outputs": [
    {
     "data": {
      "text/plain": [
       "0.4221434482352"
      ]
     },
     "execution_count": 40,
     "metadata": {},
     "output_type": "execute_result"
    }
   ],
   "source": [
    "GCV_pred=GCV.best_estimator_.predict(x_test)  #predicting the price using the best parameters of RDR Model\n",
    "r2_score(y_test,GCV_pred)"
   ]
  },
  {
   "cell_type": "code",
   "execution_count": 41,
   "id": "bc8803b1",
   "metadata": {},
   "outputs": [
    {
     "data": {
      "text/plain": [
       "{'criterion': 'squared_error',\n",
       " 'max_depth': 2,\n",
       " 'max_features': 'sqrt',\n",
       " 'splitter': 'best'}"
      ]
     },
     "execution_count": 41,
     "metadata": {},
     "output_type": "execute_result"
    }
   ],
   "source": [
    "#FOR DTR\n",
    "\n",
    "from sklearn.model_selection import GridSearchCV\n",
    "# creating parameters\n",
    "param={'criterion':['squared_error','absolute_error','poisson','friedman_mse'],\n",
    "      'max_features':['sqrt','log2','auto'],\n",
    "      'max_depth':[2,3,4,5],\n",
    "      'splitter':['best','random']}\n",
    "\n",
    "GCV=GridSearchCV(dtr,param,cv=6,scoring='accuracy')\n",
    "GCV.fit(x_train,y_train)\n",
    "GCV.best_params_"
   ]
  },
  {
   "cell_type": "code",
   "execution_count": 42,
   "id": "2fa7582f",
   "metadata": {},
   "outputs": [
    {
     "data": {
      "text/plain": [
       "0.3451241549083278"
      ]
     },
     "execution_count": 42,
     "metadata": {},
     "output_type": "execute_result"
    }
   ],
   "source": [
    "GCV_pred=GCV.best_estimator_.predict(x_test)  #predicting the price using the best parameters of DTR Model\n",
    "r2_score(y_test,GCV_pred)"
   ]
  },
  {
   "cell_type": "markdown",
   "id": "d9e25b8d",
   "metadata": {},
   "source": [
    "#### Finding the errors"
   ]
  },
  {
   "cell_type": "code",
   "execution_count": 43,
   "id": "3a1a2575",
   "metadata": {},
   "outputs": [
    {
     "name": "stdout",
     "output_type": "stream",
     "text": [
      "error:\n",
      "mean absolute error:  1794.8207609838125\n",
      "mean squared error:  5837340.255178413\n",
      "root mean squared error:  2416.058826928354\n",
      "\n",
      "\n",
      "error:\n",
      "mean absolute error:  726.2338461538461\n",
      "mean squared error:  2218236.363076923\n",
      "root mean squared error:  1489.374487184779\n",
      "\n",
      "\n",
      "error:\n",
      "mean absolute error:  2222.0349512737425\n",
      "mean squared error:  9912479.474337496\n",
      "root mean squared error:  3148.409038599892\n",
      "\n",
      "\n",
      "error:\n",
      "mean absolute error:  1531.7563076923077\n",
      "mean squared error:  4751054.545723077\n",
      "root mean squared error:  2179.691387725124\n",
      "\n",
      "\n",
      "error:\n",
      "mean absolute error:  752.1484394871794\n",
      "mean squared error:  1319139.139414963\n",
      "root mean squared error:  1148.537826723597\n",
      "\n",
      "\n"
     ]
    }
   ],
   "source": [
    "from sklearn.metrics import mean_squared_error,mean_absolute_error\n",
    "l1=[pred1,pred2,pred3,pred4,pred5]\n",
    "for i in l1:\n",
    "    print('error:')\n",
    "\n",
    "    print('mean absolute error: ',mean_absolute_error(y_test,i))\n",
    "    print('mean squared error: ',mean_squared_error(y_test,i))\n",
    "    print('root mean squared error: ',np.sqrt(mean_squared_error(y_test,i)))\n",
    "    print('\\n')"
   ]
  },
  {
   "cell_type": "markdown",
   "id": "a675bdad",
   "metadata": {},
   "source": [
    "We have least errors for Random Forest Regression Model"
   ]
  },
  {
   "cell_type": "markdown",
   "id": "65d75131",
   "metadata": {},
   "source": [
    "### Saving the model"
   ]
  },
  {
   "cell_type": "code",
   "execution_count": 44,
   "id": "4187f177",
   "metadata": {},
   "outputs": [],
   "source": [
    "import pickle\n",
    "filename='flight_price_model.pkl'\n",
    "pickle.dump(rdr, open(filename,'wb'))"
   ]
  },
  {
   "cell_type": "markdown",
   "id": "2efc91b7",
   "metadata": {},
   "source": [
    "### Conclusion"
   ]
  },
  {
   "cell_type": "code",
   "execution_count": 45,
   "id": "ec909050",
   "metadata": {
    "scrolled": true
   },
   "outputs": [
    {
     "data": {
      "text/html": [
       "<div>\n",
       "<style scoped>\n",
       "    .dataframe tbody tr th:only-of-type {\n",
       "        vertical-align: middle;\n",
       "    }\n",
       "\n",
       "    .dataframe tbody tr th {\n",
       "        vertical-align: top;\n",
       "    }\n",
       "\n",
       "    .dataframe thead th {\n",
       "        text-align: right;\n",
       "    }\n",
       "</style>\n",
       "<table border=\"1\" class=\"dataframe\">\n",
       "  <thead>\n",
       "    <tr style=\"text-align: right;\">\n",
       "      <th></th>\n",
       "      <th>Actual</th>\n",
       "      <th>Predicted</th>\n",
       "    </tr>\n",
       "  </thead>\n",
       "  <tbody>\n",
       "    <tr>\n",
       "      <th>0</th>\n",
       "      <td>11076</td>\n",
       "      <td>11076.00</td>\n",
       "    </tr>\n",
       "    <tr>\n",
       "      <th>1</th>\n",
       "      <td>7964</td>\n",
       "      <td>8181.72</td>\n",
       "    </tr>\n",
       "    <tr>\n",
       "      <th>2</th>\n",
       "      <td>16686</td>\n",
       "      <td>16992.98</td>\n",
       "    </tr>\n",
       "    <tr>\n",
       "      <th>3</th>\n",
       "      <td>7984</td>\n",
       "      <td>8510.42</td>\n",
       "    </tr>\n",
       "    <tr>\n",
       "      <th>4</th>\n",
       "      <td>10695</td>\n",
       "      <td>10490.31</td>\n",
       "    </tr>\n",
       "    <tr>\n",
       "      <th>...</th>\n",
       "      <td>...</td>\n",
       "      <td>...</td>\n",
       "    </tr>\n",
       "    <tr>\n",
       "      <th>320</th>\n",
       "      <td>9077</td>\n",
       "      <td>10249.75</td>\n",
       "    </tr>\n",
       "    <tr>\n",
       "      <th>321</th>\n",
       "      <td>7332</td>\n",
       "      <td>8432.69</td>\n",
       "    </tr>\n",
       "    <tr>\n",
       "      <th>322</th>\n",
       "      <td>10495</td>\n",
       "      <td>10689.36</td>\n",
       "    </tr>\n",
       "    <tr>\n",
       "      <th>323</th>\n",
       "      <td>10695</td>\n",
       "      <td>10596.91</td>\n",
       "    </tr>\n",
       "    <tr>\n",
       "      <th>324</th>\n",
       "      <td>9840</td>\n",
       "      <td>10102.58</td>\n",
       "    </tr>\n",
       "  </tbody>\n",
       "</table>\n",
       "<p>325 rows × 2 columns</p>\n",
       "</div>"
      ],
      "text/plain": [
       "     Actual  Predicted\n",
       "0     11076   11076.00\n",
       "1      7964    8181.72\n",
       "2     16686   16992.98\n",
       "3      7984    8510.42\n",
       "4     10695   10490.31\n",
       "..      ...        ...\n",
       "320    9077   10249.75\n",
       "321    7332    8432.69\n",
       "322   10495   10689.36\n",
       "323   10695   10596.91\n",
       "324    9840   10102.58\n",
       "\n",
       "[325 rows x 2 columns]"
      ]
     },
     "execution_count": 45,
     "metadata": {},
     "output_type": "execute_result"
    }
   ],
   "source": [
    "a=np.array(y_test)\n",
    "pred=np.array(pred5)\n",
    "Flight_Price=pd.DataFrame({'Actual':a,'Predicted':pred})\n",
    "Flight_Price"
   ]
  },
  {
   "cell_type": "markdown",
   "id": "d6e89bcc",
   "metadata": {},
   "source": [
    "Hence, we see our model predicting the vlaues of price more or less near to actual value"
   ]
  },
  {
   "cell_type": "code",
   "execution_count": null,
   "id": "c3c73324",
   "metadata": {},
   "outputs": [],
   "source": []
  }
 ],
 "metadata": {
  "kernelspec": {
   "display_name": "Python 3 (ipykernel)",
   "language": "python",
   "name": "python3"
  },
  "language_info": {
   "codemirror_mode": {
    "name": "ipython",
    "version": 3
   },
   "file_extension": ".py",
   "mimetype": "text/x-python",
   "name": "python",
   "nbconvert_exporter": "python",
   "pygments_lexer": "ipython3",
   "version": "3.9.7"
  }
 },
 "nbformat": 4,
 "nbformat_minor": 5
}
