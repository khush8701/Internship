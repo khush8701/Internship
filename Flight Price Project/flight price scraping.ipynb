{
 "cells": [
  {
   "cell_type": "markdown",
   "id": "64ca9856",
   "metadata": {},
   "source": [
    "### Sraping the Flight Details"
   ]
  },
  {
   "cell_type": "code",
   "execution_count": 1,
   "id": "29a02c0f",
   "metadata": {},
   "outputs": [],
   "source": [
    "#importing the libraries\n",
    "\n",
    "import selenium \n",
    "from selenium import webdriver\n",
    "import pandas as pd\n",
    "import time\n",
    "import warnings\n",
    "warnings.filterwarnings('ignore')\n",
    "from selenium.common.exceptions import StaleElementReferenceException, NoSuchElementException"
   ]
  },
  {
   "cell_type": "code",
   "execution_count": 2,
   "id": "a8c4ca90",
   "metadata": {},
   "outputs": [],
   "source": [
    "driver=webdriver.Chrome('chromedriver.exe')  #intializing the chrome"
   ]
  },
  {
   "cell_type": "code",
   "execution_count": 3,
   "id": "aabef8fa",
   "metadata": {},
   "outputs": [],
   "source": [
    "#creating the l=blank lists to store the data\n",
    "\n",
    "date=[]\n",
    "dep_time=[]\n",
    "arr_time=[]\n",
    "source=[]\n",
    "destination=[]\n",
    "stop=[]\n",
    "duration=[]\n",
    "price=[]\n",
    "airline=[]"
   ]
  },
  {
   "cell_type": "code",
   "execution_count": 4,
   "id": "64795df2",
   "metadata": {},
   "outputs": [],
   "source": [
    "#to intiate the website for Mumbai to Bengaluru \n",
    "\n",
    "driver.get('https://www.kayak.co.in/flights/BOM-BLR/2022-06-30-flexible-3days?sort=bestflight_a')\n",
    "time.sleep(3)\n",
    "driver.maximize_window()\n",
    "time.sleep(3)"
   ]
  },
  {
   "cell_type": "code",
   "execution_count": 5,
   "id": "4bebe1bb",
   "metadata": {},
   "outputs": [],
   "source": [
    "#clicking on show more for better scraping\n",
    "\n",
    "num=10\n",
    "for i in range(num):\n",
    "    more=driver.find_element_by_xpath('//a[@class=\"moreButton\"]')\n",
    "    more.click()\n",
    "    time.sleep(2)"
   ]
  },
  {
   "cell_type": "code",
   "execution_count": 6,
   "id": "61aded1c",
   "metadata": {},
   "outputs": [],
   "source": [
    "#scraping the date of flight\n",
    "for i in driver.find_elements_by_xpath('//div[@class=\"section stacked-carriers with-date\"]//div[2]//span'):\n",
    "    date.append(i.text)\n",
    "\n",
    "#scraping the departure time of the flight\n",
    "for i in driver.find_elements_by_xpath('//span[@class=\"depart-time base-time\"]'):\n",
    "    dep_time.append(i.text)\n",
    "\n",
    "\n",
    "#scraping the arrival time of the flight\n",
    "for i in driver.find_elements_by_xpath('//span[@class=\"arrival-time base-time\"]'):\n",
    "    arr_time.append(i.text)\n",
    "\n",
    "\n",
    "#scraping the total stops of a flight\n",
    "for i in driver.find_elements_by_xpath('//span[@class=\"stops-text\"]'):\n",
    "    stop.append(i.text)\n",
    "\n",
    "#scraping the duration of a flight\n",
    "for i in driver.find_elements_by_xpath('//div[@class=\"section duration allow-multi-modal-icons\"]'):\n",
    "    duration.append(i.text)\n",
    "\n",
    "\n",
    "#scraping the name of the airline\n",
    "for i in driver.find_elements_by_xpath('//span[@class=\"codeshares-airline-names\"]'):\n",
    "    airline.append(i.text)\n",
    "\n",
    "#scarping the source of the flight\n",
    "for i in driver.find_elements_by_xpath('//span[@class=\"airport-name\"]'):\n",
    "    source.append(i.text.split(\"-\")[0])\n",
    "\n",
    "\n",
    "#scraping the destination of the flight\n",
    "for i in driver.find_elements_by_xpath('//span[@class=\"airport-name\"]'):\n",
    "    destination.append(i.text.split(\"-\")[0])\n",
    "\n",
    "\n",
    "#scraping the price of the f;ight\n",
    "for i in driver.find_elements_by_xpath('//div[@class=\"multibook-dropdown\"]//span//span[@class=\"price-text\"]'):\n",
    "    price.append(i.text)"
   ]
  },
  {
   "cell_type": "code",
   "execution_count": 7,
   "id": "8f195502",
   "metadata": {},
   "outputs": [
    {
     "name": "stdout",
     "output_type": "stream",
     "text": [
      "166 166 166 166 332 332 166 166 166\n"
     ]
    }
   ],
   "source": [
    "print(len(date),len(dep_time),len(arr_time),len(airline),len(source),len(destination),len(price),len(stop),len(duration))"
   ]
  },
  {
   "cell_type": "code",
   "execution_count": 8,
   "id": "aa30d580",
   "metadata": {},
   "outputs": [],
   "source": [
    "driver.get('https://www.kayak.co.in/flights/DEL-BLR/2022-06-30-flexible-3days?sort=bestflight_a')  #Delhi to Bengaluru\n",
    "time.sleep(3) "
   ]
  },
  {
   "cell_type": "code",
   "execution_count": 9,
   "id": "55c4d907",
   "metadata": {},
   "outputs": [],
   "source": [
    "num=10\n",
    "for i in range(num):\n",
    "    more=driver.find_element_by_xpath('//a[@class=\"moreButton\"]')\n",
    "    more.click()\n",
    "    time.sleep(2)"
   ]
  },
  {
   "cell_type": "code",
   "execution_count": 10,
   "id": "d46bb91f",
   "metadata": {},
   "outputs": [],
   "source": [
    "for i in driver.find_elements_by_xpath('//div[@class=\"section stacked-carriers with-date\"]//div[2]//span'):\n",
    "    date.append(i.text)\n",
    "\n",
    "for i in driver.find_elements_by_xpath('//span[@class=\"depart-time base-time\"]'):\n",
    "    dep_time.append(i.text)\n",
    "\n",
    "\n",
    "for i in driver.find_elements_by_xpath('//span[@class=\"arrival-time base-time\"]'):\n",
    "    arr_time.append(i.text)\n",
    "\n",
    "\n",
    "for i in driver.find_elements_by_xpath('//span[@class=\"stops-text\"]'):\n",
    "    stop.append(i.text)\n",
    "\n",
    "\n",
    "for i in driver.find_elements_by_xpath('//div[@class=\"section duration allow-multi-modal-icons\"]'):\n",
    "    duration.append(i.text)\n",
    "\n",
    "\n",
    "for i in driver.find_elements_by_xpath('//span[@class=\"codeshares-airline-names\"]'):\n",
    "    airline.append(i.text)\n",
    "\n",
    "for i in driver.find_elements_by_xpath('//span[@class=\"airport-name\"]'):\n",
    "    source.append(i.text.split(\"-\")[0])\n",
    "\n",
    "\n",
    "\n",
    "for i in driver.find_elements_by_xpath('//span[@class=\"airport-name\"]'):\n",
    "    destination.append(i.text.split(\"-\")[0])\n",
    "\n",
    "\n",
    "\n",
    "for i in driver.find_elements_by_xpath('//div[@class=\"multibook-dropdown\"]//span//span[@class=\"price-text\"]'):\n",
    "    price.append(i.text)"
   ]
  },
  {
   "cell_type": "code",
   "execution_count": 11,
   "id": "dec5760b",
   "metadata": {},
   "outputs": [
    {
     "name": "stdout",
     "output_type": "stream",
     "text": [
      "332 332 332 332 664 664 332 332 332\n"
     ]
    }
   ],
   "source": [
    "print(len(date),len(dep_time),len(arr_time),len(airline),len(source),len(destination),len(price),len(stop),len(duration))"
   ]
  },
  {
   "cell_type": "code",
   "execution_count": 12,
   "id": "4bcdfbe9",
   "metadata": {},
   "outputs": [],
   "source": [
    "driver.get('https://www.kayak.co.in/flights/DEL-GOI/2022-06-30-flexible-3days?sort=bestflight_a')   #Delhi to Goa\n",
    "time.sleep(3)"
   ]
  },
  {
   "cell_type": "code",
   "execution_count": 13,
   "id": "60c45125",
   "metadata": {},
   "outputs": [],
   "source": [
    "num=8\n",
    "for i in range(num):\n",
    "    more=driver.find_element_by_xpath('//a[@class=\"moreButton\"]')\n",
    "    more.click()\n",
    "    time.sleep(3)"
   ]
  },
  {
   "cell_type": "code",
   "execution_count": 14,
   "id": "375abda8",
   "metadata": {},
   "outputs": [],
   "source": [
    "for i in driver.find_elements_by_xpath('//div[@class=\"section stacked-carriers with-date\"]//div[2]//span'):\n",
    "    date.append(i.text)\n",
    "\n",
    "for i in driver.find_elements_by_xpath('//span[@class=\"depart-time base-time\"]'):\n",
    "    dep_time.append(i.text)\n",
    "\n",
    "\n",
    "for i in driver.find_elements_by_xpath('//span[@class=\"arrival-time base-time\"]'):\n",
    "    arr_time.append(i.text)\n",
    "\n",
    "\n",
    "for i in driver.find_elements_by_xpath('//span[@class=\"stops-text\"]'):\n",
    "    stop.append(i.text)\n",
    "\n",
    "\n",
    "for i in driver.find_elements_by_xpath('//div[@class=\"section duration allow-multi-modal-icons\"]'):\n",
    "    duration.append(i.text)\n",
    "\n",
    "\n",
    "for i in driver.find_elements_by_xpath('//span[@class=\"codeshares-airline-names\"]'):\n",
    "    airline.append(i.text)\n",
    "\n",
    "for i in driver.find_elements_by_xpath('//span[@class=\"airport-name\"]'):\n",
    "    source.append(i.text.split(\"-\")[0])\n",
    "\n",
    "\n",
    "\n",
    "for i in driver.find_elements_by_xpath('//span[@class=\"airport-name\"]'):\n",
    "    destination.append(i.text.split(\"-\")[0])\n",
    "\n",
    "\n",
    "\n",
    "for i in driver.find_elements_by_xpath('//div[@class=\"multibook-dropdown\"]//span//span[@class=\"price-text\"]'):\n",
    "    price.append(i.text)"
   ]
  },
  {
   "cell_type": "code",
   "execution_count": 15,
   "id": "52fa5630",
   "metadata": {},
   "outputs": [
    {
     "name": "stdout",
     "output_type": "stream",
     "text": [
      "468 468 468 468 936 936 468 468 468\n"
     ]
    }
   ],
   "source": [
    "print(len(date),len(dep_time),len(arr_time),len(airline),len(source),len(destination),len(price),len(stop),len(duration))"
   ]
  },
  {
   "cell_type": "code",
   "execution_count": 16,
   "id": "d07b075b",
   "metadata": {},
   "outputs": [],
   "source": [
    "driver.get('https://www.kayak.co.in/flights/MAA-DEL/2022-06-30-flexible-3days?sort=bestflight_a')  #Chennai to Delhi\n",
    "time.sleep(3)"
   ]
  },
  {
   "cell_type": "code",
   "execution_count": 17,
   "id": "f869a088",
   "metadata": {},
   "outputs": [],
   "source": [
    "num=10\n",
    "for i in range(num):\n",
    "    more=driver.find_element_by_xpath('//a[@class=\"moreButton\"]')\n",
    "    more.click()\n",
    "    time.sleep(3)"
   ]
  },
  {
   "cell_type": "code",
   "execution_count": 18,
   "id": "1a8255e2",
   "metadata": {},
   "outputs": [],
   "source": [
    "for i in driver.find_elements_by_xpath('//div[@class=\"section stacked-carriers with-date\"]//div[2]//span'):\n",
    "    date.append(i.text)\n",
    "\n",
    "for i in driver.find_elements_by_xpath('//span[@class=\"depart-time base-time\"]'):\n",
    "    dep_time.append(i.text)\n",
    "\n",
    "\n",
    "for i in driver.find_elements_by_xpath('//span[@class=\"arrival-time base-time\"]'):\n",
    "    arr_time.append(i.text)\n",
    "\n",
    "\n",
    "for i in driver.find_elements_by_xpath('//span[@class=\"stops-text\"]'):\n",
    "    stop.append(i.text)\n",
    "\n",
    "\n",
    "for i in driver.find_elements_by_xpath('//div[@class=\"section duration allow-multi-modal-icons\"]'):\n",
    "    duration.append(i.text)\n",
    "\n",
    "\n",
    "for i in driver.find_elements_by_xpath('//span[@class=\"codeshares-airline-names\"]'):\n",
    "    airline.append(i.text)\n",
    "\n",
    "for i in driver.find_elements_by_xpath('//span[@class=\"airport-name\"]'):\n",
    "    source.append(i.text.split(\"-\")[0])\n",
    "\n",
    "\n",
    "\n",
    "for i in driver.find_elements_by_xpath('//span[@class=\"airport-name\"]'):\n",
    "    destination.append(i.text.split(\"-\")[0])\n",
    "\n",
    "\n",
    "\n",
    "for i in driver.find_elements_by_xpath('//div[@class=\"multibook-dropdown\"]//span//span[@class=\"price-text\"]'):\n",
    "    price.append(i.text)"
   ]
  },
  {
   "cell_type": "code",
   "execution_count": 19,
   "id": "4e4cdfe6",
   "metadata": {},
   "outputs": [
    {
     "name": "stdout",
     "output_type": "stream",
     "text": [
      "633 633 633 633 1266 1266 633 633 633\n"
     ]
    }
   ],
   "source": [
    "print(len(date),len(dep_time),len(arr_time),len(airline),len(source),len(destination),len(price),len(stop),len(duration))"
   ]
  },
  {
   "cell_type": "code",
   "execution_count": 20,
   "id": "9b1ba557",
   "metadata": {},
   "outputs": [],
   "source": [
    "driver.get('https://www.kayak.co.in/flights/BOM-GAU/2022-06-30-flexible-3days?sort=bestflight_a')   #Mumbai to Guwahati\n",
    "time.sleep(3)"
   ]
  },
  {
   "cell_type": "code",
   "execution_count": 21,
   "id": "31cd7278",
   "metadata": {},
   "outputs": [],
   "source": [
    "num=10\n",
    "for i in range(num):\n",
    "    more=driver.find_element_by_xpath('//a[@class=\"moreButton\"]')\n",
    "    more.click()\n",
    "    time.sleep(3)"
   ]
  },
  {
   "cell_type": "code",
   "execution_count": 24,
   "id": "bf367ba8",
   "metadata": {},
   "outputs": [],
   "source": [
    "for i in driver.find_elements_by_xpath('//div[@class=\"section stacked-carriers with-date\"]//div[2]//span | //div[@class=\"section carrier with-date\"]//div//span'):\n",
    "    date.append(i.text)\n",
    "\n",
    "for i in driver.find_elements_by_xpath('//span[@class=\"depart-time base-time\"]'):\n",
    "    dep_time.append(i.text)\n",
    "\n",
    "\n",
    "for i in driver.find_elements_by_xpath('//span[@class=\"arrival-time base-time\"]'):\n",
    "    arr_time.append(i.text)\n",
    "\n",
    "\n",
    "for i in driver.find_elements_by_xpath('//span[@class=\"stops-text\"] | //span[@class=\"stops-text with-warning\"]'):\n",
    "    stop.append(i.text)\n",
    "\n",
    "\n",
    "for i in driver.find_elements_by_xpath('//div[@class=\"section duration allow-multi-modal-icons\"]'):\n",
    "    duration.append(i.text)\n",
    "\n",
    "\n",
    "for i in driver.find_elements_by_xpath('//span[@class=\"codeshares-airline-names\"]'):\n",
    "    airline.append(i.text)\n",
    "\n",
    "for i in driver.find_elements_by_xpath('//span[@class=\"airport-name\"]'):\n",
    "    source.append(i.text.split(\"-\")[0])\n",
    "\n",
    "\n",
    "\n",
    "for i in driver.find_elements_by_xpath('//span[@class=\"airport-name\"]'):\n",
    "    destination.append(i.text.split(\"-\")[0])\n",
    "\n",
    "\n",
    "\n",
    "for i in driver.find_elements_by_xpath('//div[@class=\"multibook-dropdown\"]//span//span[@class=\"price-text\"]'):\n",
    "    price.append(i.text)"
   ]
  },
  {
   "cell_type": "code",
   "execution_count": 25,
   "id": "a99cd5be",
   "metadata": {},
   "outputs": [
    {
     "name": "stdout",
     "output_type": "stream",
     "text": [
      "798 798 798 798 1596 1596 798 798 798\n"
     ]
    }
   ],
   "source": [
    "print(len(date),len(dep_time),len(arr_time),len(airline),len(source),len(destination),len(price),len(stop),len(duration))"
   ]
  },
  {
   "cell_type": "code",
   "execution_count": 26,
   "id": "7f1ff801",
   "metadata": {},
   "outputs": [],
   "source": [
    "driver.get('https://www.kayak.co.in/flights/DEL-CCJ/2022-06-30-flexible-3days?sort=bestflight_a')  #Delhi to Kolkata\n",
    "time.sleep(3)"
   ]
  },
  {
   "cell_type": "code",
   "execution_count": 27,
   "id": "0b1d1351",
   "metadata": {},
   "outputs": [],
   "source": [
    "num=8\n",
    "for i in range(num):\n",
    "    more=driver.find_element_by_xpath('//a[@class=\"moreButton\"]')\n",
    "    more.click()\n",
    "    time.sleep(3)"
   ]
  },
  {
   "cell_type": "code",
   "execution_count": 28,
   "id": "732004ea",
   "metadata": {},
   "outputs": [],
   "source": [
    "for i in driver.find_elements_by_xpath('//div[@class=\"section stacked-carriers with-date\"]//div[2]//span | //div[@class=\"section carrier with-date\"]//div//span'):\n",
    "    date.append(i.text)\n",
    "\n",
    "for i in driver.find_elements_by_xpath('//span[@class=\"depart-time base-time\"]'):\n",
    "    dep_time.append(i.text)\n",
    "\n",
    "\n",
    "for i in driver.find_elements_by_xpath('//span[@class=\"arrival-time base-time\"]'):\n",
    "    arr_time.append(i.text)\n",
    "\n",
    "\n",
    "for i in driver.find_elements_by_xpath('//span[@class=\"stops-text\"] | //span[@class=\"stops-text with-warning\"]'):\n",
    "    stop.append(i.text)\n",
    "\n",
    "\n",
    "for i in driver.find_elements_by_xpath('//div[@class=\"section duration allow-multi-modal-icons\"]'):\n",
    "    duration.append(i.text)\n",
    "\n",
    "\n",
    "for i in driver.find_elements_by_xpath('//span[@class=\"codeshares-airline-names\"]'):\n",
    "    airline.append(i.text)\n",
    "\n",
    "for i in driver.find_elements_by_xpath('//span[@class=\"airport-name\"]'):\n",
    "    source.append(i.text.split(\"-\")[0])\n",
    "\n",
    "\n",
    "\n",
    "for i in driver.find_elements_by_xpath('//span[@class=\"airport-name\"]'):\n",
    "    destination.append(i.text.split(\"-\")[0])\n",
    "\n",
    "\n",
    "\n",
    "for i in driver.find_elements_by_xpath('//div[@class=\"multibook-dropdown\"]//span//span[@class=\"price-text\"]'):\n",
    "    price.append(i.text)"
   ]
  },
  {
   "cell_type": "code",
   "execution_count": 29,
   "id": "e5ca55b0",
   "metadata": {},
   "outputs": [
    {
     "name": "stdout",
     "output_type": "stream",
     "text": [
      "922 922 922 922 1844 1844 922 922 922\n"
     ]
    }
   ],
   "source": [
    "print(len(date),len(dep_time),len(arr_time),len(airline),len(source),len(destination),len(price),len(stop),len(duration))"
   ]
  },
  {
   "cell_type": "code",
   "execution_count": 30,
   "id": "164a214b",
   "metadata": {},
   "outputs": [],
   "source": [
    "driver.get('https://www.kayak.co.in/flights/BLR-PNQ/2022-06-30-flexible-3days?sort=bestflight_a')  Bengaluru to Pune\n",
    "time.sleep(3)"
   ]
  },
  {
   "cell_type": "code",
   "execution_count": 31,
   "id": "bece5395",
   "metadata": {},
   "outputs": [],
   "source": [
    "num=6\n",
    "for i in range(num):\n",
    "    more=driver.find_element_by_xpath('//a[@class=\"moreButton\"]')\n",
    "    more.click()\n",
    "    time.sleep(3)"
   ]
  },
  {
   "cell_type": "code",
   "execution_count": 32,
   "id": "2dd3498c",
   "metadata": {},
   "outputs": [],
   "source": [
    "for i in driver.find_elements_by_xpath('//div[@class=\"section stacked-carriers with-date\"]//div[2]//span | //div[@class=\"section carrier with-date\"]//div//span'):\n",
    "    date.append(i.text)\n",
    "\n",
    "for i in driver.find_elements_by_xpath('//span[@class=\"depart-time base-time\"]'):\n",
    "    dep_time.append(i.text)\n",
    "\n",
    "\n",
    "for i in driver.find_elements_by_xpath('//span[@class=\"arrival-time base-time\"]'):\n",
    "    arr_time.append(i.text)\n",
    "\n",
    "\n",
    "for i in driver.find_elements_by_xpath('//span[@class=\"stops-text\"] | //span[@class=\"stops-text with-warning\"]'):\n",
    "    stop.append(i.text)\n",
    "\n",
    "\n",
    "for i in driver.find_elements_by_xpath('//div[@class=\"section duration allow-multi-modal-icons\"]'):\n",
    "    duration.append(i.text)\n",
    "\n",
    "\n",
    "for i in driver.find_elements_by_xpath('//span[@class=\"codeshares-airline-names\"]'):\n",
    "    airline.append(i.text)\n",
    "\n",
    "for i in driver.find_elements_by_xpath('//span[@class=\"airport-name\"]'):\n",
    "    source.append(i.text.split(\"-\")[0])\n",
    "\n",
    "\n",
    "\n",
    "for i in driver.find_elements_by_xpath('//span[@class=\"airport-name\"]'):\n",
    "    destination.append(i.text.split(\"-\")[0])\n",
    "\n",
    "\n",
    "\n",
    "for i in driver.find_elements_by_xpath('//div[@class=\"multibook-dropdown\"]//span//span[@class=\"price-text\"]'):\n",
    "    price.append(i.text)"
   ]
  },
  {
   "cell_type": "code",
   "execution_count": 33,
   "id": "f948a16b",
   "metadata": {},
   "outputs": [
    {
     "name": "stdout",
     "output_type": "stream",
     "text": [
      "1027 1027 1027 1027 2054 2054 1027 1027 1027\n"
     ]
    }
   ],
   "source": [
    "print(len(date),len(dep_time),len(arr_time),len(airline),len(source),len(destination),len(price),len(stop),len(duration))"
   ]
  },
  {
   "cell_type": "code",
   "execution_count": 34,
   "id": "fdc19e17",
   "metadata": {},
   "outputs": [],
   "source": [
    "driver.get('https://www.kayak.co.in/flights/BLR-JAI/2022-06-30-flexible-3days?sort=bestflight_a')  #Bengaluru to Jaipur\n",
    "time.sleep(3)"
   ]
  },
  {
   "cell_type": "code",
   "execution_count": 35,
   "id": "a3dbff19",
   "metadata": {},
   "outputs": [],
   "source": [
    "num=10\n",
    "for i in range(num):\n",
    "    more=driver.find_element_by_xpath('//a[@class=\"moreButton\"]')\n",
    "    more.click()\n",
    "    time.sleep(3)"
   ]
  },
  {
   "cell_type": "code",
   "execution_count": 36,
   "id": "28b00ba1",
   "metadata": {},
   "outputs": [],
   "source": [
    "for i in driver.find_elements_by_xpath('//div[@class=\"section stacked-carriers with-date\"]//div[2]//span | //div[@class=\"section carrier with-date\"]//div//span'):\n",
    "    date.append(i.text)\n",
    "\n",
    "for i in driver.find_elements_by_xpath('//span[@class=\"depart-time base-time\"]'):\n",
    "    dep_time.append(i.text)\n",
    "\n",
    "\n",
    "for i in driver.find_elements_by_xpath('//span[@class=\"arrival-time base-time\"]'):\n",
    "    arr_time.append(i.text)\n",
    "\n",
    "\n",
    "for i in driver.find_elements_by_xpath('//span[@class=\"stops-text\"] | //span[@class=\"stops-text with-warning\"]'):\n",
    "    stop.append(i.text)\n",
    "\n",
    "\n",
    "for i in driver.find_elements_by_xpath('//div[@class=\"section duration allow-multi-modal-icons\"]'):\n",
    "    duration.append(i.text)\n",
    "\n",
    "\n",
    "for i in driver.find_elements_by_xpath('//span[@class=\"codeshares-airline-names\"]'):\n",
    "    airline.append(i.text)\n",
    "\n",
    "for i in driver.find_elements_by_xpath('//span[@class=\"airport-name\"]'):\n",
    "    source.append(i.text.split(\"-\")[0])\n",
    "\n",
    "\n",
    "\n",
    "for i in driver.find_elements_by_xpath('//span[@class=\"airport-name\"]'):\n",
    "    destination.append(i.text.split(\"-\")[0])\n",
    "\n",
    "\n",
    "\n",
    "for i in driver.find_elements_by_xpath('//div[@class=\"multibook-dropdown\"]//span//span[@class=\"price-text\"]'):\n",
    "    price.append(i.text)"
   ]
  },
  {
   "cell_type": "code",
   "execution_count": 37,
   "id": "121c878e",
   "metadata": {},
   "outputs": [
    {
     "name": "stdout",
     "output_type": "stream",
     "text": [
      "1192 1192 1192 1192 2384 2384 1192 1192 1192\n"
     ]
    }
   ],
   "source": [
    "print(len(date),len(dep_time),len(arr_time),len(airline),len(source),len(destination),len(price),len(stop),len(duration))"
   ]
  },
  {
   "cell_type": "code",
   "execution_count": 38,
   "id": "487e94d0",
   "metadata": {},
   "outputs": [],
   "source": [
    "driver.get('https://www.kayak.co.in/flights/JAI-BOM/2022-06-30-flexible-3days?sort=bestflight_a')  #Jaipur to Mumbai\n",
    "time.sleep(3)"
   ]
  },
  {
   "cell_type": "code",
   "execution_count": 39,
   "id": "4e37b8ed",
   "metadata": {},
   "outputs": [],
   "source": [
    "num=8\n",
    "for i in range(num):\n",
    "    more=driver.find_element_by_xpath('//a[@class=\"moreButton\"]')\n",
    "    more.click()\n",
    "    time.sleep(3)"
   ]
  },
  {
   "cell_type": "code",
   "execution_count": 40,
   "id": "bc05b5cf",
   "metadata": {},
   "outputs": [],
   "source": [
    "for i in driver.find_elements_by_xpath('//div[@class=\"section stacked-carriers with-date\"]//div[2]//span | //div[@class=\"section carrier with-date\"]//div//span'):\n",
    "    date.append(i.text)\n",
    "\n",
    "for i in driver.find_elements_by_xpath('//span[@class=\"depart-time base-time\"]'):\n",
    "    dep_time.append(i.text)\n",
    "\n",
    "\n",
    "for i in driver.find_elements_by_xpath('//span[@class=\"arrival-time base-time\"]'):\n",
    "    arr_time.append(i.text)\n",
    "\n",
    "\n",
    "for i in driver.find_elements_by_xpath('//span[@class=\"stops-text\"] | //span[@class=\"stops-text with-warning\"]'):\n",
    "    stop.append(i.text)\n",
    "\n",
    "\n",
    "for i in driver.find_elements_by_xpath('//div[@class=\"section duration allow-multi-modal-icons\"]'):\n",
    "    duration.append(i.text)\n",
    "\n",
    "\n",
    "for i in driver.find_elements_by_xpath('//span[@class=\"codeshares-airline-names\"]'):\n",
    "    airline.append(i.text)\n",
    "\n",
    "for i in driver.find_elements_by_xpath('//span[@class=\"airport-name\"]'):\n",
    "    source.append(i.text.split(\"-\")[0])\n",
    "\n",
    "\n",
    "\n",
    "for i in driver.find_elements_by_xpath('//span[@class=\"airport-name\"]'):\n",
    "    destination.append(i.text.split(\"-\")[0])\n",
    "\n",
    "\n",
    "\n",
    "for i in driver.find_elements_by_xpath('//div[@class=\"multibook-dropdown\"]//span//span[@class=\"price-text\"]'):\n",
    "    price.append(i.text)"
   ]
  },
  {
   "cell_type": "code",
   "execution_count": 41,
   "id": "4c89cd66",
   "metadata": {},
   "outputs": [
    {
     "name": "stdout",
     "output_type": "stream",
     "text": [
      "1327 1327 1327 1327 2654 2654 1327 1327 1327\n"
     ]
    }
   ],
   "source": [
    "print(len(date),len(dep_time),len(arr_time),len(airline),len(source),len(destination),len(price),len(stop),len(duration))"
   ]
  },
  {
   "cell_type": "code",
   "execution_count": 42,
   "id": "45fc9bb2",
   "metadata": {},
   "outputs": [],
   "source": [
    "driver.get('https://www.kayak.co.in/flights/JAI-MAA/2022-06-30-flexible-3days?sort=bestflight_a')   #Jaipur to Chennai\n",
    "time.sleep(3)  "
   ]
  },
  {
   "cell_type": "code",
   "execution_count": 43,
   "id": "899d28ed",
   "metadata": {},
   "outputs": [],
   "source": [
    "num=10\n",
    "for i in range(num):\n",
    "    more=driver.find_element_by_xpath('//a[@class=\"moreButton\"]')\n",
    "    more.click()\n",
    "    time.sleep(3)"
   ]
  },
  {
   "cell_type": "code",
   "execution_count": 44,
   "id": "b1012b88",
   "metadata": {},
   "outputs": [],
   "source": [
    "for i in driver.find_elements_by_xpath('//div[@class=\"section stacked-carriers with-date\"]//div[2]//span | //div[@class=\"section carrier with-date\"]//div//span'):\n",
    "    date.append(i.text)\n",
    "\n",
    "for i in driver.find_elements_by_xpath('//span[@class=\"depart-time base-time\"]'):\n",
    "    dep_time.append(i.text)\n",
    "\n",
    "\n",
    "for i in driver.find_elements_by_xpath('//span[@class=\"arrival-time base-time\"]'):\n",
    "    arr_time.append(i.text)\n",
    "\n",
    "\n",
    "for i in driver.find_elements_by_xpath('//span[@class=\"stops-text\"] | //span[@class=\"stops-text with-warning\"]'):\n",
    "    stop.append(i.text)\n",
    "\n",
    "\n",
    "for i in driver.find_elements_by_xpath('//div[@class=\"section duration allow-multi-modal-icons\"]'):\n",
    "    duration.append(i.text)\n",
    "\n",
    "\n",
    "for i in driver.find_elements_by_xpath('//span[@class=\"codeshares-airline-names\"]'):\n",
    "    airline.append(i.text)\n",
    "\n",
    "for i in driver.find_elements_by_xpath('//span[@class=\"airport-name\"]'):\n",
    "    source.append(i.text.split(\"-\")[0])\n",
    "\n",
    "\n",
    "\n",
    "for i in driver.find_elements_by_xpath('//span[@class=\"airport-name\"]'):\n",
    "    destination.append(i.text.split(\"-\")[0])\n",
    "\n",
    "\n",
    "\n",
    "for i in driver.find_elements_by_xpath('//div[@class=\"multibook-dropdown\"]//span//span[@class=\"price-text\"]'):\n",
    "    price.append(i.text)"
   ]
  },
  {
   "cell_type": "code",
   "execution_count": 45,
   "id": "cfa2863e",
   "metadata": {},
   "outputs": [
    {
     "name": "stdout",
     "output_type": "stream",
     "text": [
      "1492 1492 1492 1492 2984 2984 1492 1492 1492\n"
     ]
    }
   ],
   "source": [
    "print(len(date),len(dep_time),len(arr_time),len(airline),len(source),len(destination),len(price),len(stop),len(duration))"
   ]
  },
  {
   "cell_type": "code",
   "execution_count": 46,
   "id": "7ccb7010",
   "metadata": {},
   "outputs": [],
   "source": [
    "driver.get('https://www.kayak.co.in/flights/DEL-CCU/2022-06-30-flexible-3days?sort=bestflight_a')  #Delhi to Kolkata\n",
    "time.sleep(3)"
   ]
  },
  {
   "cell_type": "code",
   "execution_count": 47,
   "id": "c87153a7",
   "metadata": {},
   "outputs": [],
   "source": [
    "num=10\n",
    "for i in range(num):\n",
    "    more=driver.find_element_by_xpath('//a[@class=\"moreButton\"]')\n",
    "    more.click()\n",
    "    time.sleep(3)"
   ]
  },
  {
   "cell_type": "code",
   "execution_count": 48,
   "id": "d293fd26",
   "metadata": {},
   "outputs": [],
   "source": [
    "for i in driver.find_elements_by_xpath('//div[@class=\"section stacked-carriers with-date\"]//div[2]//span | //div[@class=\"section carrier with-date\"]//div//span'):\n",
    "    date.append(i.text)\n",
    "\n",
    "for i in driver.find_elements_by_xpath('//span[@class=\"depart-time base-time\"]'):\n",
    "    dep_time.append(i.text)\n",
    "\n",
    "\n",
    "for i in driver.find_elements_by_xpath('//span[@class=\"arrival-time base-time\"]'):\n",
    "    arr_time.append(i.text)\n",
    "\n",
    "\n",
    "for i in driver.find_elements_by_xpath('//span[@class=\"stops-text\"] | //span[@class=\"stops-text with-warning\"]'):\n",
    "    stop.append(i.text)\n",
    "\n",
    "\n",
    "for i in driver.find_elements_by_xpath('//div[@class=\"section duration allow-multi-modal-icons\"]'):\n",
    "    duration.append(i.text)\n",
    "\n",
    "\n",
    "for i in driver.find_elements_by_xpath('//span[@class=\"codeshares-airline-names\"]'):\n",
    "    airline.append(i.text)\n",
    "\n",
    "for i in driver.find_elements_by_xpath('//span[@class=\"airport-name\"]'):\n",
    "    source.append(i.text.split(\"-\")[0])\n",
    "\n",
    "\n",
    "\n",
    "for i in driver.find_elements_by_xpath('//span[@class=\"airport-name\"]'):\n",
    "    destination.append(i.text.split(\"-\")[0])\n",
    "\n",
    "\n",
    "\n",
    "for i in driver.find_elements_by_xpath('//div[@class=\"multibook-dropdown\"]//span//span[@class=\"price-text\"]'):\n",
    "    price.append(i.text)"
   ]
  },
  {
   "cell_type": "code",
   "execution_count": 49,
   "id": "cbf6362a",
   "metadata": {},
   "outputs": [
    {
     "name": "stdout",
     "output_type": "stream",
     "text": [
      "1658 1658 1658 1658 3316 3316 1658 1658 1658\n"
     ]
    }
   ],
   "source": [
    "print(len(date),len(dep_time),len(arr_time),len(airline),len(source),len(destination),len(price),len(stop),len(duration))"
   ]
  },
  {
   "cell_type": "code",
   "execution_count": 50,
   "id": "f39eff70",
   "metadata": {},
   "outputs": [
    {
     "data": {
      "text/plain": [
       "1658"
      ]
     },
     "execution_count": 50,
     "metadata": {},
     "output_type": "execute_result"
    }
   ],
   "source": [
    "source=source[::2]\n",
    "len(source)"
   ]
  },
  {
   "cell_type": "code",
   "execution_count": 51,
   "id": "1e44acad",
   "metadata": {},
   "outputs": [
    {
     "data": {
      "text/plain": [
       "1658"
      ]
     },
     "execution_count": 51,
     "metadata": {},
     "output_type": "execute_result"
    }
   ],
   "source": [
    "destination=destination[1::2]\n",
    "len(destination)"
   ]
  },
  {
   "cell_type": "code",
   "execution_count": 53,
   "id": "5d5fe54a",
   "metadata": {},
   "outputs": [],
   "source": [
    "source=[i.split(\" \",1)[0] for i in source]\n",
    "destination=[i.split(\" \",1)[0] for i in destination]\n",
    "price=[i.split(\" \")[1] for i in price]"
   ]
  },
  {
   "cell_type": "code",
   "execution_count": 56,
   "id": "eb36d068",
   "metadata": {},
   "outputs": [
    {
     "data": {
      "text/plain": [
       "1658"
      ]
     },
     "execution_count": 56,
     "metadata": {},
     "output_type": "execute_result"
    }
   ],
   "source": [
    "airline=[i.split(\",\")[0] for i in airline]\n",
    "len(airline)"
   ]
  },
  {
   "cell_type": "code",
   "execution_count": 57,
   "id": "90857531",
   "metadata": {},
   "outputs": [
    {
     "data": {
      "text/html": [
       "<div>\n",
       "<style scoped>\n",
       "    .dataframe tbody tr th:only-of-type {\n",
       "        vertical-align: middle;\n",
       "    }\n",
       "\n",
       "    .dataframe tbody tr th {\n",
       "        vertical-align: top;\n",
       "    }\n",
       "\n",
       "    .dataframe thead th {\n",
       "        text-align: right;\n",
       "    }\n",
       "</style>\n",
       "<table border=\"1\" class=\"dataframe\">\n",
       "  <thead>\n",
       "    <tr style=\"text-align: right;\">\n",
       "      <th></th>\n",
       "      <th>Date</th>\n",
       "      <th>Airline</th>\n",
       "      <th>Source</th>\n",
       "      <th>Destination</th>\n",
       "      <th>Departure Time</th>\n",
       "      <th>Arrival Time</th>\n",
       "      <th>Total Stops</th>\n",
       "      <th>Duration</th>\n",
       "      <th>Price</th>\n",
       "    </tr>\n",
       "  </thead>\n",
       "  <tbody>\n",
       "    <tr>\n",
       "      <th>0</th>\n",
       "      <td>30/6</td>\n",
       "      <td>GoFirst</td>\n",
       "      <td>BOM</td>\n",
       "      <td>BLR</td>\n",
       "      <td>06:00</td>\n",
       "      <td>07:40</td>\n",
       "      <td>direct</td>\n",
       "      <td>1h 40m</td>\n",
       "      <td>5,281</td>\n",
       "    </tr>\n",
       "    <tr>\n",
       "      <th>1</th>\n",
       "      <td>30/6</td>\n",
       "      <td>Vistara</td>\n",
       "      <td>BOM</td>\n",
       "      <td>BLR</td>\n",
       "      <td>16:30</td>\n",
       "      <td>18:15</td>\n",
       "      <td>direct</td>\n",
       "      <td>1h 45m</td>\n",
       "      <td>4,843</td>\n",
       "    </tr>\n",
       "    <tr>\n",
       "      <th>2</th>\n",
       "      <td>30/6</td>\n",
       "      <td>AirAsia India</td>\n",
       "      <td>BOM</td>\n",
       "      <td>BLR</td>\n",
       "      <td>21:20</td>\n",
       "      <td>23:10</td>\n",
       "      <td>direct</td>\n",
       "      <td>1h 50m</td>\n",
       "      <td>4,518</td>\n",
       "    </tr>\n",
       "    <tr>\n",
       "      <th>3</th>\n",
       "      <td>30/6</td>\n",
       "      <td>Vistara</td>\n",
       "      <td>BOM</td>\n",
       "      <td>BLR</td>\n",
       "      <td>06:00</td>\n",
       "      <td>07:50</td>\n",
       "      <td>direct</td>\n",
       "      <td>1h 50m</td>\n",
       "      <td>4,843</td>\n",
       "    </tr>\n",
       "    <tr>\n",
       "      <th>4</th>\n",
       "      <td>1/7</td>\n",
       "      <td>Vistara</td>\n",
       "      <td>BOM</td>\n",
       "      <td>BLR</td>\n",
       "      <td>16:30</td>\n",
       "      <td>18:15</td>\n",
       "      <td>direct</td>\n",
       "      <td>1h 45m</td>\n",
       "      <td>5,072</td>\n",
       "    </tr>\n",
       "  </tbody>\n",
       "</table>\n",
       "</div>"
      ],
      "text/plain": [
       "   Date        Airline Source Destination Departure Time Arrival Time  \\\n",
       "0  30/6        GoFirst    BOM         BLR          06:00        07:40   \n",
       "1  30/6        Vistara    BOM         BLR          16:30        18:15   \n",
       "2  30/6  AirAsia India    BOM         BLR          21:20        23:10   \n",
       "3  30/6        Vistara    BOM         BLR          06:00        07:50   \n",
       "4   1/7        Vistara    BOM         BLR          16:30        18:15   \n",
       "\n",
       "  Total Stops Duration  Price  \n",
       "0      direct   1h 40m  5,281  \n",
       "1      direct   1h 45m  4,843  \n",
       "2      direct   1h 50m  4,518  \n",
       "3      direct   1h 50m  4,843  \n",
       "4      direct   1h 45m  5,072  "
      ]
     },
     "execution_count": 57,
     "metadata": {},
     "output_type": "execute_result"
    }
   ],
   "source": [
    "flight=pd.DataFrame({'Date':date,'Airline':airline,'Source':source,'Destination':destination,'Departure Time':dep_time,'Arrival Time':arr_time,'Total Stops':stop,'Duration':duration,'Price':price})\n",
    "flight.head()"
   ]
  },
  {
   "cell_type": "code",
   "execution_count": 58,
   "id": "cbbe67ac",
   "metadata": {},
   "outputs": [],
   "source": [
    "flight.to_csv('F:\\\\Data Trained\\\\flight_price.csv',encoding='utf-8')  #storing the file into csv format"
   ]
  },
  {
   "cell_type": "code",
   "execution_count": null,
   "id": "c683e773",
   "metadata": {},
   "outputs": [],
   "source": []
  }
 ],
 "metadata": {
  "kernelspec": {
   "display_name": "Python 3 (ipykernel)",
   "language": "python",
   "name": "python3"
  },
  "language_info": {
   "codemirror_mode": {
    "name": "ipython",
    "version": 3
   },
   "file_extension": ".py",
   "mimetype": "text/x-python",
   "name": "python",
   "nbconvert_exporter": "python",
   "pygments_lexer": "ipython3",
   "version": "3.9.7"
  }
 },
 "nbformat": 4,
 "nbformat_minor": 5
}
